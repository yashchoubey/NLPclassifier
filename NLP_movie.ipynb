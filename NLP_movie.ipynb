{
 "cells": [
  {
   "cell_type": "code",
   "execution_count": 1,
   "metadata": {},
   "outputs": [],
   "source": [
    "import urllib2\n",
    "import requests\n",
    "import json\n",
    "#import imdb\n",
    "import time\n",
    "import itertools\n",
    "import wget\n",
    "import os\n",
    "import tmdbsimple as tmdb\n",
    "import numpy as np\n",
    "import random\n",
    "import matplotlib\n",
    "import matplotlib.pyplot as plt\n",
    "%matplotlib inline\n",
    "import seaborn as sns\n",
    "import pickle"
   ]
  },
  {
   "cell_type": "code",
   "execution_count": 2,
   "metadata": {},
   "outputs": [
    {
     "name": "stdout",
     "output_type": "stream",
     "text": [
      "Folder already exists\n"
     ]
    }
   ],
   "source": [
    "# set here the path where you want the scraped folders to be saved!\n",
    "poster_folder='posters_final/'\n",
    "if poster_folder.split('/')[0] in os.listdir('./'):\n",
    "    print('Folder already exists')\n",
    "else:\n",
    "    os.mkdir('./'+poster_folder)"
   ]
  },
  {
   "cell_type": "code",
   "execution_count": 3,
   "metadata": {},
   "outputs": [],
   "source": [
    "# For the purpose of this example, i will be working with the 1999 Sci-Fi movie - \"The Matrix\"!\n",
    "\n",
    "api_key = '1fea3cec89e5971c008e47892726db08' #Enter your own API key here to run the code below. \n",
    "# Generate your own API key as explained above :)\n",
    "\n",
    "\n",
    "tmdb.API_KEY = api_key #This sets the API key setting for the tmdb object\n",
    "search = tmdb.Search() #this instantiates a tmdb \"search\" object which allows your to search for the movie\n",
    "\n",
    "# These functions take in a string movie name i.e. like \"The Matrix\" or \"Interstellar\"\n",
    "# What they return is pretty much clear in the name - Poster, ID , Info or genre of the Movie!\n",
    "def grab_poster_tmdb(movie):\n",
    "    response = search.movie(query=movie)\n",
    "    id=response['results'][0]['id']\n",
    "    movie = tmdb.Movies(id)\n",
    "    posterp=movie.info()['poster_path']\n",
    "    title=movie.info()['original_title']\n",
    "    url='image.tmdb.org/t/p/original'+posterp\n",
    "    title='_'.join(title.split(' '))\n",
    "    strcmd='wget -O '+poster_folder+title+'.jpg '+url\n",
    "    os.system(strcmd)\n",
    "\n",
    "def get_movie_id_tmdb(movie):\n",
    "    response = search.movie(query=movie)\n",
    "    movie_id=response['results'][0]['id']\n",
    "    return movie_id\n",
    "\n",
    "def get_movie_info_tmdb(movie):\n",
    "    response = search.movie(query=movie)\n",
    "    id=response['results'][0]['id']\n",
    "    movie = tmdb.Movies(id)\n",
    "    info=movie.info()\n",
    "    return info\n",
    "\n",
    "def get_movie_genres_tmdb(movie):\n",
    "    response = search.movie(query=movie)\n",
    "    id=response['results'][0]['id']\n",
    "    movie = tmdb.Movies(id)\n",
    "    genres=movie.info()['genres']\n",
    "    return genres"
   ]
  },
  {
   "cell_type": "code",
   "execution_count": 4,
   "metadata": {},
   "outputs": [
    {
     "name": "stdout",
     "output_type": "stream",
     "text": [
      "All the Movie information from TMDB gets stored in a dictionary with the following keys for easy access -\n"
     ]
    },
    {
     "data": {
      "text/plain": [
       "[u'poster_path',\n",
       " u'production_countries',\n",
       " u'revenue',\n",
       " u'overview',\n",
       " u'video',\n",
       " u'id',\n",
       " u'genres',\n",
       " u'title',\n",
       " u'tagline',\n",
       " u'vote_count',\n",
       " u'homepage',\n",
       " u'belongs_to_collection',\n",
       " u'original_language',\n",
       " u'status',\n",
       " u'spoken_languages',\n",
       " u'imdb_id',\n",
       " u'adult',\n",
       " u'backdrop_path',\n",
       " u'production_companies',\n",
       " u'release_date',\n",
       " u'popularity',\n",
       " u'original_title',\n",
       " u'budget',\n",
       " u'vote_average',\n",
       " u'runtime']"
      ]
     },
     "execution_count": 4,
     "metadata": {},
     "output_type": "execute_result"
    }
   ],
   "source": [
    "info=get_movie_info_tmdb(\"The Matrix\")\n",
    "print \"All the Movie information from TMDB gets stored in a dictionary with the following keys for easy access -\"\n",
    "info.keys()"
   ]
  },
  {
   "cell_type": "markdown",
   "metadata": {},
   "source": [
    "## Getting movie information from IMDB"
   ]
  },
  {
   "cell_type": "markdown",
   "metadata": {},
   "source": [
    "Now that we know how to get information from TMDB, here's how we can get information about the same movie from IMDB. This makes it possible for us to combine more information, and get a richer dataset. I urge you to try and see what dataset you can make, and go above and beyond the basic things I've done in this tutorial. Due to the differences between the two datasets, you will have to do some cleaning, however both of these datasets are extremely clean and it will be minimal."
   ]
  },
  {
   "cell_type": "code",
   "execution_count": 5,
   "metadata": {},
   "outputs": [],
   "source": [
    "# # Create the IMDB object that will be used to access the IMDb's database.\n",
    "# from imdb import IMDb\n",
    "# imbd_object =IMDb() # by default access the web.\n",
    "\n",
    "# # Search for a movie (get a list of Movie objects).\n",
    "# results = imbd_object.search_movie('The Matrix')\n",
    "\n",
    "# # As this returns a list of all movies containing the word \"The Matrix\", we pick the first element\n",
    "# movie = results[0]\n",
    "\n",
    "# imbd_object.update(movie)\n",
    "\n",
    "# print \"All the information we can get about this movie from IMDB-\"\n",
    "# movie.keys()"
   ]
  },
  {
   "cell_type": "code",
   "execution_count": 6,
   "metadata": {},
   "outputs": [],
   "source": [
    "# print \"The genres associated with the movie are - \",movie['genres']"
   ]
  },
  {
   "cell_type": "markdown",
   "metadata": {},
   "source": [
    "## A small comparison of IMDB and TMDB"
   ]
  },
  {
   "cell_type": "markdown",
   "metadata": {},
   "source": [
    "Now that we have both systems running, let's do a very short comparison for the same movie?"
   ]
  },
  {
   "cell_type": "code",
   "execution_count": 7,
   "metadata": {},
   "outputs": [],
   "source": [
    "# print \"The genres for The Matrix pulled from IMDB are -\",movie['genres']\n",
    "# print \"The genres for The Matrix pulled from TMDB are -\",get_movie_genres_tmdb(\"The Matrix\")"
   ]
  },
  {
   "cell_type": "markdown",
   "metadata": {},
   "source": [
    "As we can see, both the systems are correct, but the way they package information is different. TMDB calls it \"Science Fiction\" and has an ID for every genre. While IMDB calls it \"Sci-Fi\". Thus, it is important to keep track of these things when making use of both the datasets simultaneously."
   ]
  },
  {
   "cell_type": "markdown",
   "metadata": {},
   "source": [
    "Now that we know how to scrape information for one movie, let's take a bigger step towards scraping multiple movies?"
   ]
  },
  {
   "cell_type": "markdown",
   "metadata": {},
   "source": [
    "## Working with multiple movies : Obtaining Top 20 movies from TMDB"
   ]
  },
  {
   "cell_type": "markdown",
   "metadata": {},
   "source": [
    "We first instantiate an object that inherits from class Movies from TMDB. Then We use the **popular()** class method (i.e. function) to get top movies. To get more than one page of results, the optional page argument lets us see movies from any specified page number."
   ]
  },
  {
   "cell_type": "code",
   "execution_count": 8,
   "metadata": {},
   "outputs": [
    {
     "name": "stdout",
     "output_type": "stream",
     "text": [
      "20\n"
     ]
    }
   ],
   "source": [
    "all_movies=tmdb.Movies()\n",
    "top_movies=all_movies.popular()\n",
    "\n",
    "# This is a dictionary, and to access results we use the key 'results' which returns info on 20 movies\n",
    "print(len(top_movies['results']))\n",
    "top20_movs=top_movies['results']"
   ]
  },
  {
   "cell_type": "markdown",
   "metadata": {},
   "source": [
    "So, TMDB doesn't want to make your job as easy as you thought. Why these random numbers? Want to see their genre names? Well, there's the Genre() class for it. Let's get this done!"
   ]
  },
  {
   "cell_type": "code",
   "execution_count": 9,
   "metadata": {},
   "outputs": [],
   "source": [
    "# Create a tmdb genre object!\n",
    "genres=tmdb.Genres()\n",
    "# the list() method of the Genres() class returns a listing of all genres in the form of a dictionary.\n",
    "list_of_genres=genres.movie_list()['genres']"
   ]
  },
  {
   "cell_type": "markdown",
   "metadata": {},
   "source": [
    "Let's convert this list into a nice dictionary to look up genre names from genre IDs!"
   ]
  },
  {
   "cell_type": "code",
   "execution_count": 10,
   "metadata": {},
   "outputs": [],
   "source": [
    "Genre_ID_to_name={}\n",
    "for i in range(len(list_of_genres)):\n",
    "    genre_id=list_of_genres[i]['id']\n",
    "    genre_name=list_of_genres[i]['name']\n",
    "    Genre_ID_to_name[genre_id]=genre_name"
   ]
  },
  {
   "cell_type": "markdown",
   "metadata": {},
   "source": [
    "# Section 4 - Building a dataset to work with : Let's take a look at the top 1000 movies from the database"
   ]
  },
  {
   "cell_type": "code",
   "execution_count": 11,
   "metadata": {},
   "outputs": [],
   "source": [
    "all_movies=tmdb.Movies()\n",
    "top_movies=all_movies.popular()\n",
    "\n",
    "# This is a dictionary, and to access results we use the key 'results' which returns info on 20 movies\n",
    "len(top_movies['results'])\n",
    "top20_movs=top_movies['results']"
   ]
  },
  {
   "cell_type": "code",
   "execution_count": 12,
   "metadata": {},
   "outputs": [],
   "source": [
    "# Comment out this cell once the data is saved into pickle file.\n",
    "# all_movies=tmdb.Movies()\n",
    "# top1000_movies=[]\n",
    "# print('Pulling movie list, Please wait...')\n",
    "# for i in range(1,51):\n",
    "#     if i%15==0:\n",
    "#         time.sleep(7)\n",
    "#     movies_on_this_page=all_movies.popular(page=i)['results']\n",
    "#     top1000_movies.extend(movies_on_this_page)\n",
    "# len(top1000_movies)\n",
    "# f3=open('movie_list.pckl','wb')\n",
    "# pickle.dump(top1000_movies,f3)\n",
    "# f3.close()\n",
    "# print('Done!')"
   ]
  },
  {
   "cell_type": "code",
   "execution_count": 14,
   "metadata": {},
   "outputs": [],
   "source": [
    "f3=open('movie_list.pckl','rb')\n",
    "top1000_movies=pickle.load(f3)\n",
    "f3.close()"
   ]
  },
  {
   "cell_type": "markdown",
   "metadata": {},
   "source": [
    "# Pairwise analysis of Movie Genres"
   ]
  },
  {
   "cell_type": "markdown",
   "metadata": {},
   "source": [
    "As our dataset is multi label, simply looking at the ditribution of genres is not sufficient. It might be beneficial to see which genres co-occur, as it might shed some light on inherent biases in our dataset. For example, it would make sense if romance and comedy occur together more often than documentary and comedy. Such inherent biases tell us that the underlying population we are sampling from itself is skewed and not balanced. We may then take steps to account for such problems. Even if we don't take such steps, it is important to be aware that we are making the assumption that an unbalanced dataset is not hurting our performance and if need be, we can come back to address this assumption. Good old scientific method, eh?\n",
    "\n",
    "So for the top 1000 movies let's do some pairwise analysis for genre distributions. Our main purpose is to see which genres occur together in the same movie. So, we first define a function which takes a list and makes all possible pairs from it. Then, we pull the list of genres for a movie and run this function on the list of genres to get all pairs of genres which occur together"
   ]
  },
  {
   "cell_type": "code",
   "execution_count": 15,
   "metadata": {},
   "outputs": [],
   "source": [
    "# This function just generates all possible pairs of movies\n",
    "def list2pairs(l):\n",
    "    # itertools.combinations(l,2) makes all pairs of length 2 from list l.\n",
    "    pairs = list(itertools.combinations(l, 2))\n",
    "    # then the one item pairs, as duplicate pairs aren't accounted for by itertools\n",
    "    for i in l:\n",
    "        pairs.append([i,i])\n",
    "    return pairs"
   ]
  },
  {
   "cell_type": "markdown",
   "metadata": {},
   "source": [
    "As mentioned, now we will pull genres for each movie, and use above function to count occurrences of when two genres occurred together"
   ]
  },
  {
   "cell_type": "code",
   "execution_count": 16,
   "metadata": {},
   "outputs": [],
   "source": [
    "# get all genre lists pairs from all movies\n",
    "allPairs = []\n",
    "for movie in top1000_movies:\n",
    "    allPairs.extend(list2pairs(movie['genre_ids']))\n",
    "    \n",
    "nr_ids = np.unique(allPairs)\n",
    "visGrid = np.zeros((len(nr_ids), len(nr_ids)))\n",
    "for p in allPairs:\n",
    "    visGrid[np.argwhere(nr_ids==p[0]), np.argwhere(nr_ids==p[1])]+=1\n",
    "    if p[1] != p[0]:\n",
    "        visGrid[np.argwhere(nr_ids==p[1]), np.argwhere(nr_ids==p[0])]+=1"
   ]
  },
  {
   "cell_type": "markdown",
   "metadata": {},
   "source": [
    "Let's take a look at the structure we just made. It is a 19X19 structure, as shown below. Also, see that we had 19 Genres. Needless to say, this structure counts the number of simultaneous occurrences of genres in same movie."
   ]
  },
  {
   "cell_type": "code",
   "execution_count": 17,
   "metadata": {},
   "outputs": [
    {
     "name": "stdout",
     "output_type": "stream",
     "text": [
      "(19, 19)\n",
      "19\n"
     ]
    }
   ],
   "source": [
    "print visGrid.shape\n",
    "print len(Genre_ID_to_name.keys())"
   ]
  },
  {
   "cell_type": "code",
   "execution_count": 18,
   "metadata": {},
   "outputs": [
    {
     "data": {
      "text/plain": [
       "<matplotlib.axes._subplots.AxesSubplot at 0x7f46e955ea50>"
      ]
     },
     "execution_count": 18,
     "metadata": {},
     "output_type": "execute_result"
    },
    {
     "data": {
      "image/png": "[encoded data removed]",
      "text/plain": [
       "<Figure size 432x288 with 2 Axes>"
      ]
     },
     "metadata": {},
     "output_type": "display_data"
    }
   ],
   "source": [
    "annot_lookup = []\n",
    "for i in xrange(len(nr_ids)):\n",
    "    annot_lookup.append(Genre_ID_to_name[nr_ids[i]])\n",
    "\n",
    "sns.heatmap(visGrid, xticklabels=annot_lookup, yticklabels=annot_lookup)"
   ]
  },
  {
   "cell_type": "markdown",
   "metadata": {},
   "source": [
    "The above image shows how often the genres occur together, as a heatmap"
   ]
  },
  {
   "cell_type": "markdown",
   "metadata": {},
   "source": [
    "Important thing to notice in the above plot is the diagonal. The diagonal corresponds to self-pairs, i.e. number of times a genre, say Drama occurred with Drama. Which is basically just a count of the total times that genre occurred! \n",
    "\n",
    "As we can see there are a lot of dramas in the data set, it is also a very unspecific label. There are nearly no documentaries or TV Movies. Horror is a very distinct label, and romance is also not too widely spread. \n",
    "\n",
    "To account for this unbalanced data, there are multiple things we can try to explore what interesting relationships can be found."
   ]
  },
  {
   "cell_type": "markdown",
   "metadata": {},
   "source": [
    "## Delving Deeper into co-occurrence of genres"
   ]
  },
  {
   "cell_type": "markdown",
   "metadata": {},
   "source": [
    "What we want to do now is to look for nice groups of genres that co-occur, and see if it makes sense to us logically? Intuitively speaking, wouldn't it be fun if we saw nice boxes on the above plot - boxes of high intensity i.e. genres that occur together and don't occur much with other genres. In some ways, that would isolate the co-occurrence of some genres, and heighten the co-occurrence of others.\n",
    "\n",
    "While the data may not show that directly, we can play with the numbers to see if that's possible. The technique used for that is called biclustering."
   ]
  },
  {
   "cell_type": "code",
   "execution_count": 19,
   "metadata": {},
   "outputs": [],
   "source": [
    "from sklearn.cluster import SpectralCoclustering"
   ]
  },
  {
   "cell_type": "code",
   "execution_count": 20,
   "metadata": {},
   "outputs": [
    {
     "data": {
      "image/png": "[encoded data removed]",
      "text/plain": [
       "<Figure size 432x288 with 2 Axes>"
      ]
     },
     "metadata": {},
     "output_type": "display_data"
    }
   ],
   "source": [
    "model = SpectralCoclustering(n_clusters=5)\n",
    "model.fit(visGrid)\n",
    "\n",
    "fit_data = visGrid[np.argsort(model.row_labels_)]\n",
    "fit_data = fit_data[:, np.argsort(model.column_labels_)]\n",
    "\n",
    "annot_lookup_sorted = []\n",
    "for i in np.argsort(model.row_labels_):\n",
    "    annot_lookup_sorted.append(Genre_ID_to_name[nr_ids[i]])\n",
    "    \n",
    "sns.heatmap(fit_data, xticklabels=annot_lookup_sorted, yticklabels=annot_lookup_sorted, annot=False)\n",
    "plt.title(\"After biclustering; rearranged to show biclusters\")\n",
    "\n",
    "plt.show()"
   ]
  },
  {
   "cell_type": "markdown",
   "metadata": {},
   "source": [
    "Looking at the above figure, \"boxes\" or groups of movie genres automatically emerge! \n",
    "\n",
    "Intuitively - Crime, Sci-Fi, Mystery, Action, Horror, Drama, Thriller, etc co-occur. \n",
    "AND, Romance, Fantasy, Family, Music, Adventure, etc co-occur. \n",
    "\n",
    "That makes a lot of intuitive sense, right?\n",
    "\n",
    "One challenge is the broad range of the drama genre. It makes the two clusters highly overlapping. If we merge it together with action thriller, etc. We will end up with nearly all movies just having that label. "
   ]
  },
  {
   "cell_type": "markdown",
   "metadata": {},
   "source": [
    "**Based on playing around with the stuff above, we can sort the data into the following genre categories - \"Drama, Action, ScienceFiction, exciting(thriller, crime, mystery), uplifting(adventure, fantasy, animation, comedy, romance, family), Horror, History\"**\n",
    "\n",
    "\n",
    "Note: that this categorization is subjective and by no means the only right solution. One could also just stay with the original labels and only exclude the ones with not enough data. Such tricks are important to balance the dataset, it allows us to increase or decrease the strength of certain signals, making it possible to improve our inferences :)"
   ]
  },
  {
   "cell_type": "markdown",
   "metadata": {},
   "source": [
    "# Interesting Questions\n",
    "This really should be a place for you to get creative and hopefully come up with better questions than me. \n",
    "\n",
    "Here are some of my thoughts:\n",
    "- Which actors are bound to a genre, and which can easily hop genres?\n",
    "- Is there a trend in genre popularity over the years?\n",
    "- Can you use sound tracks to identify the genre of a movie?\n",
    "- Are top romance actors higher paid than top action actors?\n",
    "- If you look at release date vs popularity score, which movie genres have a longer shelf life?\n",
    "\n",
    "Ideas to explore specifically for feature correlations:\n",
    "- Are title length correlated with movie genre?\n",
    "- Are movie posters darker for horror than for romance end comedy?\n",
    "- Are some genres specifically released more often at a certain time of year? \n",
    "- Is the RPG rating correlated with the genre?"
   ]
  },
  {
   "cell_type": "markdown",
   "metadata": {},
   "source": [
    "# Based on this new category set, we will now pull posters from TMDB as our training data!"
   ]
  },
  {
   "cell_type": "code",
   "execution_count": 21,
   "metadata": {},
   "outputs": [],
   "source": [
    "# Done before, reading from pickle file now to maintain consistency of data!\n",
    "# We now sample 100 movies per genre. Problem is that the sorting is by popular movies, so they will overlap. \n",
    "# Need to exclude movies that were already sampled. \n",
    "# movies = []\n",
    "# baseyear = 2017\n",
    "\n",
    "# print('Starting pulling movies from TMDB. If you want to debug, uncomment the print command. This will take a while, please wait...')\n",
    "# done_ids=[]\n",
    "# for g_id in nr_ids:\n",
    "#     #print('Pulling movies for genre ID '+g_id)\n",
    "#     baseyear -= 1\n",
    "#     for page in xrange(1,6,1):\n",
    "#         time.sleep(0.5)\n",
    "    \n",
    "#         url = 'https://api.themoviedb.org/3/discover/movie?api_key=' + api_key\n",
    "#         url += '&language=en-US&sort_by=popularity.desc&year=' + str(baseyear) \n",
    "#         url += '&with_genres=' + str(g_id) + '&page=' + str(page)\n",
    "\n",
    "#         data = urllib2.urlopen(url).read()\n",
    "\n",
    "#         dataDict = json.loads(data)\n",
    "#         movies.extend(dataDict[\"results\"])\n",
    "#     done_ids.append(str(g_id))\n",
    "# print(\"Pulled movies for genres - \"+','.join(done_ids))"
   ]
  },
  {
   "cell_type": "code",
   "execution_count": 22,
   "metadata": {},
   "outputs": [],
   "source": [
    "# f6=open(\"movies_for_posters\",'wb')\n",
    "# pickle.dump(movies,f6)\n",
    "# f6.close()"
   ]
  },
  {
   "cell_type": "code",
   "execution_count": 37,
   "metadata": {},
   "outputs": [],
   "source": [
    "f6=open(\"movies_for_posters\",'rb')\n",
    "movies=pickle.load(f6)\n",
    "f6.close()"
   ]
  },
  {
   "cell_type": "markdown",
   "metadata": {},
   "source": [
    "Let's remove any duplicates that we have in the list of movies"
   ]
  },
  {
   "cell_type": "code",
   "execution_count": 38,
   "metadata": {},
   "outputs": [
    {
     "name": "stdout",
     "output_type": "stream",
     "text": [
      "originally we had  1777  movies\n",
      "1701\n",
      "After removing duplicates we have  1701  movies\n"
     ]
    }
   ],
   "source": [
    "movie_ids = [m['id'] for m in movies]\n",
    "print \"originally we had \",len(movie_ids),\" movies\"\n",
    "movie_ids=np.unique(movie_ids)\n",
    "print len(movie_ids)\n",
    "seen_before=[]\n",
    "no_duplicate_movies=[]\n",
    "for i in range(len(movies)):\n",
    "    movie=movies[i]\n",
    "    id=movie['id']\n",
    "    if id in seen_before:\n",
    "        continue#         print \"Seen before\"\n",
    "    else:\n",
    "        seen_before.append(id)\n",
    "        no_duplicate_movies.append(movie)\n",
    "print \"After removing duplicates we have \",len(no_duplicate_movies), \" movies\""
   ]
  },
  {
   "cell_type": "markdown",
   "metadata": {},
   "source": [
    "Also, let's remove movies for which we have no posters!"
   ]
  },
  {
   "cell_type": "code",
   "execution_count": null,
   "metadata": {
    "scrolled": true
   },
   "outputs": [],
   "source": [
    "# poster_movies=[]\n",
    "# counter=0\n",
    "# movies_no_poster=[]\n",
    "# print(\"Total movies : \",len(movies))\n",
    "# # print(\"Started downloading posters...\")\n",
    "# # for movie in movies:\n",
    "# #     id=movie['id']\n",
    "# #     title=movie['title']\n",
    "# #     if counter==1:\n",
    "# #         print('Downloaded first. Code is working fine. Please wait, this will take quite some time...')\n",
    "# #     if counter%300==0 and counter!=0:\n",
    "# #         print \"Done with \",counter,\" movies!\"\n",
    "# #         print \"Trying to get poster for \",title\n",
    "# #     try:\n",
    "# #         grab_poster_tmdb(title)\n",
    "# #         poster_movies.append(movie)\n",
    "# #     except:\n",
    "# #         try:\n",
    "# #             time.sleep(7)\n",
    "# #             grab_poster_tmdb(title)\n",
    "# #             poster_movies.append(movie)\n",
    "# #         except:\n",
    "# #             movies_no_poster.append(movie)\n",
    "# #     counter+=1\n",
    "# print(\"Done with all the posters!\")"
   ]
  },
  {
   "cell_type": "code",
   "execution_count": null,
   "metadata": {},
   "outputs": [],
   "source": [
    "# print len(movies_no_poster)\n",
    "# print len(poster_movies)"
   ]
  },
  {
   "cell_type": "code",
   "execution_count": null,
   "metadata": {},
   "outputs": [],
   "source": [
    "# f=open('poster_movies.pckl','w')\n",
    "# pickle.dump(poster_movies,f)\n",
    "# f.close()"
   ]
  },
  {
   "cell_type": "code",
   "execution_count": null,
   "metadata": {},
   "outputs": [],
   "source": [
    "# f=open('poster_movies.pckl','r')\n",
    "# poster_movies=pickle.load(f)\n",
    "# f.close()"
   ]
  },
  {
   "cell_type": "code",
   "execution_count": null,
   "metadata": {},
   "outputs": [],
   "source": [
    "# f=open('no_poster_movies.pckl','w')\n",
    "# pickle.dump(movies_no_poster,f)\n",
    "# f.close()"
   ]
  },
  {
   "cell_type": "code",
   "execution_count": null,
   "metadata": {},
   "outputs": [],
   "source": [
    "# f=open('no_poster_movies.pckl','r')\n",
    "# movies_no_poster=pickle.load(f)\n",
    "# f.close()"
   ]
  },
  {
   "cell_type": "markdown",
   "metadata": {},
   "source": [
    "# Congratulations, we are done scraping!"
   ]
  },
  {
   "cell_type": "markdown",
   "metadata": {},
   "source": [
    "As an example, here are some possible ways to frame Y, while still sticking to the problem of genre prediction -\n",
    "\n",
    "* Assume every movie can have multiple genres, and then it becomes a multi-label classification problem. For example, a movie can be Action, Horror and Adventure simultaneously. Thus, every movie can be more than one genre.\n",
    "\n",
    "* Make clusters of genres as we did in Milestone 1 using biclustering, and then every movie can have only 1 genre. This way, the problem becomes a simpler, multi-class problem. For example, a movie could have the class - Uplifting (refer Milestone 1), or Horror or History. No movie get's more than one class.\n",
    "\n",
    "For the purposes of this implementation, I'm going with the first case explained above - i.e. a multi-label classification problem."
   ]
  },
  {
   "cell_type": "markdown",
   "metadata": {},
   "source": [
    "Similarly, for designing our input features i.e. X, you may pick any features you think make sense, for example, the Director of a movie may be a good predictor for genre. OR, they may choose any features they design using algorithms like PCA. Given the richness of IMDB, TMDB and alternate sources like Wikipedia, there is a plethora of options available. **Be creative here!**"
   ]
  },
  {
   "cell_type": "markdown",
   "metadata": {},
   "source": [
    "## My Implementation"
   ]
  },
  {
   "cell_type": "markdown",
   "metadata": {},
   "source": [
    "Implementation decisions made - \n",
    "* The problem is framed here as a multi-label problem explained above. \n",
    "* We will try to predict multiple genres associated with a movie. This will be our Y.\n",
    "* We will use 2 different kinds of X - text and images. \n",
    "* For the text part - Input features being used to predict the genre is a form of the movie's plot available from TMDB using the property 'overview'. This will be our X.\n",
    "* For the image part - we will use the scraped poster images as our X. \n",
    "\n",
    "NOTE : We will first look at some conventional machine learning models, which were popular before the recent rise of neural networks and deep learning. For the poster image to genre prediction, I have avoided using this for the reason that conventional ML models are simply not used anymore without using deep learning for feature extraction (all discussed in detail ahead, don't be scared by the jargon). For the movie overview to genre prediction problem we will look at both conventional models and deep learning models. \n",
    "\n",
    "Now, let's build our X and Y!"
   ]
  },
  {
   "cell_type": "markdown",
   "metadata": {},
   "source": [
    "First, let's identify movies that have overviews. **Next few steps are going to be a good example on why data cleaning is important!**"
   ]
  },
  {
   "cell_type": "code",
   "execution_count": 39,
   "metadata": {},
   "outputs": [
    {
     "data": {
      "text/plain": [
       "1680"
      ]
     },
     "execution_count": 39,
     "metadata": {},
     "output_type": "execute_result"
    }
   ],
   "source": [
    "movies_with_overviews=[]\n",
    "for i in range(len(no_duplicate_movies)):\n",
    "    movie=no_duplicate_movies[i]\n",
    "    id=movie['id']\n",
    "    overview=movie['overview']\n",
    "    \n",
    "    if len(overview)==0:\n",
    "        continue\n",
    "    else:\n",
    "        movies_with_overviews.append(movie)\n",
    "        \n",
    "len(movies_with_overviews)"
   ]
  },
  {
   "cell_type": "markdown",
   "metadata": {},
   "source": [
    "Now let's store the genre's for these movies in a list that we will later transform into a binarized vector. \n",
    "\n",
    "Binarized vector representation is a very common and important way data is stored/represented in ML. Essentially, it's a way to reduce a categorical variable with n possible values to n binary indicator variables. What does that mean? For example, let [(1,3),(4)] be the list saying that sample A has two labels 1 and 3, and sample B has one label 4. For every sample, for every possible label, the representation is simply 1 if it has that label, and 0 if it doesn't have that label. So the binarized version of the above list will be -\n",
    "~~~~~\n",
    "[(1,0,1,0]),\n",
    "(0,0,0,1])]\n",
    "~~~~~"
   ]
  },
  {
   "cell_type": "code",
   "execution_count": 25,
   "metadata": {},
   "outputs": [],
   "source": [
    "# genres=np.zeros((len(top1000_movies),3))\n",
    "genres=[]\n",
    "all_ids=[]\n",
    "for i in range(len(movies_with_overviews)):\n",
    "    movie=movies_with_overviews[i]\n",
    "    id=movie['id']\n",
    "    genre_ids=movie['genre_ids']\n",
    "    genres.append(genre_ids)\n",
    "    all_ids.extend(genre_ids)"
   ]
  },
  {
   "cell_type": "code",
   "execution_count": 26,
   "metadata": {},
   "outputs": [],
   "source": [
    "from sklearn.preprocessing import MultiLabelBinarizer\n",
    "mlb=MultiLabelBinarizer()\n",
    "Y=mlb.fit_transform(genres)"
   ]
  },
  {
   "cell_type": "code",
   "execution_count": 77,
   "metadata": {},
   "outputs": [
    {
     "data": {
      "text/plain": [
       "[28, 12]"
      ]
     },
     "execution_count": 77,
     "metadata": {},
     "output_type": "execute_result"
    }
   ],
   "source": [
    "genres[1]"
   ]
  },
  {
   "cell_type": "code",
   "execution_count": null,
   "metadata": {},
   "outputs": [],
   "source": [
    "print Y.shape\n",
    "print np.sum(Y, axis=0)"
   ]
  },
  {
   "cell_type": "code",
   "execution_count": null,
   "metadata": {},
   "outputs": [],
   "source": [
    "len(list_of_genres)"
   ]
  },
  {
   "cell_type": "markdown",
   "metadata": {},
   "source": [
    "This is interesting. We started with only 19 genre labels if you remember. But the shape for Y is 1666,20 while it should be 1666,19 as there are only 19 genres? Let's explore."
   ]
  },
  {
   "cell_type": "markdown",
   "metadata": {},
   "source": [
    "Let's find genre IDs that are not present in our original list of genres!"
   ]
  },
  {
   "cell_type": "code",
   "execution_count": 67,
   "metadata": {},
   "outputs": [],
   "source": [
    "# # Create a tmdb genre object!\n",
    "\n",
    "x={\n",
    "  \"genres\": [\n",
    "    {\n",
    "      \"id\": 28,\n",
    "      \"name\": \"Action\"\n",
    "    },\n",
    "    {\n",
    "      \"id\": 12,\n",
    "      \"name\": \"Adventure\"\n",
    "    },\n",
    "    {\n",
    "      \"id\": 16,\n",
    "      \"name\": \"Animation\"\n",
    "    },\n",
    "    {\n",
    "      \"id\": 35,\n",
    "      \"name\": \"Comedy\"\n",
    "    },\n",
    "    {\n",
    "      \"id\": 80,\n",
    "      \"name\": \"Crime\"\n",
    "    },\n",
    "    {\n",
    "      \"id\": 99,\n",
    "      \"name\": \"Documentary\"\n",
    "    },\n",
    "    {\n",
    "      \"id\": 18,\n",
    "      \"name\": \"Drama\"\n",
    "    },\n",
    "    {\n",
    "      \"id\": 10751,\n",
    "      \"name\": \"Family\"\n",
    "    },\n",
    "    {\n",
    "      \"id\": 14,\n",
    "      \"name\": \"Fantasy\"\n",
    "    },\n",
    "    {\n",
    "      \"id\": 36,\n",
    "      \"name\": \"History\"\n",
    "    },\n",
    "    {\n",
    "      \"id\": 27,\n",
    "      \"name\": \"Horror\"\n",
    "    },\n",
    "    {\n",
    "      \"id\": 10402,\n",
    "      \"name\": \"Music\"\n",
    "    },\n",
    "    {\n",
    "      \"id\": 9648,\n",
    "      \"name\": \"Mystery\"\n",
    "    },\n",
    "    {\n",
    "      \"id\": 10749,\n",
    "      \"name\": \"Romance\"\n",
    "    },\n",
    "    {\n",
    "      \"id\": 878,\n",
    "      \"name\": \"Science Fiction\"\n",
    "    },\n",
    "    {\n",
    "      \"id\": 10770,\n",
    "      \"name\": \"TV Movie\"\n",
    "    },\n",
    "    {\n",
    "      \"id\": 53,\n",
    "      \"name\": \"Thriller\"\n",
    "    },\n",
    "    {\n",
    "      \"id\": 10752,\n",
    "      \"name\": \"War\"\n",
    "    },\n",
    "    {\n",
    "      \"id\": 37,\n",
    "      \"name\": \"Western\"\n",
    "    }\n",
    "  ]\n",
    "}\n",
    "Genre_ID_to_name={}\n",
    "for item in x['genres']:\n",
    "\tGenre_ID_to_name[item['id']]=item['name']\n",
    "\n"
   ]
  },
  {
   "cell_type": "code",
   "execution_count": 68,
   "metadata": {},
   "outputs": [],
   "source": [
    "for i in set(all_ids):\n",
    "    if i not in Genre_ID_to_name.keys():\n",
    "        print i"
   ]
  },
  {
   "cell_type": "markdown",
   "metadata": {},
   "source": [
    "Well, this genre ID wasn't given to us by TMDB when we asked it for all possible genres. How do we go about this now? We can either neglect all samples that have this genre. But if you look up you'll see there's too many of these samples. So, I googled more and went into their documentation and found that this ID corresponds to the genre \"Foreign\". So, we add it to the dictionary of genre names ourselves. Such problems are ubiquitous in machine learning, and it is up to us to diagnose and correct them. We must always make a decision about what to keep, how to store data and so on. "
   ]
  },
  {
   "cell_type": "code",
   "execution_count": 69,
   "metadata": {},
   "outputs": [],
   "source": [
    "Genre_ID_to_name[10769]=\"Foreign\" #Adding it to the dictionary"
   ]
  },
  {
   "cell_type": "code",
   "execution_count": 70,
   "metadata": {},
   "outputs": [
    {
     "data": {
      "text/plain": [
       "20"
      ]
     },
     "execution_count": 70,
     "metadata": {},
     "output_type": "execute_result"
    }
   ],
   "source": [
    "len(Genre_ID_to_name.keys())"
   ]
  },
  {
   "cell_type": "markdown",
   "metadata": {},
   "source": [
    "Now, we turn to building the X matrix i.e. the input features! As described earlier, we will be using the overview of movies as our input vector! Let's look at a movie's overview for example!"
   ]
  },
  {
   "cell_type": "markdown",
   "metadata": {},
   "source": [
    "# Congratulations, we have our data set ready!"
   ]
  },
  {
   "cell_type": "markdown",
   "metadata": {},
   "source": [
    "A note : As we are building our own dataset, and I didn't want you to spend all your time waiting for poster image downloads to finish, I am working with an EXTREMELY small dataset. That is why, the results we will see for the deep learning portion will not be spectacular as compared to conventional machine learning methods. If you want to see the real power, you should spend some more time scraping something of the order of 100,000 images, as opposed to 1000 odd like I am doing here. Quoting the paper I mentioned above -  MORE DATA BEATS A CLEVERER ALGORITHM.\n",
    "\n",
    "#### As the TA, I saw that most teams working on the project had data of the order of 100,000 movies. So, if you want to extract the power of these models, consider scraping a larger dataset than me."
   ]
  },
  {
   "cell_type": "markdown",
   "metadata": {
    "collapsed": true
   },
   "source": [
    "# Section 5 - Non-deep, Conventional ML models with above data"
   ]
  },
  {
   "cell_type": "markdown",
   "metadata": {},
   "source": [
    "Here is a layout of what we will be doing - \n",
    "\n",
    "- We will implement two different models\n",
    "- We will decide a performance metric i.e. a quantitative method to be sure about how well difference models are doing. \n",
    "- Discussion of the differences between the models, their strengths, weaknesses, etc. "
   ]
  },
  {
   "cell_type": "markdown",
   "metadata": {},
   "source": [
    "As discussed earlier, there are a LOT of implementation decisions to be made. Between feature engineering, hyper-parameter tuning, model selection and how interpretable do you want your model to be (Read : Bayesian vs Non-Bayesian approaches) a lot is to be decided. For example, some of these models could be: \n",
    "\n",
    "- Generalized Linear Models\n",
    "- SVM\n",
    "- Shallow (1 Layer, i.e. not deep) Neural Network\n",
    "- Random Forest\n",
    "- Boosting\n",
    "- Decision Tree\n",
    "\n",
    "Or go more bayesian:\n",
    "- Naive Bayes\n",
    "- Linear or Quadratic Discriminant Analysis\n",
    "- Bayesian Hierarchical models"
   ]
  },
  {
   "cell_type": "markdown",
   "metadata": {},
   "source": [
    "The list is endless, and not all models will make sense for the kind of problem you have framed for yourself. ** Think about which model best fits for your purpose.**"
   ]
  },
  {
   "cell_type": "markdown",
   "metadata": {},
   "source": [
    "For our purposes here, I will be showing the example of 2 very simple models, one picked from each category above - \n",
    "\n",
    "1. SVM\n",
    "2. Multinomial Naive Bayes"
   ]
  },
  {
   "cell_type": "markdown",
   "metadata": {},
   "source": [
    "A quick overview of the whole pipeline coming below: \n",
    "    \n",
    "- A little bit of feature engineering\n",
    "- 2 different Models \n",
    "- Evaluation Metrics chosen\n",
    "- Model comparisons"
   ]
  },
  {
   "cell_type": "markdown",
   "metadata": {},
   "source": [
    "### Let's start with some feature engineering. "
   ]
  },
  {
   "cell_type": "markdown",
   "metadata": {},
   "source": [
    "Engineering the right features depends on 2 key ideas. Firstly, what is it that you are trying to solve? For example, if you want to guess my music preferences and you try to train a super awesome model while giving it what my height is as input features, you're going to have no luck. On the other hand, giving it my Spotify playlist will solve the problem with any model. So, CONTEXT of the problem plays a role. \n",
    "\n",
    "Second, you can only represent based on the data at hand. Meaning, if you didn't have access to my Spotify playlist, but to my Facebook statuses - You know all my statuses about Harvard may not be useful. But if you represent me as my Facebook statuses which are YouTube links, that would also solve the problem. So, AVAILABILITY OF DATA at hand is the second factor. \n",
    "\n",
    "#### A nice way to think of it is to think that you start with the problem at hand, but design features constrained by the data you have available. If you have many independent features that each correlate well with the class, learning is easy. On the other hand, if the class is a very complex function of the features, you may not be able to learn it.\n",
    "\n",
    "\n",
    "In the context of this problem, we would like to predict the genre of a movie. what we have access to - movie overviews, which are text descriptions of the movie plot. The hypothesis makes sense, overview is a short description of the story and the story is clearly important in assigning genres to movies. \n",
    "\n",
    "So, let's improve our features by playing with the words in the overviews in our data. One interesting way to go back to what we discussed earlier - TF-IDF. We originally used it to filter words, but we can also assign the tf-idf values as \"importance\" values to words, as opposed to treating them all equally. Tf-idf simply tries to identify the assign a weightage to each word in the bag of words. "
   ]
  },
  {
   "cell_type": "markdown",
   "metadata": {},
   "source": [
    "Once again, the way it works is - Most movie descriptions have the word \"The\" in it. Obviously, it doesn't tell you anything special about it. So weightage should be inversely proportional to how many movies have the word in their description. This is the IDF part.\n",
    "\n",
    "On the other hand, for the movie interstellar, if the description has the word Space 5 times, and wormhole 2 times, then it's probably more about Space than about wormhole. Thus, space should have a high weightage. This is the TF part. \n",
    "\n",
    "We simply use TF-IDf to assign weightage to every word in the bag of words. Which makes sense, right? :)"
   ]
  },
  {
   "cell_type": "markdown",
   "metadata": {},
   "source": [
    "# Section 8 - Deep Learning to get Textual Features"
   ]
  },
  {
   "cell_type": "markdown",
   "metadata": {},
   "source": [
    "We will use an off the shelf representation for words - Word2Vec model. Just like VGGnet before, this is a model made available to get a meaningful representation. As the total number of words is small, we don't even need to forward propagate our sample through a network. Even that has been done for us, and the result is stored in the form of a dictionary. We can simply look up the word in the dictionary and get the Word2Vec features for the word."
   ]
  },
  {
   "cell_type": "code",
   "execution_count": 33,
   "metadata": {},
   "outputs": [],
   "source": [
    "from gensim import models\n",
    "#model2 = models.Word2Vec.load_word2vec_format('GoogleNews-vectors-negative300.bin', binary=True) \n",
    "model2 = models.KeyedVectors.load_word2vec_format('/home/yash/GoogleNews-vectors-negative300.bin', binary=True)"
   ]
  },
  {
   "cell_type": "code",
   "execution_count": 74,
   "metadata": {},
   "outputs": [],
   "source": [
    "def precision_recall(gt,preds):\n",
    "    TP=0\n",
    "    FP=0\n",
    "    FN=0\n",
    "    for t in gt:\n",
    "        if t in preds:\n",
    "            TP+=1\n",
    "        else:\n",
    "            FN+=1\n",
    "    for p in preds:\n",
    "        if p not in gt:\n",
    "            FP+=1\n",
    "    if TP+FP==0:\n",
    "        precision=0\n",
    "    else:\n",
    "        precision=TP/float(TP+FP)\n",
    "    if TP+FN==0:\n",
    "        recall=0\n",
    "    else:\n",
    "        recall=TP/float(TP+FN)\n",
    "    return precision,recall"
   ]
  },
  {
   "cell_type": "code",
   "execution_count": null,
   "metadata": {},
   "outputs": [],
   "source": []
  },
  {
   "cell_type": "code",
   "execution_count": null,
   "metadata": {},
   "outputs": [],
   "source": []
  },
  {
   "cell_type": "markdown",
   "metadata": {
    "collapsed": true
   },
   "source": [
    "For the same set of movies above, let's try and predict the genres from the deep representation of their overviews!"
   ]
  },
  {
   "cell_type": "code",
   "execution_count": 41,
   "metadata": {},
   "outputs": [],
   "source": [
    "final_movies_set=movies_with_overviews"
   ]
  },
  {
   "cell_type": "code",
   "execution_count": 42,
   "metadata": {},
   "outputs": [],
   "source": [
    "from nltk.tokenize import RegexpTokenizer\n",
    "from stop_words import get_stop_words\n",
    "tokenizer = RegexpTokenizer(r'\\w+')\n",
    "\n",
    "# create English stop words list\n",
    "en_stop = get_stop_words('en')"
   ]
  },
  {
   "cell_type": "code",
   "execution_count": 43,
   "metadata": {},
   "outputs": [
    {
     "data": {
      "text/plain": [
       "(1680, 300)"
      ]
     },
     "execution_count": 43,
     "metadata": {},
     "output_type": "execute_result"
    }
   ],
   "source": [
    "movie_mean_wordvec=np.zeros((len(final_movies_set),300))\n",
    "movie_mean_wordvec.shape"
   ]
  },
  {
   "cell_type": "markdown",
   "metadata": {},
   "source": [
    "Text needs some pre-processing before we can train the model. The only preprocessing we do here is - we delete commonly occurring words which we know are not informative about the genre. Think of it as the clutter in some sense. These words are often removed and are referred to as \"stop words\". You can look them up online. These include simple words like \"a\", \"and\", \"but\", \"how\", \"or\" and so on. They can be easily removed using the python package NLTK.\n",
    "\n",
    "From the above dataset, movies with overviews which contain only stop words, or movies with overviews containing no words with word2vec representation are neglected. Others are used to build our Mean word2vec representation. Simply, put for every movie overview - \n",
    "\n",
    "* Take movie overview\n",
    "* Throw out stop words\n",
    "* For non stop words:\n",
    "    - If in word2vec - take it's word2vec representation which is 300 dimensional\n",
    "    - If not - throw word\n",
    "* For each movie, calculate the arithmetic mean of the 300 dimensional vector representations for all words in the overview which weren't thrown out\n",
    "\n",
    "This mean becomes the 300 dimensional representation for the movie. For all movies, these are stored in a numpy array. So the X matrix becomes (1263,300). And, Y is (1263,20) i.e. binarized 20 genres, as before"
   ]
  },
  {
   "cell_type": "markdown",
   "metadata": {},
   "source": [
    "**Why do we take the arithmetic mean?**\n",
    "If you feel that we should have kept all the words separately - Then you're thinking correct, but sadly we're limited by the way current day neural networks work. I will not mull over this for the fear of stressing too much on an otherwise irrelevant detail. But if you're interested, read this awesome paper - \n",
    "https://jiajunwu.com/papers/dmil_cvpr.pdf"
   ]
  },
  {
   "cell_type": "code",
   "execution_count": 44,
   "metadata": {},
   "outputs": [],
   "source": [
    "genres=[]\n",
    "rows_to_delete=[]\n",
    "for i in range(len(final_movies_set)):\n",
    "    mov=final_movies_set[i]\n",
    "    movie_genres=mov['genre_ids']\n",
    "    genres.append(movie_genres)\n",
    "    overview=mov['overview']\n",
    "    tokens = tokenizer.tokenize(overview)\n",
    "    stopped_tokens = [k for k in tokens if not k in en_stop]\n",
    "    count_in_vocab=0\n",
    "    s=0\n",
    "    if len(stopped_tokens)==0:\n",
    "        rows_to_delete.append(i)\n",
    "        genres.pop(-1)\n",
    "        #print overview\n",
    "        #print \"sample \",i,\"had no nonstops\"\n",
    "    else:\n",
    "        for tok in stopped_tokens:\n",
    "            if tok.lower() in model2.vocab:\n",
    "                count_in_vocab+=1\n",
    "                s+=model2[tok.lower()]\n",
    "        if count_in_vocab!=0:\n",
    "            movie_mean_wordvec[i]=s/float(count_in_vocab)\n",
    "        else:\n",
    "            rows_to_delete.append(i)\n",
    "            genres.pop(-1)\n",
    "#             print overview\n",
    "#             print \"sample \",i,\"had no word2vec\""
   ]
  },
  {
   "cell_type": "code",
   "execution_count": 45,
   "metadata": {},
   "outputs": [
    {
     "data": {
      "text/plain": [
       "1680"
      ]
     },
     "execution_count": 45,
     "metadata": {},
     "output_type": "execute_result"
    }
   ],
   "source": [
    "len(genres)"
   ]
  },
  {
   "cell_type": "code",
   "execution_count": 46,
   "metadata": {},
   "outputs": [],
   "source": [
    "mask2=[]\n",
    "for row in range(len(movie_mean_wordvec)):\n",
    "    if row in rows_to_delete:\n",
    "        mask2.append(False)\n",
    "    else:\n",
    "        mask2.append(True)"
   ]
  },
  {
   "cell_type": "code",
   "execution_count": 47,
   "metadata": {},
   "outputs": [],
   "source": [
    "X=movie_mean_wordvec[mask2]"
   ]
  },
  {
   "cell_type": "code",
   "execution_count": 48,
   "metadata": {},
   "outputs": [
    {
     "data": {
      "text/plain": [
       "(1680, 300)"
      ]
     },
     "execution_count": 48,
     "metadata": {},
     "output_type": "execute_result"
    }
   ],
   "source": [
    "X.shape"
   ]
  },
  {
   "cell_type": "code",
   "execution_count": 49,
   "metadata": {},
   "outputs": [],
   "source": [
    "Y=mlb.fit_transform(genres)"
   ]
  },
  {
   "cell_type": "code",
   "execution_count": 50,
   "metadata": {},
   "outputs": [
    {
     "data": {
      "text/plain": [
       "(1680, 20)"
      ]
     },
     "execution_count": 50,
     "metadata": {},
     "output_type": "execute_result"
    }
   ],
   "source": [
    "Y.shape"
   ]
  },
  {
   "cell_type": "code",
   "execution_count": 51,
   "metadata": {},
   "outputs": [],
   "source": [
    "# textual_features=(X,Y)\n",
    "# f9=open('textual_features.pckl','wb')\n",
    "# pickle.dump(textual_features,f9)\n",
    "# f9.close()"
   ]
  },
  {
   "cell_type": "code",
   "execution_count": 52,
   "metadata": {},
   "outputs": [],
   "source": [
    "# textual_features=(X,Y)\n",
    "f9=open('textual_features.pckl','rb')\n",
    "textual_features=pickle.load(f9)\n",
    "f9.close()"
   ]
  },
  {
   "cell_type": "code",
   "execution_count": 53,
   "metadata": {},
   "outputs": [],
   "source": [
    "(X,Y)=textual_features"
   ]
  },
  {
   "cell_type": "code",
   "execution_count": 54,
   "metadata": {},
   "outputs": [
    {
     "data": {
      "text/plain": [
       "(1680, 300)"
      ]
     },
     "execution_count": 54,
     "metadata": {},
     "output_type": "execute_result"
    }
   ],
   "source": [
    "X.shape"
   ]
  },
  {
   "cell_type": "code",
   "execution_count": 55,
   "metadata": {},
   "outputs": [
    {
     "data": {
      "text/plain": [
       "(1680, 20)"
      ]
     },
     "execution_count": 55,
     "metadata": {},
     "output_type": "execute_result"
    }
   ],
   "source": [
    "Y.shape"
   ]
  },
  {
   "cell_type": "code",
   "execution_count": 56,
   "metadata": {},
   "outputs": [],
   "source": [
    "mask_text=np.random.rand(len(X))<0.8"
   ]
  },
  {
   "cell_type": "code",
   "execution_count": 57,
   "metadata": {},
   "outputs": [],
   "source": [
    "X_train=X[mask_text]\n",
    "Y_train=Y[mask_text]\n",
    "X_test=X[~mask_text]\n",
    "Y_test=Y[~mask_text]"
   ]
  },
  {
   "cell_type": "markdown",
   "metadata": {},
   "source": [
    "Once again, we use a very similar, super simple architecture as before."
   ]
  },
  {
   "cell_type": "code",
   "execution_count": 58,
   "metadata": {},
   "outputs": [
    {
     "name": "stderr",
     "output_type": "stream",
     "text": [
      "/usr/local/lib/python2.7/dist-packages/h5py/__init__.py:36: FutureWarning: Conversion of the second argument of issubdtype from `float` to `np.floating` is deprecated. In future, it will be treated as `np.float64 == np.dtype(float).type`.\n",
      "  from ._conv import register_converters as _register_converters\n",
      "Using TensorFlow backend.\n"
     ]
    }
   ],
   "source": [
    "from keras.models import Sequential\n",
    "from keras.layers import Dense, Activation\n",
    "\n",
    "model_textual = Sequential([\n",
    "    Dense(300, input_shape=(300,)),\n",
    "    Activation('relu'),\n",
    "    Dense(20),\n",
    "    Activation('softmax'),\n",
    "])\n",
    "\n",
    "model_textual.compile(optimizer='rmsprop',\n",
    "              loss='binary_crossentropy',\n",
    "              metrics=['accuracy'])"
   ]
  },
  {
   "cell_type": "code",
   "execution_count": 60,
   "metadata": {},
   "outputs": [
    {
     "data": {
      "text/plain": [
       "<keras.callbacks.History at 0x7f4710708750>"
      ]
     },
     "execution_count": 60,
     "metadata": {},
     "output_type": "execute_result"
    }
   ],
   "source": [
    "model_textual.fit(X_train, Y_train, epochs=100000, batch_size=512)#,verbose=0 if no printing"
   ]
  },
  {
   "cell_type": "code",
   "execution_count": 61,
   "metadata": {},
   "outputs": [
    {
     "name": "stdout",
     "output_type": "stream",
     "text": [
      "333/333 [==============================] - 0s 55us/step\n"
     ]
    }
   ],
   "source": [
    "score = model_textual.evaluate(X_test, Y_test, batch_size=256)"
   ]
  },
  {
   "cell_type": "code",
   "execution_count": 62,
   "metadata": {},
   "outputs": [
    {
     "name": "stdout",
     "output_type": "stream",
     "text": [
      "acc: 86.19%\n"
     ]
    }
   ],
   "source": [
    "print(\"%s: %.2f%%\" % (model_textual.metrics_names[1], score[1]*100))"
   ]
  },
  {
   "cell_type": "code",
   "execution_count": 63,
   "metadata": {},
   "outputs": [],
   "source": [
    "Y_preds=model_textual.predict(X_test)"
   ]
  },
  {
   "cell_type": "code",
   "execution_count": 71,
   "metadata": {},
   "outputs": [],
   "source": [
    "genre_list=sorted(list(Genre_ID_to_name.keys()))"
   ]
  },
  {
   "cell_type": "code",
   "execution_count": 72,
   "metadata": {},
   "outputs": [],
   "source": [
    "genre_list.append(10769)"
   ]
  },
  {
   "cell_type": "code",
   "execution_count": 75,
   "metadata": {},
   "outputs": [
    {
     "name": "stdout",
     "output_type": "stream",
     "text": [
      "Our predictions for the movies are - \n",
      "\n",
      "Predicted:  ['Family', 'Adventure', 'Fantasy']  Actual:  ['Adventure', 'Fantasy', 'Family']\n",
      "Predicted:  ['Family', 'Adventure', 'Animation']  Actual:  ['Fantasy', 'Animation', 'Drama', 'Comedy']\n",
      "Predicted:  ['Science Fiction', 'Horror', 'Thriller']  Actual:  ['Horror', 'Thriller', 'Science Fiction']\n",
      "Predicted:  ['Drama', 'War', 'History']  Actual:  ['Drama', 'History', 'War']\n",
      "Predicted:  ['Adventure', 'Animation', 'Family']  Actual:  ['Drama', 'Documentary']\n",
      "Predicted:  ['Science Fiction', 'Horror', 'Thriller']  Actual:  ['Adventure', 'Horror', 'Thriller', 'Mystery']\n",
      "Predicted:  ['Fantasy', 'TV Movie', 'Family']  Actual:  ['Adventure', 'Fantasy', 'Comedy', 'Family']\n"
     ]
    }
   ],
   "source": [
    "print \"Our predictions for the movies are - \\n\"\n",
    "precs=[]\n",
    "recs=[]\n",
    "for i in range(len(Y_preds)):\n",
    "    row=Y_preds[i]\n",
    "    gt_genres=Y_test[i]\n",
    "    gt_genre_names=[]\n",
    "    for j in range(20):\n",
    "        if gt_genres[j]==1:\n",
    "            gt_genre_names.append(Genre_ID_to_name[genre_list[j]])\n",
    "    top_3=np.argsort(row)[-3:]\n",
    "    predicted_genres=[]\n",
    "    for genre in top_3:\n",
    "        predicted_genres.append(Genre_ID_to_name[genre_list[genre]])\n",
    "    (precision,recall)=precision_recall(gt_genre_names,predicted_genres)\n",
    "    precs.append(precision)\n",
    "    recs.append(recall)\n",
    "    if i%50==0:\n",
    "        print \"Predicted: \",predicted_genres,\" Actual: \",gt_genre_names"
   ]
  },
  {
   "cell_type": "code",
   "execution_count": 76,
   "metadata": {},
   "outputs": [
    {
     "name": "stdout",
     "output_type": "stream",
     "text": [
      "0.5285285285285285 0.5605605605605606\n"
     ]
    }
   ],
   "source": [
    "print np.mean(np.asarray(precs)),np.mean(np.asarray(recs))"
   ]
  },
  {
   "cell_type": "code",
   "execution_count": null,
   "metadata": {},
   "outputs": [],
   "source": []
  }
 ],
 "metadata": {
  "kernelspec": {
   "display_name": "Python 2",
   "language": "python",
   "name": "python2"
  },
  "language_info": {
   "codemirror_mode": {
    "name": "ipython",
    "version": 2
   },
   "file_extension": ".py",
   "mimetype": "text/x-python",
   "name": "python",
   "nbconvert_exporter": "python",
   "pygments_lexer": "ipython2",
   "version": "2.7.12"
  }
 },
 "nbformat": 4,
 "nbformat_minor": 1
}
