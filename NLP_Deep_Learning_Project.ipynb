{
 "cells": [
  {
   "cell_type": "markdown",
   "metadata": {},
   "source": [
    "<h2 align='center' style=\"margin-top: 0px\"><a href='https://github.com/Spandan-Madan/DeepLearningProject'>Link to Github Repo</a></h2>"
   ]
  },
  {
   "cell_type": "markdown",
   "metadata": {},
   "source": [
    "\n",
    "\n",
    "<h3>TMDB:https://www.themoviedb.org/</h3>\n",
    "1fea3cec89e5971c008e47892726db08"
   ]
  },
  {
   "cell_type": "code",
   "execution_count": 1,
   "metadata": {},
   "outputs": [],
   "source": [
    "import urllib2\n",
    "import requests\n",
    "import json\n",
    "#import imdb\n",
    "import time\n",
    "import itertools\n",
    "import wget\n",
    "import os\n",
    "import tmdbsimple as tmdb\n",
    "import numpy as np\n",
    "import random\n",
    "import matplotlib\n",
    "import matplotlib.pyplot as plt\n",
    "%matplotlib inline\n",
    "import seaborn as sns\n",
    "import pickle"
   ]
  },
  {
   "cell_type": "markdown",
   "metadata": {},
   "source": [
    "## Signing up for TMDB and getting set up for getting movie metadata.\n",
    "\n",
    "* Step 1. Head over to [tmdb.org] (https://www.themoviedb.org/?language=en) and create a new account there by signing up.\n",
    "* Step 2. Click on your account icon on the top right, then from drop down menu select \"Settings\".\n",
    "* Step 3. On the settings page, you will see the option \"API\" on the left pane. Click on that.\n",
    "* Step 4. Apply for a new developer key. Fill out the form as required. The fields \"Application Name\" and \"Application URL\" are not important. Fill anything there.\n",
    "* Step 5. It should generate a new API key for you and you should also receive a mail.\n",
    "\n",
    "Now that you have the API key for TMDB, you can query using TMDB. Remember, it allows only 40 queries per 10 seconds.\n",
    "\n",
    "An easy way to respect this is to just have a call to <i>time.sleep(1)</i> after each iteration. This is also being very nice to the server.\n",
    "\n",
    "If you want to try and maximize your throughput you can embed every TMDB request in a nested try except block. If the first try fails, the second try first uses python's sleep function to give it a little rest, and then try again to make a request. Something like this -\n",
    "\t\n",
    "~~~~\n",
    "try:\n",
    "    search.movie(query=movie) #An API request\n",
    "except:\n",
    "    try:\n",
    "        time.sleep(10) #sleep for a bit, to give API requests a rest.\n",
    "        search.movie(query=<i>movie_name</i>) #Make second API request\n",
    "    except:\n",
    "        print \"Failed second attempt too, check if there's any error in request\"\n",
    "~~~~"
   ]
  },
  {
   "cell_type": "markdown",
   "metadata": {},
   "source": [
    "## Using TMDB using the obtained API Key to get movie information"
   ]
  },
  {
   "cell_type": "markdown",
   "metadata": {},
   "source": [
    "I have made these functions which make things easy. Basically, I'm making use of a library called tmdbsimple which makes TMDB using even easier. This library was installed at the time of setup.\n",
    "\n",
    "However, if you  want to avoid the library, it is also easy enough to load the API output directly into a dictionary like this without using tmdbsimple:\n",
    "\n",
    "~~~\n",
    "url = 'https://api.themoviedb.org/3/movie/1581?api_key=' + api_key\n",
    "data = urllib2.urlopen(url).read()\n",
    "\n",
    "# create dictionary from JSON \n",
    "dataDict = json.loads(data)\n",
    "~~~"
   ]
  },
  {
   "cell_type": "code",
   "execution_count": 2,
   "metadata": {},
   "outputs": [
    {
     "name": "stdout",
     "output_type": "stream",
     "text": [
      "Folder already exists\n"
     ]
    }
   ],
   "source": [
    "# set here the path where you want the scraped folders to be saved!\n",
    "poster_folder='posters_final/'\n",
    "if poster_folder.split('/')[0] in os.listdir('./'):\n",
    "    print('Folder already exists')\n",
    "else:\n",
    "    os.mkdir('./'+poster_folder)"
   ]
  },
  {
   "cell_type": "code",
   "execution_count": 3,
   "metadata": {},
   "outputs": [
    {
     "data": {
      "text/plain": [
       "'posters_final/'"
      ]
     },
     "execution_count": 3,
     "metadata": {},
     "output_type": "execute_result"
    }
   ],
   "source": [
    "poster_folder"
   ]
  },
  {
   "cell_type": "code",
   "execution_count": 4,
   "metadata": {},
   "outputs": [],
   "source": [
    "# For the purpose of this example, i will be working with the 1999 Sci-Fi movie - \"The Matrix\"!\n",
    "\n",
    "api_key = '1fea3cec89e5971c008e47892726db08' #Enter your own API key here to run the code below. \n",
    "# Generate your own API key as explained above :)\n",
    "\n",
    "\n",
    "tmdb.API_KEY = api_key #This sets the API key setting for the tmdb object\n",
    "search = tmdb.Search() #this instantiates a tmdb \"search\" object which allows your to search for the movie\n",
    "\n",
    "# These functions take in a string movie name i.e. like \"The Matrix\" or \"Interstellar\"\n",
    "# What they return is pretty much clear in the name - Poster, ID , Info or genre of the Movie!\n",
    "def grab_poster_tmdb(movie):\n",
    "    response = search.movie(query=movie)\n",
    "    id=response['results'][0]['id']\n",
    "    movie = tmdb.Movies(id)\n",
    "    posterp=movie.info()['poster_path']\n",
    "    title=movie.info()['original_title']\n",
    "    url='image.tmdb.org/t/p/original'+posterp\n",
    "    title='_'.join(title.split(' '))\n",
    "    strcmd='wget -O '+poster_folder+title+'.jpg '+url\n",
    "    os.system(strcmd)\n",
    "\n",
    "def get_movie_id_tmdb(movie):\n",
    "    response = search.movie(query=movie)\n",
    "    movie_id=response['results'][0]['id']\n",
    "    return movie_id\n",
    "\n",
    "def get_movie_info_tmdb(movie):\n",
    "    response = search.movie(query=movie)\n",
    "    id=response['results'][0]['id']\n",
    "    movie = tmdb.Movies(id)\n",
    "    info=movie.info()\n",
    "    return info\n",
    "\n",
    "def get_movie_genres_tmdb(movie):\n",
    "    response = search.movie(query=movie)\n",
    "    id=response['results'][0]['id']\n",
    "    movie = tmdb.Movies(id)\n",
    "    genres=movie.info()['genres']\n",
    "    return genres"
   ]
  },
  {
   "cell_type": "markdown",
   "metadata": {},
   "source": [
    "While the above functions have been made to make it easy to get genres, posters and ID, all the information that can be accessed can be seen by calling the function get_movie_info() as shown below"
   ]
  },
  {
   "cell_type": "code",
   "execution_count": 5,
   "metadata": {},
   "outputs": [
    {
     "name": "stdout",
     "output_type": "stream",
     "text": [
      "[{u'id': 28, u'name': u'Action'}, {u'id': 878, u'name': u'Science Fiction'}]\n"
     ]
    }
   ],
   "source": [
    "print get_movie_genres_tmdb(\"The Matrix\")"
   ]
  },
  {
   "cell_type": "code",
   "execution_count": 6,
   "metadata": {},
   "outputs": [
    {
     "name": "stdout",
     "output_type": "stream",
     "text": [
      "All the Movie information from TMDB gets stored in a dictionary with the following keys for easy access -\n"
     ]
    },
    {
     "data": {
      "text/plain": [
       "[u'poster_path',\n",
       " u'production_countries',\n",
       " u'revenue',\n",
       " u'overview',\n",
       " u'video',\n",
       " u'id',\n",
       " u'genres',\n",
       " u'title',\n",
       " u'tagline',\n",
       " u'vote_count',\n",
       " u'homepage',\n",
       " u'belongs_to_collection',\n",
       " u'original_language',\n",
       " u'status',\n",
       " u'spoken_languages',\n",
       " u'imdb_id',\n",
       " u'adult',\n",
       " u'backdrop_path',\n",
       " u'production_companies',\n",
       " u'release_date',\n",
       " u'popularity',\n",
       " u'original_title',\n",
       " u'budget',\n",
       " u'vote_average',\n",
       " u'runtime']"
      ]
     },
     "execution_count": 6,
     "metadata": {},
     "output_type": "execute_result"
    }
   ],
   "source": [
    "info=get_movie_info_tmdb(\"The Matrix\")\n",
    "print \"All the Movie information from TMDB gets stored in a dictionary with the following keys for easy access -\"\n",
    "info.keys()"
   ]
  },
  {
   "cell_type": "markdown",
   "metadata": {},
   "source": [
    "So, to get the tagline of the movie we can use the above dictionary key - "
   ]
  },
  {
   "cell_type": "code",
   "execution_count": 7,
   "metadata": {},
   "outputs": [
    {
     "name": "stdout",
     "output_type": "stream",
     "text": [
      "Welcome to the Real World.\n"
     ]
    }
   ],
   "source": [
    "info=get_movie_info_tmdb(\"The Matrix\")\n",
    "print info['tagline']"
   ]
  },
  {
   "cell_type": "markdown",
   "metadata": {},
   "source": [
    "## Getting movie information from IMDB"
   ]
  },
  {
   "cell_type": "markdown",
   "metadata": {},
   "source": [
    "Now that we know how to get information from TMDB, here's how we can get information about the same movie from IMDB. This makes it possible for us to combine more information, and get a richer dataset. I urge you to try and see what dataset you can make, and go above and beyond the basic things I've done in this tutorial. Due to the differences between the two datasets, you will have to do some cleaning, however both of these datasets are extremely clean and it will be minimal."
   ]
  },
  {
   "cell_type": "code",
   "execution_count": 8,
   "metadata": {},
   "outputs": [],
   "source": [
    "# # Create the IMDB object that will be used to access the IMDb's database.\n",
    "# imbd_object = imdb.IMDb() # by default access the web.\n",
    "\n",
    "# # Search for a movie (get a list of Movie objects).\n",
    "# results = imbd_object.search_movie('The Matrix')\n",
    "\n",
    "# # As this returns a list of all movies containing the word \"The Matrix\", we pick the first element\n",
    "# movie = results[0]\n",
    "\n",
    "# imbd_object.update(movie)\n",
    "\n",
    "# print \"All the information we can get about this movie from IMDB-\"\n",
    "# movie.keys()"
   ]
  },
  {
   "cell_type": "code",
   "execution_count": 9,
   "metadata": {},
   "outputs": [],
   "source": [
    "# print \"The genres associated with the movie are - \",movie['genres']"
   ]
  },
  {
   "cell_type": "markdown",
   "metadata": {},
   "source": [
    "## A small comparison of IMDB and TMDB"
   ]
  },
  {
   "cell_type": "markdown",
   "metadata": {},
   "source": [
    "Now that we have both systems running, let's do a very short comparison for the same movie?"
   ]
  },
  {
   "cell_type": "code",
   "execution_count": 10,
   "metadata": {},
   "outputs": [],
   "source": [
    "# print \"The genres for The Matrix pulled from IMDB are -\",movie['genres']\n",
    "# print \"The genres for The Matrix pulled from TMDB are -\",get_movie_genres_tmdb(\"The Matrix\")"
   ]
  },
  {
   "cell_type": "markdown",
   "metadata": {},
   "source": [
    "As we can see, both the systems are correct, but the way they package information is different. TMDB calls it \"Science Fiction\" and has an ID for every genre. While IMDB calls it \"Sci-Fi\". Thus, it is important to keep track of these things when making use of both the datasets simultaneously."
   ]
  },
  {
   "cell_type": "markdown",
   "metadata": {},
   "source": [
    "Now that we know how to scrape information for one movie, let's take a bigger step towards scraping multiple movies?"
   ]
  },
  {
   "cell_type": "markdown",
   "metadata": {},
   "source": [
    "## Working with multiple movies : Obtaining Top 20 movies from TMDB"
   ]
  },
  {
   "cell_type": "markdown",
   "metadata": {},
   "source": [
    "We first instantiate an object that inherits from class Movies from TMDB. Then We use the **popular()** class method (i.e. function) to get top movies. To get more than one page of results, the optional page argument lets us see movies from any specified page number."
   ]
  },
  {
   "cell_type": "code",
   "execution_count": 11,
   "metadata": {},
   "outputs": [
    {
     "name": "stdout",
     "output_type": "stream",
     "text": [
      "20\n"
     ]
    }
   ],
   "source": [
    "all_movies=tmdb.Movies()\n",
    "top_movies=all_movies.popular()\n",
    "\n",
    "# This is a dictionary, and to access results we use the key 'results' which returns info on 20 movies\n",
    "print(len(top_movies['results']))\n",
    "top20_movs=top_movies['results']"
   ]
  },
  {
   "cell_type": "markdown",
   "metadata": {},
   "source": [
    "Let's look at one of these movies. It's the same format as above, as we had information on the movie \"The Matrix\", as you can see below. It's a dictionary which can be queried  for specific information on that movie"
   ]
  },
  {
   "cell_type": "code",
   "execution_count": 12,
   "metadata": {},
   "outputs": [
    {
     "name": "stdout",
     "output_type": "stream",
     "text": [
      "Here is all the information you can get on this movie - \n",
      "{u'poster_path': u'/jjPJ4s3DWZZvI4vw8Xfi4Vqa1Q8.jpg', u'title': u'Fifty Shades Freed', u'overview': u'Believing they have left behind shadowy figures from their past, newlyweds Christian and Ana fully embrace an inextricable connection and shared life of luxury. But just as she steps into her role as Mrs. Grey and he relaxes into an unfamiliar stability, new threats could jeopardize their happy ending before it even begins.', u'release_date': u'2018-02-07', u'popularity': 620.073793, u'original_title': u'Fifty Shades Freed', u'backdrop_path': u'/9ywA15OAiwjSTvg3cBs9B7kOCBF.jpg', u'vote_count': 977, u'video': False, u'adult': False, u'vote_average': 6.2, u'genre_ids': [18, 10749], u'id': 337167, u'original_language': u'en'}\n",
      "\n",
      "\n",
      "The title of the first movie is -  Fifty Shades Freed\n"
     ]
    }
   ],
   "source": [
    "first_movie=top20_movs[0]\n",
    "print \"Here is all the information you can get on this movie - \"\n",
    "print first_movie\n",
    "print \"\\n\\nThe title of the first movie is - \", first_movie['title']"
   ]
  },
  {
   "cell_type": "markdown",
   "metadata": {},
   "source": [
    "Let's print out top 5 movie's titles! "
   ]
  },
  {
   "cell_type": "code",
   "execution_count": 13,
   "metadata": {},
   "outputs": [
    {
     "name": "stdout",
     "output_type": "stream",
     "text": [
      "Fifty Shades Freed\n",
      "Zootopia\n",
      "Black Panther\n",
      "Star Wars: The Last Jedi\n",
      "Coco\n"
     ]
    }
   ],
   "source": [
    "for i in range(len(top20_movs)):\n",
    "    mov=top20_movs[i]\n",
    "    title=mov['title']\n",
    "    print title\n",
    "    if i==4:\n",
    "        break"
   ]
  },
  {
   "cell_type": "markdown",
   "metadata": {},
   "source": [
    "### Yes, I know. I'm a little upset too seeing Beauty and the Beast above Logan in the list!"
   ]
  },
  {
   "cell_type": "markdown",
   "metadata": {},
   "source": [
    "Moving on, we can get their genres the same way."
   ]
  },
  {
   "cell_type": "code",
   "execution_count": 14,
   "metadata": {},
   "outputs": [
    {
     "name": "stdout",
     "output_type": "stream",
     "text": [
      "[18, 10749]\n",
      "[16, 12, 10751, 35]\n",
      "[28, 12, 14, 878]\n",
      "[28, 14, 12, 878]\n",
      "[12, 16, 35, 10751]\n"
     ]
    }
   ],
   "source": [
    "for i in range(len(top20_movs)):\n",
    "    mov=top20_movs[i]\n",
    "    genres=mov['genre_ids']\n",
    "    print genres\n",
    "    if i==4:\n",
    "        break"
   ]
  },
  {
   "cell_type": "markdown",
   "metadata": {},
   "source": [
    "So, TMDB doesn't want to make your job as easy as you thought. Why these random numbers? Want to see their genre names? Well, there's the Genre() class for it. Let's get this done!"
   ]
  },
  {
   "cell_type": "code",
   "execution_count": 15,
   "metadata": {},
   "outputs": [],
   "source": [
    "# Create a tmdb genre object!\n",
    "genres=tmdb.Genres()\n",
    "# the list() method of the Genres() class returns a listing of all genres in the form of a dictionary.\n",
    "list_of_genres=genres.movie_list()['genres']"
   ]
  },
  {
   "cell_type": "markdown",
   "metadata": {},
   "source": [
    "Let's convert this list into a nice dictionary to look up genre names from genre IDs!"
   ]
  },
  {
   "cell_type": "code",
   "execution_count": 16,
   "metadata": {},
   "outputs": [],
   "source": [
    "Genre_ID_to_name={}\n",
    "for i in range(len(list_of_genres)):\n",
    "    genre_id=list_of_genres[i]['id']\n",
    "    genre_name=list_of_genres[i]['name']\n",
    "    Genre_ID_to_name[genre_id]=genre_name"
   ]
  },
  {
   "cell_type": "markdown",
   "metadata": {},
   "source": [
    "Now, let's re-print the genres of top 20 movies? "
   ]
  },
  {
   "cell_type": "code",
   "execution_count": 17,
   "metadata": {},
   "outputs": [
    {
     "name": "stdout",
     "output_type": "stream",
     "text": [
      "Fifty Shades Freed [u'Drama', u'Romance']\n",
      "Zootopia [u'Animation', u'Adventure', u'Family', u'Comedy']\n",
      "Black Panther [u'Action', u'Adventure', u'Fantasy', u'Science Fiction']\n",
      "Star Wars: The Last Jedi [u'Action', u'Fantasy', u'Adventure', u'Science Fiction']\n",
      "Coco [u'Adventure', u'Animation', u'Comedy', u'Family']\n"
     ]
    }
   ],
   "source": [
    "for i in range(len(top20_movs)):\n",
    "    mov=top20_movs[i]\n",
    "    title=mov['title']\n",
    "    genre_ids=mov['genre_ids']\n",
    "    genre_names=[]\n",
    "    for id in genre_ids:\n",
    "        genre_name=Genre_ID_to_name[id]\n",
    "        genre_names.append(genre_name)\n",
    "    print title,genre_names\n",
    "    if i==4:\n",
    "        break"
   ]
  },
  {
   "cell_type": "markdown",
   "metadata": {},
   "source": [
    "# Section 4 - Building a dataset to work with : Let's take a look at the top 1000 movies from the database"
   ]
  },
  {
   "cell_type": "markdown",
   "metadata": {},
   "source": [
    "Making use of the same api as before, we will just pull results from the top 50 pages. As mentioned earlier, the \"page\" attribute of the command top_movies=all_movies.popular() can be used for this purpose."
   ]
  },
  {
   "cell_type": "markdown",
   "metadata": {},
   "source": [
    "Please note: Some of the code below will store the data into python \"pickle\" files so that it can be ready directly from memory, as opposed to being downloaded every time. Once done, you should comment out any code which generated an object that was pickled and is no longer needed."
   ]
  },
  {
   "cell_type": "code",
   "execution_count": 18,
   "metadata": {},
   "outputs": [],
   "source": [
    "all_movies=tmdb.Movies()\n",
    "top_movies=all_movies.popular()\n",
    "\n",
    "# This is a dictionary, and to access results we use the key 'results' which returns info on 20 movies\n",
    "len(top_movies['results'])\n",
    "top20_movs=top_movies['results']"
   ]
  },
  {
   "cell_type": "code",
   "execution_count": 19,
   "metadata": {},
   "outputs": [],
   "source": [
    "# Comment out this cell once the data is saved into pickle file.\n",
    "# all_movies=tmdb.Movies()\n",
    "# top1000_movies=[]\n",
    "# print('Pulling movie list, Please wait...')\n",
    "# for i in range(1,51):\n",
    "#     if i%15==0:\n",
    "#         time.sleep(7)\n",
    "#     movies_on_this_page=all_movies.popular(page=i)['results']\n",
    "#     top1000_movies.extend(movies_on_this_page)\n",
    "# len(top1000_movies)\n",
    "# f3=open('movie_list.pckl','wb')\n",
    "# pickle.dump(top1000_movies,f3)\n",
    "# f3.close()\n",
    "# print('Done!')"
   ]
  },
  {
   "cell_type": "code",
   "execution_count": 20,
   "metadata": {},
   "outputs": [],
   "source": [
    "f3=open('movie_list.pckl','rb')\n",
    "top1000_movies=pickle.load(f3)\n",
    "f3.close()"
   ]
  },
  {
   "cell_type": "markdown",
   "metadata": {},
   "source": [
    "# Pairwise analysis of Movie Genres"
   ]
  },
  {
   "cell_type": "markdown",
   "metadata": {},
   "source": [
    "As our dataset is multi label, simply looking at the ditribution of genres is not sufficient. It might be beneficial to see which genres co-occur, as it might shed some light on inherent biases in our dataset. For example, it would make sense if romance and comedy occur together more often than documentary and comedy. Such inherent biases tell us that the underlying population we are sampling from itself is skewed and not balanced. We may then take steps to account for such problems. Even if we don't take such steps, it is important to be aware that we are making the assumption that an unbalanced dataset is not hurting our performance and if need be, we can come back to address this assumption. Good old scientific method, eh?\n",
    "\n",
    "So for the top 1000 movies let's do some pairwise analysis for genre distributions. Our main purpose is to see which genres occur together in the same movie. So, we first define a function which takes a list and makes all possible pairs from it. Then, we pull the list of genres for a movie and run this function on the list of genres to get all pairs of genres which occur together"
   ]
  },
  {
   "cell_type": "code",
   "execution_count": 21,
   "metadata": {},
   "outputs": [],
   "source": [
    "# This function just generates all possible pairs of movies\n",
    "def list2pairs(l):\n",
    "    # itertools.combinations(l,2) makes all pairs of length 2 from list l.\n",
    "    pairs = list(itertools.combinations(l, 2))\n",
    "    # then the one item pairs, as duplicate pairs aren't accounted for by itertools\n",
    "    for i in l:\n",
    "        pairs.append([i,i])\n",
    "    return pairs"
   ]
  },
  {
   "cell_type": "markdown",
   "metadata": {},
   "source": [
    "As mentioned, now we will pull genres for each movie, and use above function to count occurrences of when two genres occurred together"
   ]
  },
  {
   "cell_type": "code",
   "execution_count": 22,
   "metadata": {},
   "outputs": [],
   "source": [
    "# get all genre lists pairs from all movies\n",
    "allPairs = []\n",
    "for movie in top1000_movies:\n",
    "    allPairs.extend(list2pairs(movie['genre_ids']))\n",
    "    \n",
    "nr_ids = np.unique(allPairs)\n",
    "visGrid = np.zeros((len(nr_ids), len(nr_ids)))\n",
    "for p in allPairs:\n",
    "    visGrid[np.argwhere(nr_ids==p[0]), np.argwhere(nr_ids==p[1])]+=1\n",
    "    if p[1] != p[0]:\n",
    "        visGrid[np.argwhere(nr_ids==p[1]), np.argwhere(nr_ids==p[0])]+=1"
   ]
  },
  {
   "cell_type": "markdown",
   "metadata": {},
   "source": [
    "Let's take a look at the structure we just made. It is a 19X19 structure, as shown below. Also, see that we had 19 Genres. Needless to say, this structure counts the number of simultaneous occurrences of genres in same movie."
   ]
  },
  {
   "cell_type": "code",
   "execution_count": 23,
   "metadata": {},
   "outputs": [
    {
     "name": "stdout",
     "output_type": "stream",
     "text": [
      "(19, 19)\n",
      "19\n"
     ]
    }
   ],
   "source": [
    "print visGrid.shape\n",
    "print len(Genre_ID_to_name.keys())"
   ]
  },
  {
   "cell_type": "code",
   "execution_count": 24,
   "metadata": {},
   "outputs": [
    {
     "data": {
      "text/plain": [
       "<matplotlib.axes._subplots.AxesSubplot at 0x7f5ef2a5b910>"
      ]
     },
     "execution_count": 24,
     "metadata": {},
     "output_type": "execute_result"
    },
    {
     "data": {
      "image/png": "[encoded data removed]",
      "text/plain": [
       "<Figure size 432x288 with 2 Axes>"
      ]
     },
     "metadata": {},
     "output_type": "display_data"
    }
   ],
   "source": [
    "annot_lookup = []\n",
    "for i in xrange(len(nr_ids)):\n",
    "    annot_lookup.append(Genre_ID_to_name[nr_ids[i]])\n",
    "\n",
    "sns.heatmap(visGrid, xticklabels=annot_lookup, yticklabels=annot_lookup)"
   ]
  },
  {
   "cell_type": "markdown",
   "metadata": {},
   "source": [
    "The above image shows how often the genres occur together, as a heatmap"
   ]
  },
  {
   "cell_type": "markdown",
   "metadata": {},
   "source": [
    "Important thing to notice in the above plot is the diagonal. The diagonal corresponds to self-pairs, i.e. number of times a genre, say Drama occurred with Drama. Which is basically just a count of the total times that genre occurred! \n",
    "\n",
    "As we can see there are a lot of dramas in the data set, it is also a very unspecific label. There are nearly no documentaries or TV Movies. Horror is a very distinct label, and romance is also not too widely spread. \n",
    "\n",
    "To account for this unbalanced data, there are multiple things we can try to explore what interesting relationships can be found."
   ]
  },
  {
   "cell_type": "markdown",
   "metadata": {},
   "source": [
    "## Delving Deeper into co-occurrence of genres"
   ]
  },
  {
   "cell_type": "markdown",
   "metadata": {},
   "source": [
    "What we want to do now is to look for nice groups of genres that co-occur, and see if it makes sense to us logically? Intuitively speaking, wouldn't it be fun if we saw nice boxes on the above plot - boxes of high intensity i.e. genres that occur together and don't occur much with other genres. In some ways, that would isolate the co-occurrence of some genres, and heighten the co-occurrence of others.\n",
    "\n",
    "While the data may not show that directly, we can play with the numbers to see if that's possible. The technique used for that is called biclustering."
   ]
  },
  {
   "cell_type": "code",
   "execution_count": 25,
   "metadata": {},
   "outputs": [],
   "source": [
    "from sklearn.cluster import SpectralCoclustering"
   ]
  },
  {
   "cell_type": "code",
   "execution_count": 26,
   "metadata": {},
   "outputs": [
    {
     "data": {
      "image/png": "[encoded data removed]",
      "text/plain": [
       "<Figure size 432x288 with 2 Axes>"
      ]
     },
     "metadata": {},
     "output_type": "display_data"
    }
   ],
   "source": [
    "model = SpectralCoclustering(n_clusters=5)\n",
    "model.fit(visGrid)\n",
    "\n",
    "fit_data = visGrid[np.argsort(model.row_labels_)]\n",
    "fit_data = fit_data[:, np.argsort(model.column_labels_)]\n",
    "\n",
    "annot_lookup_sorted = []\n",
    "for i in np.argsort(model.row_labels_):\n",
    "    annot_lookup_sorted.append(Genre_ID_to_name[nr_ids[i]])\n",
    "    \n",
    "sns.heatmap(fit_data, xticklabels=annot_lookup_sorted, yticklabels=annot_lookup_sorted, annot=False)\n",
    "plt.title(\"After biclustering; rearranged to show biclusters\")\n",
    "\n",
    "plt.show()"
   ]
  },
  {
   "cell_type": "markdown",
   "metadata": {},
   "source": [
    "Looking at the above figure, \"boxes\" or groups of movie genres automatically emerge! \n",
    "\n",
    "Intuitively - Crime, Sci-Fi, Mystery, Action, Horror, Drama, Thriller, etc co-occur. \n",
    "AND, Romance, Fantasy, Family, Music, Adventure, etc co-occur. \n",
    "\n",
    "That makes a lot of intuitive sense, right?\n",
    "\n",
    "One challenge is the broad range of the drama genre. It makes the two clusters highly overlapping. If we merge it together with action thriller, etc. We will end up with nearly all movies just having that label. "
   ]
  },
  {
   "cell_type": "markdown",
   "metadata": {},
   "source": [
    "**Based on playing around with the stuff above, we can sort the data into the following genre categories - \"Drama, Action, ScienceFiction, exciting(thriller, crime, mystery), uplifting(adventure, fantasy, animation, comedy, romance, family), Horror, History\"**\n",
    "\n",
    "\n",
    "Note: that this categorization is subjective and by no means the only right solution. One could also just stay with the original labels and only exclude the ones with not enough data. Such tricks are important to balance the dataset, it allows us to increase or decrease the strength of certain signals, making it possible to improve our inferences :)"
   ]
  },
  {
   "cell_type": "markdown",
   "metadata": {},
   "source": [
    "# Interesting Questions\n",
    "This really should be a place for you to get creative and hopefully come up with better questions than me. \n",
    "\n",
    "Here are some of my thoughts:\n",
    "- Which actors are bound to a genre, and which can easily hop genres?\n",
    "- Is there a trend in genre popularity over the years?\n",
    "- Can you use sound tracks to identify the genre of a movie?\n",
    "- Are top romance actors higher paid than top action actors?\n",
    "- If you look at release date vs popularity score, which movie genres have a longer shelf life?\n",
    "\n",
    "Ideas to explore specifically for feature correlations:\n",
    "- Are title length correlated with movie genre?\n",
    "- Are movie posters darker for horror than for romance end comedy?\n",
    "- Are some genres specifically released more often at a certain time of year? \n",
    "- Is the RPG rating correlated with the genre?"
   ]
  },
  {
   "cell_type": "markdown",
   "metadata": {},
   "source": [
    "# Based on this new category set, we will now pull posters from TMDB as our training data!"
   ]
  },
  {
   "cell_type": "code",
   "execution_count": 27,
   "metadata": {},
   "outputs": [],
   "source": [
    "# Done before, reading from pickle file now to maintain consistency of data!\n",
    "# We now sample 100 movies per genre. Problem is that the sorting is by popular movies, so they will overlap. \n",
    "# Need to exclude movies that were already sampled. \n",
    "# movies = []\n",
    "# baseyear = 2017\n",
    "\n",
    "# print('Starting pulling movies from TMDB. If you want to debug, uncomment the print command. This will take a while, please wait...')\n",
    "# done_ids=[]\n",
    "# for g_id in nr_ids:\n",
    "#     #print('Pulling movies for genre ID '+g_id)\n",
    "#     baseyear -= 1\n",
    "#     for page in xrange(1,6,1):\n",
    "#         time.sleep(0.5)\n",
    "    \n",
    "#         url = 'https://api.themoviedb.org/3/discover/movie?api_key=' + api_key\n",
    "#         url += '&language=en-US&sort_by=popularity.desc&year=' + str(baseyear) \n",
    "#         url += '&with_genres=' + str(g_id) + '&page=' + str(page)\n",
    "\n",
    "#         data = urllib2.urlopen(url).read()\n",
    "\n",
    "#         dataDict = json.loads(data)\n",
    "#         movies.extend(dataDict[\"results\"])\n",
    "#     done_ids.append(str(g_id))\n",
    "# print(\"Pulled movies for genres - \"+','.join(done_ids))"
   ]
  },
  {
   "cell_type": "code",
   "execution_count": 28,
   "metadata": {},
   "outputs": [],
   "source": [
    "# f6=open(\"movies_for_posters\",'wb')\n",
    "# pickle.dump(movies,f6)\n",
    "# f6.close()"
   ]
  },
  {
   "cell_type": "code",
   "execution_count": 29,
   "metadata": {},
   "outputs": [],
   "source": [
    "f6=open(\"movies_for_posters\",'rb')\n",
    "movies=pickle.load(f6)\n",
    "f6.close()"
   ]
  },
  {
   "cell_type": "markdown",
   "metadata": {},
   "source": [
    "Let's remove any duplicates that we have in the list of movies"
   ]
  },
  {
   "cell_type": "code",
   "execution_count": 30,
   "metadata": {},
   "outputs": [
    {
     "name": "stdout",
     "output_type": "stream",
     "text": [
      "originally we had  1777  movies\n",
      "1701\n",
      "After removing duplicates we have  1701  movies\n"
     ]
    }
   ],
   "source": [
    "movie_ids = [m['id'] for m in movies]\n",
    "print \"originally we had \",len(movie_ids),\" movies\"\n",
    "movie_ids=np.unique(movie_ids)\n",
    "print len(movie_ids)\n",
    "seen_before=[]\n",
    "no_duplicate_movies=[]\n",
    "for i in range(len(movies)):\n",
    "    movie=movies[i]\n",
    "    id=movie['id']\n",
    "    if id in seen_before:\n",
    "        continue\n",
    "#         print \"Seen before\"\n",
    "    else:\n",
    "        seen_before.append(id)\n",
    "        no_duplicate_movies.append(movie)\n",
    "print \"After removing duplicates we have \",len(no_duplicate_movies), \" movies\""
   ]
  },
  {
   "cell_type": "markdown",
   "metadata": {},
   "source": [
    "Also, let's remove movies for which we have no posters!"
   ]
  },
  {
   "cell_type": "code",
   "execution_count": 31,
   "metadata": {
    "scrolled": true
   },
   "outputs": [
    {
     "name": "stdout",
     "output_type": "stream",
     "text": [
      "('Total movies : ', 1777)\n",
      "Done with all the posters!\n"
     ]
    }
   ],
   "source": [
    "poster_movies=[]\n",
    "counter=0\n",
    "movies_no_poster=[]\n",
    "print(\"Total movies : \",len(movies))\n",
    "# print(\"Started downloading posters...\")\n",
    "# for movie in movies:\n",
    "#     id=movie['id']\n",
    "#     title=movie['title']\n",
    "#     if counter==1:\n",
    "#         print('Downloaded first. Code is working fine. Please wait, this will take quite some time...')\n",
    "#     if counter%300==0 and counter!=0:\n",
    "#         print \"Done with \",counter,\" movies!\"\n",
    "#         print \"Trying to get poster for \",title\n",
    "#     try:\n",
    "#         grab_poster_tmdb(title)\n",
    "#         poster_movies.append(movie)\n",
    "#     except:\n",
    "#         try:\n",
    "#             time.sleep(7)\n",
    "#             grab_poster_tmdb(title)\n",
    "#             poster_movies.append(movie)\n",
    "#         except:\n",
    "#             movies_no_poster.append(movie)\n",
    "#     counter+=1\n",
    "print(\"Done with all the posters!\")"
   ]
  },
  {
   "cell_type": "code",
   "execution_count": 32,
   "metadata": {},
   "outputs": [
    {
     "name": "stdout",
     "output_type": "stream",
     "text": [
      "0\n",
      "0\n"
     ]
    }
   ],
   "source": [
    "print len(movies_no_poster)\n",
    "print len(poster_movies)"
   ]
  },
  {
   "cell_type": "code",
   "execution_count": 33,
   "metadata": {},
   "outputs": [],
   "source": [
    "# f=open('poster_movies.pckl','w')\n",
    "# pickle.dump(poster_movies,f)\n",
    "# f.close()"
   ]
  },
  {
   "cell_type": "code",
   "execution_count": 34,
   "metadata": {},
   "outputs": [],
   "source": [
    "f=open('poster_movies.pckl','r')\n",
    "poster_movies=pickle.load(f)\n",
    "f.close()"
   ]
  },
  {
   "cell_type": "code",
   "execution_count": 35,
   "metadata": {},
   "outputs": [],
   "source": [
    "# f=open('no_poster_movies.pckl','w')\n",
    "# pickle.dump(movies_no_poster,f)\n",
    "# f.close()"
   ]
  },
  {
   "cell_type": "code",
   "execution_count": 36,
   "metadata": {},
   "outputs": [],
   "source": [
    "f=open('no_poster_movies.pckl','r')\n",
    "movies_no_poster=pickle.load(f)\n",
    "f.close()"
   ]
  },
  {
   "cell_type": "markdown",
   "metadata": {},
   "source": [
    "# Congratulations, we are done scraping!"
   ]
  },
  {
   "cell_type": "markdown",
   "metadata": {},
   "source": [
    "# Building a dataset out of the scraped information!"
   ]
  },
  {
   "cell_type": "markdown",
   "metadata": {},
   "source": [
    "This task is simple, but **extremely** important. It's basically what will set the stage for the whole project. Given that you have the freedom to cast their own project within the framework I am providing, there are many decisions that you must make to finalize **your own version** of the project."
   ]
  },
  {
   "cell_type": "markdown",
   "metadata": {},
   "source": [
    "As we are working on a **classification** problem, we need to make two decisions given the data at hand - \n",
    "* What do we want to predict, i.e. what's our Y?\n",
    "* What features to use for predicting this Y, i.e. what X should we use?"
   ]
  },
  {
   "cell_type": "markdown",
   "metadata": {},
   "source": [
    "There are many different options possible, and it comes down to you to decide what's most exciting. I will be picking my own version for the example, **but it is imperative that you think this through, and come up with a version which excites you!**"
   ]
  },
  {
   "cell_type": "markdown",
   "metadata": {},
   "source": [
    "As an example, here are some possible ways to frame Y, while still sticking to the problem of genre prediction -\n",
    "\n",
    "* Assume every movie can have multiple genres, and then it becomes a multi-label classification problem. For example, a movie can be Action, Horror and Adventure simultaneously. Thus, every movie can be more than one genre.\n",
    "\n",
    "* Make clusters of genres as we did in Milestone 1 using biclustering, and then every movie can have only 1 genre. This way, the problem becomes a simpler, multi-class problem. For example, a movie could have the class - Uplifting (refer Milestone 1), or Horror or History. No movie get's more than one class.\n",
    "\n",
    "For the purposes of this implementation, I'm going with the first case explained above - i.e. a multi-label classification problem."
   ]
  },
  {
   "cell_type": "markdown",
   "metadata": {},
   "source": [
    "Similarly, for designing our input features i.e. X, you may pick any features you think make sense, for example, the Director of a movie may be a good predictor for genre. OR, they may choose any features they design using algorithms like PCA. Given the richness of IMDB, TMDB and alternate sources like Wikipedia, there is a plethora of options available. **Be creative here!**"
   ]
  },
  {
   "cell_type": "markdown",
   "metadata": {},
   "source": [
    "Another important thing to note is that in doing so, we must also make many more small implementation decisions on the way. For example, what genres are we going to include? what movies are we going to include? All these are open ended!"
   ]
  },
  {
   "cell_type": "markdown",
   "metadata": {},
   "source": [
    "## My Implementation"
   ]
  },
  {
   "cell_type": "markdown",
   "metadata": {},
   "source": [
    "Implementation decisions made - \n",
    "* The problem is framed here as a multi-label problem explained above. \n",
    "* We will try to predict multiple genres associated with a movie. This will be our Y.\n",
    "* We will use 2 different kinds of X - text and images. \n",
    "* For the text part - Input features being used to predict the genre is a form of the movie's plot available from TMDB using the property 'overview'. This will be our X.\n",
    "* For the image part - we will use the scraped poster images as our X. \n",
    "\n",
    "NOTE : We will first look at some conventional machine learning models, which were popular before the recent rise of neural networks and deep learning. For the poster image to genre prediction, I have avoided using this for the reason that conventional ML models are simply not used anymore without using deep learning for feature extraction (all discussed in detail ahead, don't be scared by the jargon). For the movie overview to genre prediction problem we will look at both conventional models and deep learning models. \n",
    "\n",
    "Now, let's build our X and Y!"
   ]
  },
  {
   "cell_type": "markdown",
   "metadata": {},
   "source": [
    "First, let's identify movies that have overviews. **Next few steps are going to be a good example on why data cleaning is important!**"
   ]
  },
  {
   "cell_type": "code",
   "execution_count": 37,
   "metadata": {},
   "outputs": [
    {
     "data": {
      "text/plain": [
       "1680"
      ]
     },
     "execution_count": 37,
     "metadata": {},
     "output_type": "execute_result"
    }
   ],
   "source": [
    "movies_with_overviews=[]\n",
    "for i in range(len(no_duplicate_movies)):\n",
    "    movie=no_duplicate_movies[i]\n",
    "    id=movie['id']\n",
    "    overview=movie['overview']\n",
    "    \n",
    "    if len(overview)==0:\n",
    "        continue\n",
    "    else:\n",
    "        movies_with_overviews.append(movie)\n",
    "        \n",
    "len(movies_with_overviews)"
   ]
  },
  {
   "cell_type": "markdown",
   "metadata": {},
   "source": [
    "Now let's store the genre's for these movies in a list that we will later transform into a binarized vector. \n",
    "\n",
    "Binarized vector representation is a very common and important way data is stored/represented in ML. Essentially, it's a way to reduce a categorical variable with n possible values to n binary indicator variables. What does that mean? For example, let [(1,3),(4)] be the list saying that sample A has two labels 1 and 3, and sample B has one label 4. For every sample, for every possible label, the representation is simply 1 if it has that label, and 0 if it doesn't have that label. So the binarized version of the above list will be -\n",
    "~~~~~\n",
    "[(1,0,1,0]),\n",
    "(0,0,0,1])]\n",
    "~~~~~"
   ]
  },
  {
   "cell_type": "code",
   "execution_count": 38,
   "metadata": {},
   "outputs": [],
   "source": [
    "# genres=np.zeros((len(top1000_movies),3))\n",
    "genres=[]\n",
    "all_ids=[]\n",
    "for i in range(len(movies_with_overviews)):\n",
    "    movie=movies_with_overviews[i]\n",
    "    id=movie['id']\n",
    "    genre_ids=movie['genre_ids']\n",
    "    genres.append(genre_ids)\n",
    "    all_ids.extend(genre_ids)"
   ]
  },
  {
   "cell_type": "code",
   "execution_count": 39,
   "metadata": {},
   "outputs": [],
   "source": [
    "from sklearn.preprocessing import MultiLabelBinarizer\n",
    "mlb=MultiLabelBinarizer()\n",
    "Y=mlb.fit_transform(genres)"
   ]
  },
  {
   "cell_type": "code",
   "execution_count": 40,
   "metadata": {},
   "outputs": [
    {
     "data": {
      "text/plain": [
       "[28, 12]"
      ]
     },
     "execution_count": 40,
     "metadata": {},
     "output_type": "execute_result"
    }
   ],
   "source": [
    "genres[1]"
   ]
  },
  {
   "cell_type": "code",
   "execution_count": 41,
   "metadata": {},
   "outputs": [
    {
     "name": "stdout",
     "output_type": "stream",
     "text": [
      "(1680, 20)\n",
      "[330 249 235 672 231 432 433 146  45 448 256 147 248 198 145 238 272  87\n",
      "  14 123]\n"
     ]
    }
   ],
   "source": [
    "print Y.shape\n",
    "print np.sum(Y, axis=0)"
   ]
  },
  {
   "cell_type": "code",
   "execution_count": 42,
   "metadata": {},
   "outputs": [
    {
     "data": {
      "text/plain": [
       "19"
      ]
     },
     "execution_count": 42,
     "metadata": {},
     "output_type": "execute_result"
    }
   ],
   "source": [
    "len(list_of_genres)"
   ]
  },
  {
   "cell_type": "markdown",
   "metadata": {},
   "source": [
    "This is interesting. We started with only 19 genre labels if you remember. But the shape for Y is 1666,20 while it should be 1666,19 as there are only 19 genres? Let's explore."
   ]
  },
  {
   "cell_type": "markdown",
   "metadata": {},
   "source": [
    "Let's find genre IDs that are not present in our original list of genres!"
   ]
  },
  {
   "cell_type": "code",
   "execution_count": 43,
   "metadata": {},
   "outputs": [],
   "source": [
    "# # Create a tmdb genre object!\n",
    "# genres=tmdb.Genres()\n",
    "# # the list() method of the Genres() class returns a listing of all genres in the form of a dictionary.\n",
    "# list_of_genres=genres.list()['genres']\n",
    "# Genre_ID_to_name={}\n",
    "# for i in range(len(list_of_genres)):\n",
    "#     genre_id=list_of_genres[i]['id']\n",
    "#     genre_name=list_of_genres[i]['name']\n",
    "#     Genre_ID_to_name[genre_id]=genre_name\n",
    "x={\n",
    "  \"genres\": [\n",
    "    {\n",
    "      \"id\": 28,\n",
    "      \"name\": \"Action\"\n",
    "    },\n",
    "    {\n",
    "      \"id\": 12,\n",
    "      \"name\": \"Adventure\"\n",
    "    },\n",
    "    {\n",
    "      \"id\": 16,\n",
    "      \"name\": \"Animation\"\n",
    "    },\n",
    "    {\n",
    "      \"id\": 35,\n",
    "      \"name\": \"Comedy\"\n",
    "    },\n",
    "    {\n",
    "      \"id\": 80,\n",
    "      \"name\": \"Crime\"\n",
    "    },\n",
    "    {\n",
    "      \"id\": 99,\n",
    "      \"name\": \"Documentary\"\n",
    "    },\n",
    "    {\n",
    "      \"id\": 18,\n",
    "      \"name\": \"Drama\"\n",
    "    },\n",
    "    {\n",
    "      \"id\": 10751,\n",
    "      \"name\": \"Family\"\n",
    "    },\n",
    "    {\n",
    "      \"id\": 14,\n",
    "      \"name\": \"Fantasy\"\n",
    "    },\n",
    "    {\n",
    "      \"id\": 36,\n",
    "      \"name\": \"History\"\n",
    "    },\n",
    "    {\n",
    "      \"id\": 27,\n",
    "      \"name\": \"Horror\"\n",
    "    },\n",
    "    {\n",
    "      \"id\": 10402,\n",
    "      \"name\": \"Music\"\n",
    "    },\n",
    "    {\n",
    "      \"id\": 9648,\n",
    "      \"name\": \"Mystery\"\n",
    "    },\n",
    "    {\n",
    "      \"id\": 10749,\n",
    "      \"name\": \"Romance\"\n",
    "    },\n",
    "    {\n",
    "      \"id\": 878,\n",
    "      \"name\": \"Science Fiction\"\n",
    "    },\n",
    "    {\n",
    "      \"id\": 10770,\n",
    "      \"name\": \"TV Movie\"\n",
    "    },\n",
    "    {\n",
    "      \"id\": 53,\n",
    "      \"name\": \"Thriller\"\n",
    "    },\n",
    "    {\n",
    "      \"id\": 10752,\n",
    "      \"name\": \"War\"\n",
    "    },\n",
    "    {\n",
    "      \"id\": 37,\n",
    "      \"name\": \"Western\"\n",
    "    }\n",
    "  ]\n",
    "}\n",
    "Genre_ID_to_name={}\n",
    "for item in x['genres']:\n",
    "\tGenre_ID_to_name[item['id']]=item['name']\n",
    "\n"
   ]
  },
  {
   "cell_type": "code",
   "execution_count": 44,
   "metadata": {},
   "outputs": [
    {
     "name": "stdout",
     "output_type": "stream",
     "text": [
      "10769\n"
     ]
    }
   ],
   "source": [
    "for i in set(all_ids):\n",
    "    if i not in Genre_ID_to_name.keys():\n",
    "        print i"
   ]
  },
  {
   "cell_type": "markdown",
   "metadata": {},
   "source": [
    "Well, this genre ID wasn't given to us by TMDB when we asked it for all possible genres. How do we go about this now? We can either neglect all samples that have this genre. But if you look up you'll see there's too many of these samples. So, I googled more and went into their documentation and found that this ID corresponds to the genre \"Foreign\". So, we add it to the dictionary of genre names ourselves. Such problems are ubiquitous in machine learning, and it is up to us to diagnose and correct them. We must always make a decision about what to keep, how to store data and so on. "
   ]
  },
  {
   "cell_type": "code",
   "execution_count": 45,
   "metadata": {},
   "outputs": [],
   "source": [
    "Genre_ID_to_name[10769]=\"Foreign\" #Adding it to the dictionary"
   ]
  },
  {
   "cell_type": "code",
   "execution_count": 46,
   "metadata": {},
   "outputs": [
    {
     "data": {
      "text/plain": [
       "20"
      ]
     },
     "execution_count": 46,
     "metadata": {},
     "output_type": "execute_result"
    }
   ],
   "source": [
    "len(Genre_ID_to_name.keys())"
   ]
  },
  {
   "cell_type": "markdown",
   "metadata": {},
   "source": [
    "Now, we turn to building the X matrix i.e. the input features! As described earlier, we will be using the overview of movies as our input vector! Let's look at a movie's overview for example!"
   ]
  },
  {
   "cell_type": "code",
   "execution_count": 47,
   "metadata": {},
   "outputs": [
    {
     "name": "stdout",
     "output_type": "stream",
     "text": [
      "The overview for the movie Pacific Rim  is - \n",
      "\n",
      "\n",
      "When legions of monstrous creatures, known as Kaiju, started rising from the sea, a war began that would take millions of lives and consume humanity's resources for years on end. To combat the giant Kaiju, a special type of weapon was devised: massive robots, called Jaegers, which are controlled simultaneously by two pilots whose minds are locked in a neural bridge. But even the Jaegers are proving nearly defenseless in the face of the relentless Kaiju. On the verge of defeat, the forces defending mankind have no choice but to turn to two unlikely heroes—a washed-up former pilot (Charlie Hunnam) and an untested trainee (Rinko Kikuchi)—who are teamed to drive a legendary but seemingly obsolete Jaeger from the past. Together, they stand as mankind's last hope against the mounting apocalypse.\n"
     ]
    }
   ],
   "source": [
    "sample_movie=movies_with_overviews[5]\n",
    "sample_overview=sample_movie['overview']\n",
    "sample_title=sample_movie['title']\n",
    "print \"The overview for the movie\",sample_title,\" is - \\n\\n\"\n",
    "print sample_overview"
   ]
  },
  {
   "cell_type": "markdown",
   "metadata": {},
   "source": [
    "## So, how do we store this movie overview in a matrix?\n",
    "\n",
    "#### Do we just store the whole string? We know that we need to work with numbers, but this is all text. What do we do?!"
   ]
  },
  {
   "cell_type": "markdown",
   "metadata": {},
   "source": [
    "The way we will be storing the X matrix is called a \"Bag of words\" representation. The basic idea of this representation in our context is that we can think of all the distinct words that are possible in the movies' reviews as a distinct object. And then every movie overview can be thought as a \"Bag\" containing a bunch of these possible objects.\n",
    "\n",
    "For example, in the case of Zootopia the movie above - The \"Bag\" contains the words (\"Determined\", \"to\", \"prove\", \"herself\"......\"the\", \"mystery\"). We make such lists for all movie overviews. Finally, we binarize again like we did above for Y. scikit-learn makes our job easy here by simply using a function CountVectorizer() because this representation is so often used in Machine Learning."
   ]
  },
  {
   "cell_type": "markdown",
   "metadata": {},
   "source": [
    "What this means is that, for all the movies that we have the data on, we will first count all the unique words. Say, there's 30,000 unique words. Then we can represent every movie overview as a 30000x1 vector, where each position in the vector corresponds to the presence or absence of a particular word. If the word corresponding to that position is present in the overview, that position will have 1, otherwise it will be 0. \n",
    "\n",
    "Ex - if our vocabular was 4 words - \"I\",\"am\",\"a\",\"good\",\"boy\", then the representation for the sentence \"I am a boy\" would be [1 1 1 0 1], and for the sentence \"I am good\" would be [1 1 0 1 0]."
   ]
  },
  {
   "cell_type": "code",
   "execution_count": 48,
   "metadata": {},
   "outputs": [],
   "source": [
    "from sklearn.feature_extraction.text import CountVectorizer\n",
    "import re"
   ]
  },
  {
   "cell_type": "code",
   "execution_count": 49,
   "metadata": {},
   "outputs": [],
   "source": [
    "content=[]\n",
    "for i in range(len(movies_with_overviews)):\n",
    "    movie=movies_with_overviews[i]\n",
    "    id=movie['id']\n",
    "    overview=movie['overview']\n",
    "    overview=overview.replace(',','')\n",
    "    overview=overview.replace('.','')\n",
    "    content.append(overview)"
   ]
  },
  {
   "cell_type": "code",
   "execution_count": 50,
   "metadata": {},
   "outputs": [
    {
     "name": "stdout",
     "output_type": "stream",
     "text": [
      "Determined to prove herself Officer Judy Hopps the first bunny on Zootopia's police force jumps at the chance to crack her first case - even if it means partnering with scam-artist fox Nick Wilde to solve the mystery\n",
      "1680\n"
     ]
    }
   ],
   "source": [
    "print content[0]\n",
    "print len(content)"
   ]
  },
  {
   "cell_type": "markdown",
   "metadata": {},
   "source": [
    "# Are all words equally important?"
   ]
  },
  {
   "cell_type": "markdown",
   "metadata": {},
   "source": [
    "#### At the cost of sounding \"Animal Farm\" inspired, I would say not all words are equally important. \n",
    "\n",
    "For example, let's consider the overview for the Matrix - "
   ]
  },
  {
   "cell_type": "code",
   "execution_count": 51,
   "metadata": {},
   "outputs": [
    {
     "data": {
      "text/plain": [
       "u'Set in the 22nd century, The Matrix tells the story of a computer hacker who joins a group of underground insurgents fighting the vast and powerful computers who now rule the earth.'"
      ]
     },
     "execution_count": 51,
     "metadata": {},
     "output_type": "execute_result"
    }
   ],
   "source": [
    "get_movie_info_tmdb('The Matrix')['overview']"
   ]
  },
  {
   "cell_type": "markdown",
   "metadata": {},
   "source": [
    "For \"The Matrix\" a word like \"computer\" is a stronger indicators of it being a Sci-Fi movie, than words like \"who\" or \"powerful\" or \"vast\". One way computer scientists working with natural language tackled this problem in the past (and it is still used very popularly) is what we call TF-IDF i.e. Term Frequence, Inverse Document Frequency. The basic idea here is that words that are strongly indicative of the content of a single document (every movie overview is a document in our case) are words that occur very frequently in that document, and very infrequently in all other documents. For example, \"Computer\" occurs twice here but probably will not in most other movie overviews. Hence, it is indicative. On the other hand, generic words like \"a\",\"and\",\"the\" will occur very often in all documents. Hence, they are not indicative. \n",
    "\n",
    "So, can we use this information to reduce our insanely high 30,000 dimensional vector representation to a smaller, more handle-able number? But first up, why should we even care? The answer is probably one of the most used phrases in ML - \"The Curse of Dimensionality\"."
   ]
  },
  {
   "cell_type": "markdown",
   "metadata": {},
   "source": [
    "# The Curse of Dimensionality"
   ]
  },
  {
   "cell_type": "markdown",
   "metadata": {},
   "source": [
    "#### This section is strongly borrowing from one of the greatest <a href=\"https://homes.cs.washington.edu/~pedrod/papers/cacm12.pdf\">ML papers I've ever read.</a>\n",
    "\n",
    "This expression was coined by Bellman in 1961 to refer to the fact that many algorithms that work fine in low dimensions become intractable when the input is high-dimensional. The reason for them not working in high dimensions is very strongly linked to what we discussed earlier - having a representative dataset. Consider this, you have a function $f$ dependent only one dependent variable $x$, and $x$ can only integer values from 1 to 100. Since it's one dimensional, it can be plotted on a line. To get a representative sample, you'd need to sample something like - $f(1),f(20),f(40),f(60),f(80),f(100)$"
   ]
  },
  {
   "cell_type": "markdown",
   "metadata": {},
   "source": [
    "Now, let's increase the dimensionality i.e. number of dependent variables and see what happens. Say, we have 2 variables $x_1$ and $x_2$, same possible as before - integers between 1 and 100. Now, instead of a line, we'll have a plane with $x_1$ and $x_2$ on the two axes. The interesting bit is that instead of 100 possible values of dependent variables like before, we now have 100,000 possible values! Basically, we can make 100x100 table of possible values of $x_1$ and $x_2$. Wow, that increased exponentially. Not just figuratively, but mathematically exponentially. Needless to say, to cover 5% of the space like we did before, we'd need to sample $f$ at 5000 values. "
   ]
  },
  {
   "cell_type": "markdown",
   "metadata": {},
   "source": [
    "For 3 variables, it would be 100,000,000, and we'd need to sample at 500,000 points. That's already more than the number of data points we have for most training problems we will ever come across."
   ]
  },
  {
   "cell_type": "markdown",
   "metadata": {},
   "source": [
    "Basically, as the dimensionality (number of features) of the examples grows, because a fixed-size training set covers a dwindling fraction of the input space. Even with a moderate dimension of 100 and a huge training set of a trillion examples, the latter covers only a fraction of about $10^{−18}$ of the input space. This is what makes machine learning\n",
    "both necessary and hard."
   ]
  },
  {
   "cell_type": "markdown",
   "metadata": {},
   "source": [
    "So, yes, if some words are unimportant, we want to get rid of them and reduce the dimensionality of our X matrix. And the way we will do it is using TF-IDF to identify un-important words. Python let's us do this with just one line of code (And this is why you should spend more time reading maths, than coding!)"
   ]
  },
  {
   "cell_type": "code",
   "execution_count": 52,
   "metadata": {},
   "outputs": [],
   "source": [
    "# The min_df paramter makes sure we exclude words that only occur very rarely\n",
    "# The default also is to exclude any words that occur in every movie description\n",
    "vectorize=CountVectorizer(max_df=0.95, min_df=0.005)\n",
    "X=vectorize.fit_transform(content)"
   ]
  },
  {
   "cell_type": "markdown",
   "metadata": {},
   "source": [
    "We are excluding all words that occur in too many or too few documents, as these are very unlikely to be discriminative. Words that only occur in one document most probably are names, and words that occur in nearly all documents are probably stop words. Note that the values here were not tuned using a validation set. They are just guesses. It is ok to do, because we didn't evaluate the performance of these parameters. In a strict case, for example for a publication, it would be better to tune these as well. "
   ]
  },
  {
   "cell_type": "code",
   "execution_count": 53,
   "metadata": {},
   "outputs": [
    {
     "data": {
      "text/plain": [
       "(1680, 1258)"
      ]
     },
     "execution_count": 53,
     "metadata": {},
     "output_type": "execute_result"
    }
   ],
   "source": [
    "X.shape"
   ]
  },
  {
   "cell_type": "markdown",
   "metadata": {},
   "source": [
    "So, each movie's overview gets represented by a 1x1365 dimensional vector.\n",
    "\n",
    "Now, we are ready for the kill. Our data is cleaned, hypothesis is set (Overview can predict movie genre), and the feature/output vectors are prepped. Let's train some models!"
   ]
  },
  {
   "cell_type": "code",
   "execution_count": 54,
   "metadata": {},
   "outputs": [],
   "source": [
    "import pickle\n",
    "f4=open('X.pckl','wb')\n",
    "f5=open('Y.pckl','wb')\n",
    "pickle.dump(X,f4)\n",
    "pickle.dump(Y,f5)\n",
    "f6=open('Genredict.pckl','wb')\n",
    "pickle.dump(Genre_ID_to_name,f6)\n",
    "f4.close()\n",
    "f5.close()\n",
    "f6.close()"
   ]
  },
  {
   "cell_type": "markdown",
   "metadata": {},
   "source": [
    "# Congratulations, we have our data set ready!"
   ]
  },
  {
   "cell_type": "markdown",
   "metadata": {},
   "source": [
    "A note : As we are building our own dataset, and I didn't want you to spend all your time waiting for poster image downloads to finish, I am working with an EXTREMELY small dataset. That is why, the results we will see for the deep learning portion will not be spectacular as compared to conventional machine learning methods. If you want to see the real power, you should spend some more time scraping something of the order of 100,000 images, as opposed to 1000 odd like I am doing here. Quoting the paper I mentioned above -  MORE DATA BEATS A CLEVERER ALGORITHM.\n",
    "\n",
    "#### As the TA, I saw that most teams working on the project had data of the order of 100,000 movies. So, if you want to extract the power of these models, consider scraping a larger dataset than me."
   ]
  },
  {
   "cell_type": "markdown",
   "metadata": {
    "collapsed": true
   },
   "source": [
    "# Section 5 - Non-deep, Conventional ML models with above data"
   ]
  },
  {
   "cell_type": "markdown",
   "metadata": {},
   "source": [
    "Here is a layout of what we will be doing - \n",
    "\n",
    "- We will implement two different models\n",
    "- We will decide a performance metric i.e. a quantitative method to be sure about how well difference models are doing. \n",
    "- Discussion of the differences between the models, their strengths, weaknesses, etc. "
   ]
  },
  {
   "cell_type": "markdown",
   "metadata": {},
   "source": [
    "As discussed earlier, there are a LOT of implementation decisions to be made. Between feature engineering, hyper-parameter tuning, model selection and how interpretable do you want your model to be (Read : Bayesian vs Non-Bayesian approaches) a lot is to be decided. For example, some of these models could be: \n",
    "\n",
    "- Generalized Linear Models\n",
    "- SVM\n",
    "- Shallow (1 Layer, i.e. not deep) Neural Network\n",
    "- Random Forest\n",
    "- Boosting\n",
    "- Decision Tree\n",
    "\n",
    "Or go more bayesian:\n",
    "- Naive Bayes\n",
    "- Linear or Quadratic Discriminant Analysis\n",
    "- Bayesian Hierarchical models"
   ]
  },
  {
   "cell_type": "markdown",
   "metadata": {},
   "source": [
    "The list is endless, and not all models will make sense for the kind of problem you have framed for yourself. ** Think about which model best fits for your purpose.**"
   ]
  },
  {
   "cell_type": "markdown",
   "metadata": {},
   "source": [
    "For our purposes here, I will be showing the example of 2 very simple models, one picked from each category above - \n",
    "\n",
    "1. SVM\n",
    "2. Multinomial Naive Bayes"
   ]
  },
  {
   "cell_type": "markdown",
   "metadata": {},
   "source": [
    "A quick overview of the whole pipeline coming below: \n",
    "    \n",
    "- A little bit of feature engineering\n",
    "- 2 different Models \n",
    "- Evaluation Metrics chosen\n",
    "- Model comparisons"
   ]
  },
  {
   "cell_type": "markdown",
   "metadata": {},
   "source": [
    "### Let's start with some feature engineering. "
   ]
  },
  {
   "cell_type": "markdown",
   "metadata": {},
   "source": [
    "Engineering the right features depends on 2 key ideas. Firstly, what is it that you are trying to solve? For example, if you want to guess my music preferences and you try to train a super awesome model while giving it what my height is as input features, you're going to have no luck. On the other hand, giving it my Spotify playlist will solve the problem with any model. So, CONTEXT of the problem plays a role. \n",
    "\n",
    "Second, you can only represent based on the data at hand. Meaning, if you didn't have access to my Spotify playlist, but to my Facebook statuses - You know all my statuses about Harvard may not be useful. But if you represent me as my Facebook statuses which are YouTube links, that would also solve the problem. So, AVAILABILITY OF DATA at hand is the second factor. \n",
    "\n",
    "#### A nice way to think of it is to think that you start with the problem at hand, but design features constrained by the data you have available. If you have many independent features that each correlate well with the class, learning is easy. On the other hand, if the class is a very complex function of the features, you may not be able to learn it.\n",
    "\n",
    "\n",
    "In the context of this problem, we would like to predict the genre of a movie. what we have access to - movie overviews, which are text descriptions of the movie plot. The hypothesis makes sense, overview is a short description of the story and the story is clearly important in assigning genres to movies. \n",
    "\n",
    "So, let's improve our features by playing with the words in the overviews in our data. One interesting way to go back to what we discussed earlier - TF-IDF. We originally used it to filter words, but we can also assign the tf-idf values as \"importance\" values to words, as opposed to treating them all equally. Tf-idf simply tries to identify the assign a weightage to each word in the bag of words. "
   ]
  },
  {
   "cell_type": "markdown",
   "metadata": {},
   "source": [
    "Once again, the way it works is - Most movie descriptions have the word \"The\" in it. Obviously, it doesn't tell you anything special about it. So weightage should be inversely proportional to how many movies have the word in their description. This is the IDF part.\n",
    "\n",
    "On the other hand, for the movie interstellar, if the description has the word Space 5 times, and wormhole 2 times, then it's probably more about Space than about wormhole. Thus, space should have a high weightage. This is the TF part. \n",
    "\n",
    "We simply use TF-IDf to assign weightage to every word in the bag of words. Which makes sense, right? :)"
   ]
  },
  {
   "cell_type": "code",
   "execution_count": 55,
   "metadata": {},
   "outputs": [],
   "source": [
    "from sklearn.feature_extraction.text import TfidfTransformer"
   ]
  },
  {
   "cell_type": "code",
   "execution_count": 56,
   "metadata": {},
   "outputs": [
    {
     "data": {
      "text/plain": [
       "(1680, 1258)"
      ]
     },
     "execution_count": 56,
     "metadata": {},
     "output_type": "execute_result"
    }
   ],
   "source": [
    "tfidf_transformer = TfidfTransformer()\n",
    "X_tfidf = tfidf_transformer.fit_transform(X)\n",
    "X_tfidf.shape"
   ]
  },
  {
   "cell_type": "markdown",
   "metadata": {},
   "source": [
    "Let's divide our X and Y matrices into train and test split. We train the model on the train split, and report the performance on the test split. Think of this like the questions you do in the problem sets v/s the exam. Of course, they are both (assumed to be) from the same population of questions. And doing well on Problem Sets is a good indicator that you'll do well in exams, but really, you must test before you can make any claims about you knowing the subject."
   ]
  },
  {
   "cell_type": "code",
   "execution_count": 57,
   "metadata": {},
   "outputs": [],
   "source": [
    "msk = np.random.rand(X_tfidf.shape[0]) < 0.8"
   ]
  },
  {
   "cell_type": "code",
   "execution_count": 58,
   "metadata": {},
   "outputs": [],
   "source": [
    "X_train_tfidf=X_tfidf[msk]\n",
    "X_test_tfidf=X_tfidf[~msk]\n",
    "Y_train=Y[msk]\n",
    "Y_test=Y[~msk]\n",
    "positions=range(len(movies_with_overviews))\n",
    "# print positions\n",
    "test_movies=np.asarray(positions)[~msk]\n",
    "# test_movies"
   ]
  },
  {
   "cell_type": "code",
   "execution_count": 59,
   "metadata": {},
   "outputs": [],
   "source": [
    "from sklearn.multiclass import OneVsRestClassifier\n",
    "from sklearn.svm import SVC\n",
    "from sklearn.model_selection import GridSearchCV\n",
    "from sklearn.metrics import f1_score\n",
    "from sklearn.metrics import make_scorer\n",
    "from sklearn.metrics import classification_report"
   ]
  },
  {
   "cell_type": "code",
   "execution_count": 60,
   "metadata": {},
   "outputs": [
    {
     "data": {
      "text/plain": [
       "OneVsRestClassifier(estimator=GridSearchCV(cv=None, error_score='raise',\n",
       "       estimator=SVC(C=1.0, cache_size=200, class_weight='balanced', coef0=0.0,\n",
       "  decision_function_shape='ovr', degree=3, gamma='auto', kernel='rbf',\n",
       "  max_iter=-1, probability=False, random_state=None, shrinking=True,\n",
       "  tol=0.001, verbose=False)...fit=True, return_train_score='warn',\n",
       "       scoring=make_scorer(f1_score, average=micro), verbose=0),\n",
       "          n_jobs=1)"
      ]
     },
     "execution_count": 60,
     "metadata": {},
     "output_type": "execute_result"
    }
   ],
   "source": [
    "parameters = {'kernel':['linear'], 'C':[0.01, 0.1, 1.0]}\n",
    "gridCV = GridSearchCV(SVC(class_weight='balanced'), parameters, scoring=make_scorer(f1_score, average='micro'))\n",
    "classif = OneVsRestClassifier(gridCV)\n",
    "\n",
    "classif.fit(X_train_tfidf, Y_train)"
   ]
  },
  {
   "cell_type": "code",
   "execution_count": 61,
   "metadata": {},
   "outputs": [
    {
     "name": "stdout",
     "output_type": "stream",
     "text": [
      "             precision    recall  f1-score   support\n",
      "\n",
      "  Adventure       0.00      0.00      0.00        62\n",
      "  Animation       0.25      0.47      0.32        45\n",
      "     Comedy       0.31      0.57      0.40        44\n",
      "     Family       0.56      0.61      0.58       138\n",
      "\n",
      "avg / total       0.37      0.50      0.41       997\n",
      "\n"
     ]
    },
    {
     "name": "stderr",
     "output_type": "stream",
     "text": [
      "/usr/local/lib/python2.7/dist-packages/sklearn/metrics/classification.py:1428: UserWarning: labels size, 20, does not match size of target_names, 4\n",
      "  .format(len(labels), len(target_names))\n",
      "/usr/local/lib/python2.7/dist-packages/sklearn/metrics/classification.py:1135: UndefinedMetricWarning: Precision and F-score are ill-defined and being set to 0.0 in labels with no predicted samples.\n",
      "  'precision', 'predicted', average, warn_for)\n"
     ]
    }
   ],
   "source": [
    "predstfidf=classif.predict(X_test_tfidf)\n",
    "\n",
    "print classification_report(Y_test, predstfidf, target_names=genre_names)"
   ]
  },
  {
   "cell_type": "markdown",
   "metadata": {},
   "source": [
    "As you can see, the performance is by and large poorer for movies which are less represented like War and animation, and better for categories like Drama."
   ]
  },
  {
   "cell_type": "markdown",
   "metadata": {},
   "source": [
    "Numbers aside, let's look at our model's predictions for a small sample of movies from our test set."
   ]
  },
  {
   "cell_type": "code",
   "execution_count": 62,
   "metadata": {},
   "outputs": [],
   "source": [
    "genre_list=sorted(list(Genre_ID_to_name.keys()))"
   ]
  },
  {
   "cell_type": "code",
   "execution_count": 63,
   "metadata": {},
   "outputs": [],
   "source": [
    "predictions=[]\n",
    "for i in range(X_test_tfidf.shape[0]):\n",
    "    pred_genres=[]\n",
    "    movie_label_scores=predstfidf[i]\n",
    "#     print movie_label_scores\n",
    "    for j in range(20):\n",
    "        #print j\n",
    "        if movie_label_scores[j]!=0:\n",
    "            genre=Genre_ID_to_name[genre_list[j]]\n",
    "            pred_genres.append(genre)\n",
    "    predictions.append(pred_genres)"
   ]
  },
  {
   "cell_type": "code",
   "execution_count": 64,
   "metadata": {},
   "outputs": [],
   "source": [
    "import pickle\n",
    "f=open('classifer_svc','wb')\n",
    "pickle.dump(classif,f)\n",
    "f.close()"
   ]
  },
  {
   "cell_type": "code",
   "execution_count": 65,
   "metadata": {},
   "outputs": [
    {
     "name": "stdout",
     "output_type": "stream",
     "text": [
      "MOVIE:  Trolls \tPREDICTION:  Fantasy,Animation,Drama,Science Fiction,Family\n",
      "MOVIE:  The Hobbit: The Battle of the Five Armies \tPREDICTION:  Fantasy,Comedy,Thriller,Crime,Science Fiction\n",
      "MOVIE:  Forbidden Kingdom \tPREDICTION:  Fantasy,Drama,Thriller,Science Fiction,Romance\n",
      "MOVIE:  The Nut Job \tPREDICTION:  Fantasy,Animation,Comedy,Science Fiction,Romance\n",
      "MOVIE:  anohana: The Flower We Saw That Day - The Movie \tPREDICTION:  Horror,Thriller,Crime,Science Fiction,Mystery\n",
      "MOVIE:  The Exorcist \tPREDICTION:  Fantasy,Drama,History,Science Fiction\n"
     ]
    }
   ],
   "source": [
    "for i in range(X_test_tfidf.shape[0]):\n",
    "    if i%50==0 and i!=0:\n",
    "        print 'MOVIE: ',movies_with_overviews[i]['title'],'\\tPREDICTION: ',','.join(predictions[i])"
   ]
  },
  {
   "cell_type": "markdown",
   "metadata": {},
   "source": [
    "Let's try our second model? The naive bayes model."
   ]
  },
  {
   "cell_type": "code",
   "execution_count": 66,
   "metadata": {},
   "outputs": [],
   "source": [
    "from sklearn.naive_bayes import MultinomialNB\n",
    "classifnb = OneVsRestClassifier(MultinomialNB())\n",
    "classifnb.fit(X[msk].toarray(), Y_train)\n",
    "predsnb=classifnb.predict(X[~msk].toarray())"
   ]
  },
  {
   "cell_type": "code",
   "execution_count": 67,
   "metadata": {},
   "outputs": [],
   "source": [
    "import pickle\n",
    "f2=open('classifer_nb','wb')\n",
    "pickle.dump(classifnb,f2)\n",
    "f2.close()"
   ]
  },
  {
   "cell_type": "code",
   "execution_count": 68,
   "metadata": {},
   "outputs": [],
   "source": [
    "predictionsnb=[]\n",
    "for i in range(X_test_tfidf.shape[0]):\n",
    "    pred_genres=[]\n",
    "    movie_label_scores=predsnb[i]\n",
    "    for j in range(20):\n",
    "        #print j\n",
    "        if movie_label_scores[j]!=0:\n",
    "            genre=Genre_ID_to_name[genre_list[j]]\n",
    "            pred_genres.append(genre)\n",
    "    predictionsnb.append(pred_genres)"
   ]
  },
  {
   "cell_type": "code",
   "execution_count": 69,
   "metadata": {},
   "outputs": [
    {
     "name": "stdout",
     "output_type": "stream",
     "text": [
      "MOVIE:  Trolls \tPREDICTION:  Fantasy,Animation,Romance,Family\n",
      "MOVIE:  The Hobbit: The Battle of the Five Armies \tPREDICTION:  Drama,Action,Comedy,Thriller,Crime,Science Fiction\n",
      "MOVIE:  Forbidden Kingdom \tPREDICTION:  Drama\n",
      "MOVIE:  The Nut Job \tPREDICTION:  Fantasy,Drama,Comedy,Romance\n",
      "MOVIE:  anohana: The Flower We Saw That Day - The Movie \tPREDICTION:  Drama,Horror,Thriller,Mystery\n",
      "MOVIE:  The Exorcist \tPREDICTION:  Drama,Family\n"
     ]
    }
   ],
   "source": [
    "for i in range(X_test_tfidf.shape[0]):\n",
    "    if i%50==0 and i!=0:\n",
    "        print 'MOVIE: ',movies_with_overviews[i]['title'],'\\tPREDICTION: ',','.join(predictionsnb[i])"
   ]
  },
  {
   "cell_type": "markdown",
   "metadata": {},
   "source": [
    "As can be seen above, the results seem promising, but how do we really compare the two models? We need to quantify our performance so that we can say which one's better. Takes us back to what we discussed right in the beginning - we're learning a function $g$ which can approximate the original unknown function $f$. For some values of $x_i$, the predictions will be wrong for sure, and we want to minimize it. \n",
    "\n",
    "For multi label systems, we often keep track of performance using \"Precision\" and \"Recall\". These are standard metrics, and you can google to read up more about them if you're new to these terms."
   ]
  },
  {
   "cell_type": "markdown",
   "metadata": {},
   "source": [
    "# Evaluation Metrics"
   ]
  },
  {
   "cell_type": "markdown",
   "metadata": {},
   "source": [
    "We will use the standard precision recall metrics for evaluating our system."
   ]
  },
  {
   "cell_type": "code",
   "execution_count": 70,
   "metadata": {},
   "outputs": [],
   "source": [
    "def precision_recall(gt,preds):\n",
    "    TP=0\n",
    "    FP=0\n",
    "    FN=0\n",
    "    for t in gt:\n",
    "        if t in preds:\n",
    "            TP+=1\n",
    "        else:\n",
    "            FN+=1\n",
    "    for p in preds:\n",
    "        if p not in gt:\n",
    "            FP+=1\n",
    "    if TP+FP==0:\n",
    "        precision=0\n",
    "    else:\n",
    "        precision=TP/float(TP+FP)\n",
    "    if TP+FN==0:\n",
    "        recall=0\n",
    "    else:\n",
    "        recall=TP/float(TP+FN)\n",
    "    return precision,recall"
   ]
  },
  {
   "cell_type": "code",
   "execution_count": 71,
   "metadata": {},
   "outputs": [
    {
     "name": "stdout",
     "output_type": "stream",
     "text": [
      "0.3654417836498762 0.5236994219653179\n"
     ]
    }
   ],
   "source": [
    "precs=[]\n",
    "recs=[]\n",
    "for i in range(len(test_movies)):\n",
    "    if i%1==0:\n",
    "        pos=test_movies[i]\n",
    "        test_movie=movies_with_overviews[pos]\n",
    "        gtids=test_movie['genre_ids']\n",
    "        gt=[]\n",
    "        for g in gtids:\n",
    "            g_name=Genre_ID_to_name[g]\n",
    "            gt.append(g_name)\n",
    "#         print predictions[i],movies_with_overviews[i]['title'],gt\n",
    "        a,b=precision_recall(gt,predictions[i])\n",
    "        precs.append(a)\n",
    "        recs.append(b)\n",
    "\n",
    "print np.mean(np.asarray(precs)),np.mean(np.asarray(recs))"
   ]
  },
  {
   "cell_type": "code",
   "execution_count": 72,
   "metadata": {},
   "outputs": [
    {
     "name": "stdout",
     "output_type": "stream",
     "text": [
      "0.5231970823011286 0.5659441233140655\n"
     ]
    }
   ],
   "source": [
    "precs=[]\n",
    "recs=[]\n",
    "for i in range(len(test_movies)):\n",
    "    if i%1==0:\n",
    "        pos=test_movies[i]\n",
    "        test_movie=movies_with_overviews[pos]\n",
    "        gtids=test_movie['genre_ids']\n",
    "        gt=[]\n",
    "        for g in gtids:\n",
    "            g_name=Genre_ID_to_name[g]\n",
    "            gt.append(g_name)\n",
    "#         print predictions[i],movies_with_overviews[i]['title'],gt\n",
    "        a,b=precision_recall(gt,predictionsnb[i])\n",
    "        precs.append(a)\n",
    "        recs.append(b)\n",
    "\n",
    "print np.mean(np.asarray(precs)),np.mean(np.asarray(recs))"
   ]
  },
  {
   "cell_type": "markdown",
   "metadata": {},
   "source": [
    "The average precision and recall scores for our samples are pretty good! Models seem to be working! Also, we can see that the Naive Bayes performs outperforms SVM. **I strongly suggest you to go read about Multinomial Bayes and think about why it works so well for \"Document Classification\", which is very similar to our case as every movie overview can be thought of as a document we are assigning labels to.**"
   ]
  },
  {
   "cell_type": "markdown",
   "metadata": {},
   "source": [
    "# Section 6 - Deep Learning : an intuitive overview"
   ]
  },
  {
   "cell_type": "markdown",
   "metadata": {},
   "source": [
    "The above results were good, but it's time to bring out the big guns. So first and foremost, let's get a very short idea about what's deep learning. This is for peope who don't have background in this - it's high level and gives just the intuition. "
   ]
  },
  {
   "cell_type": "markdown",
   "metadata": {},
   "source": [
    "As described above, the two most immportant concepts in doing good classification (or regression) are to 1) use the right representation which captures the right information about the data which is relavant to the problem at hand 2) Using the right model which has the capability of making sense of the representation fed to it. "
   ]
  },
  {
   "cell_type": "markdown",
   "metadata": {},
   "source": [
    "While for the second part we have complicated and powerful models that we have studied at length, we don't seem to have a principled, mathematical way of doing the first part - i.e. representation. What we did above was to see \"What makes sense\", and go from there. That is not a good approach for complex data/ complex problems. Is there some way to automate this? Deep Learning, does just this."
   ]
  },
  {
   "cell_type": "markdown",
   "metadata": {},
   "source": [
    "To just emphasize the importance of representation in the complex tasks we usually attempt with Deep Learning, let me talk about the original problem which made it famous. The paper is often reffered to as the \"Imagenet Challenge Paper\", and it was basically working on object recognition in images. Let's try to think about an algorithm that tries to detect a chair. \n",
    "\n",
    "## If I ask you to \"Define\" a chair, how would you? - Something with 4 legs?"
   ]
  },
  {
   "cell_type": "markdown",
   "metadata": {},
   "source": [
    "<img src=\"files/chair1.png\" height=\"400\" width=\"400\">\n",
    "<h3><center>All are chairs, none with 4 legs. (Pic Credit: Zoya Bylinskii)</center></h3>"
   ]
  },
  {
   "cell_type": "markdown",
   "metadata": {},
   "source": [
    "## How about some surface that we sit on then?"
   ]
  },
  {
   "cell_type": "markdown",
   "metadata": {},
   "source": [
    "<img src=\"files/chair2.png\" height=\"400\" width=\"400\">\n",
    "<h3><center>All are surfaces we sit on, none are chairs. (Pic Credit: Zoya Bylinskii)</center></h3>"
   ]
  },
  {
   "cell_type": "markdown",
   "metadata": {},
   "source": [
    "Clearly, these definitions won't work and we need something more complicated. Sadly, we can't come up with a simple text rule that our computer can search for! And we take a more principled approach."
   ]
  },
  {
   "cell_type": "markdown",
   "metadata": {},
   "source": [
    "The \"Deep\" in the deep learning comes from the fact that it was conventionally applied to Neural Networks. Neural Networks, as we all know, are structures organized in layers. Layers of computations. Why do we need layers? Because these layers can be seen as sub-tasks that we do in the complicated task of identifying a chair. It can be thought as a heirarchical break down of a complicated job into smalled sub-tasks. \n",
    "\n",
    "Mathematically, each layer acts like a space transformation which takes the pixel values to a high dimensional space. When we start out, every pixel in the image is given equal importance in our matrix. With each layer, convolution operations give some parts more importance, and some lesser importance. In doing so, we transform our images to a space in which similar looking objects/object parts are closer (We are basically learning this space transformation in deep learning, nothing else)\n"
   ]
  },
  {
   "cell_type": "markdown",
   "metadata": {},
   "source": [
    "What exactly was learnt by these neural networks is hard to know, and an active area of research. But one very crude way to visualize what it does is to think like - It starts by learning very generic features in the first layer. Something as simple as vertical and horizontal lines. In the next layer, it learns that if you combine the vectors representing vertical and horizontal vectors in different ratios, you can make all possible slanted lines. Next layer learns to combine lines to form curves - Say, something like the outline of a face. These curves come together to form 3D objects. And so on. Building sub-modules, combining them in the right way which can give it semantics."
   ]
  },
  {
   "cell_type": "markdown",
   "metadata": {},
   "source": [
    "**So, in a nutshell, the first few layers of a \"Deep\" network learn the right representation of the data, given the problem (which is mathematically described by your objective function trying to minimize difference between ground truth and predicted labels). The last layer simply looks how close or far apart things are in this high dimensional space.**"
   ]
  },
  {
   "cell_type": "markdown",
   "metadata": {},
   "source": [
    "Hence, we can give any kind of data a high dimensional representation using neural networks. Below we will see high dimensional representations of both words in overviews (text) and posters (image). Let's get started with the posters i.e. extracting visual features from posters using deep learning."
   ]
  },
  {
   "cell_type": "markdown",
   "metadata": {},
   "source": [
    "# Section 7 - Deep Learning for predicting genre from poster\n",
    "\n",
    "Once again, we must make an implementation decision. This time, it has more to do with how much time are we willing to spend in return for added accuracy. We are going to use here a technique that is commonly referred to as Pre-Training in Machine Learning Literature. \n",
    "\n",
    "Instead of me trying to re-invent the wheel here, I am going to borrow this short section on pre-training from Stanford University's lecture on <a href='http://cs231n.github.io/transfer-learning/'> CNN's</a>. To quote - \n",
    "\n",
    "''In practice, very few people train an entire Convolutional Network from scratch (with random initialization), because it is relatively rare to have a dataset of sufficient size. Instead, it is common to pretrain a ConvNet on a very large dataset (e.g. ImageNet, which contains 1.2 million images with 1000 categories), and then use the ConvNet either as an initialization or a fixed feature extractor for the task of interest. ''\n",
    "\n",
    "There are three broad ways in which transfer learning or pre-training can be done. (The 2 concepts are different and to understand the difference clearly, I suggest you read the linked lecture thoroughly). The way we are going to about it is by using a pre-trained, released ConvNet as feature extractor. Take a ConvNet pretrained on ImageNet (a popular object detection dataset), remove the last fully-connected layer. After removing the last layer, what we have is just another neural network i.e. a stack of space tranformations. But, originally the output of this stack can be pumped into a single layer which can classify the image into categories like Car, Dog, Cat and so on.\n",
    "\n",
    "What this means, is that in the space this stack transforms the images to, all images which contain a \"dog\" are closer to each other, and all images containing a \"cat\" are closer. Thus, it is a meaningful space where images with similar objects are closer. \n",
    "\n",
    "Think about it, now if we pump our posters through this stack, it will embed them in a space where posters which contain similar objects are closer. This is a very meaningful feature engineering method! While this may not be ideal for genre prediction, it might be quite meaningful. For example, all posters with a gun or a car are probably action. While a smiling couple would point to romance or drama. The alternative would be to train the CNN from scratch which is fairly computationally intensive and involves a lot of tricks to get the CNN training to converge to the optimal space tranformation.\n",
    "\n",
    "This way, we can start off with something strong, and then build on top. We pump our images through the pre-trained network to extract the visual features from the posters. Then, using these features as descriptors for the image, and genres as the labels, we train a simpler neural network from scratch which learns to do simply classification on this dataset. These 2 steps are exactly what we are going to do for predicting genres from movie posters."
   ]
  },
  {
   "cell_type": "markdown",
   "metadata": {},
   "source": [
    "## Deep Learning to extract visual features from posters"
   ]
  },
  {
   "cell_type": "markdown",
   "metadata": {},
   "source": [
    "The basic problem here we are answering is that can we use the posters to predict genre. First check - Does this hypothesis make sense? Yes. Because that's what graphic designers do for a living. They leave visual cues to semantics. They make sure that when we look at the poster of a horror movie, we know it's not a happy image. Things like that. Can our deep learning system infer such subtleties? Let's find out!"
   ]
  },
  {
   "cell_type": "markdown",
   "metadata": {},
   "source": [
    "For Visual features, either we can train a deep neural network ourselves from scratch, or we can use a pre-trained one made available to us from the Visual Geometry Group at Oxford University, one of the most popular methods. This is called the VGG-net. Or as they call it, we will extract the VGG features of an image. Mathematically, as mentioned, it's just a space transformation in the form of layers. So, we simply need to perform this chain of transformations on our image, right? Keras is a library that makes it very easy for us to do this. Some other common ones are Tensorflow and PyTorch. While the latter two are very powerful and customizable and used more often in practice, Keras makes it easy to prototype by keeping the syntax simple.\n",
    "\n",
    "\n",
    "We will be working with Keras to keep things simple in code, so that we can spend more time understanding and less time coding. Some common ways people refer to this step are - \"Getting the VGG features of an image\", or \"Forward Propogating the image through VGG and chopping off the last layer\". In keras, this is as easy as writing 4 lines. "
   ]
  },
  {
   "cell_type": "code",
   "execution_count": 73,
   "metadata": {},
   "outputs": [],
   "source": [
    "# Loading the list of movies we had downloaded posters for eariler - \n",
    "f=open('poster_movies.pckl','r')\n",
    "poster_movies=pickle.load(f)\n",
    "f.close()"
   ]
  },
  {
   "cell_type": "code",
   "execution_count": 74,
   "metadata": {},
   "outputs": [
    {
     "name": "stderr",
     "output_type": "stream",
     "text": [
      "/usr/local/lib/python2.7/dist-packages/h5py/__init__.py:36: FutureWarning: Conversion of the second argument of issubdtype from `float` to `np.floating` is deprecated. In future, it will be treated as `np.float64 == np.dtype(float).type`.\n",
      "  from ._conv import register_converters as _register_converters\n",
      "Using TensorFlow backend.\n"
     ]
    }
   ],
   "source": [
    "from keras.applications.vgg16 import VGG16\n",
    "from keras.preprocessing import image\n",
    "from keras.applications.vgg16 import preprocess_input\n",
    "import numpy as np\n",
    "import pickle\n",
    "model = VGG16(weights='imagenet', include_top=False)"
   ]
  },
  {
   "cell_type": "code",
   "execution_count": 75,
   "metadata": {},
   "outputs": [
    {
     "name": "stdout",
     "output_type": "stream",
     "text": [
      "Starting extracting VGG features for scraped images. This will take time, Please be patient...\n",
      "Total images =  1378\n",
      "1568\n",
      "/home/yash/notebook/DeepLearningProject-master/posters_final/Zootopia.jpg\n",
      "Working on Image :  1\n",
      "/home/yash/notebook/DeepLearningProject-master/posters_final/The_Legend_of_Tarzan.jpg\n",
      "/home/yash/notebook/DeepLearningProject-master/posters_final/Doctor_Strange.jpg\n",
      "/home/yash/notebook/DeepLearningProject-master/posters_final/Now_You_See_Me_2.jpg\n",
      "/home/yash/notebook/DeepLearningProject-master/posters_final/Pacific_Rim.jpg\n",
      "/home/yash/notebook/DeepLearningProject-master/posters_final/The_Revenant.jpg\n",
      "/home/yash/notebook/DeepLearningProject-master/posters_final/Spectre.jpg\n",
      "/home/yash/notebook/DeepLearningProject-master/posters_final/Fantastic_Beasts_and_Where_to_Find_Them.jpg\n",
      "/home/yash/notebook/DeepLearningProject-master/posters_final/Moana.jpg\n",
      "/home/yash/notebook/DeepLearningProject-master/posters_final/The_Martian.jpg\n",
      "/home/yash/notebook/DeepLearningProject-master/posters_final/Cars_2.jpg\n",
      "/home/yash/notebook/DeepLearningProject-master/posters_final/The_Iron_Giant.jpg\n",
      "/home/yash/notebook/DeepLearningProject-master/posters_final/The_Jungle_Book.jpg\n",
      "/home/yash/notebook/DeepLearningProject-master/posters_final/The_Secret_Life_of_Pets.jpg\n",
      "/home/yash/notebook/DeepLearningProject-master/posters_final/Finding_Dory.jpg\n",
      "/home/yash/notebook/DeepLearningProject-master/posters_final/Star_Trek_Beyond.jpg\n",
      "/home/yash/notebook/DeepLearningProject-master/posters_final/The_Lost_City_of_Z.jpg\n",
      "/home/yash/notebook/DeepLearningProject-master/posters_final/Deadpool.jpg\n",
      "/home/yash/notebook/DeepLearningProject-master/posters_final/Everest.jpg\n",
      "/home/yash/notebook/DeepLearningProject-master/posters_final/The_Lego_Movie.jpg\n",
      "/home/yash/notebook/DeepLearningProject-master/posters_final/Kung_Fu_Panda_3.jpg\n",
      "/home/yash/notebook/DeepLearningProject-master/posters_final/The_Magnificent_Seven.jpg\n",
      "/home/yash/notebook/DeepLearningProject-master/posters_final/The_Walk.jpg\n",
      "/home/yash/notebook/DeepLearningProject-master/posters_final/John_Carter.jpg\n",
      "/home/yash/notebook/DeepLearningProject-master/posters_final/Bolt.jpg\n",
      "/home/yash/notebook/DeepLearningProject-master/posters_final/The_Adventures_of_Sharkboy_and_Lavagirl.jpg\n",
      "/home/yash/notebook/DeepLearningProject-master/posters_final/Goosebumps.jpg\n",
      "/home/yash/notebook/DeepLearningProject-master/posters_final/Trolls.jpg\n",
      "/home/yash/notebook/DeepLearningProject-master/posters_final/Suicide_Squad.jpg\n",
      "/home/yash/notebook/DeepLearningProject-master/posters_final/Gold.jpg\n",
      "/home/yash/notebook/DeepLearningProject-master/posters_final/Captain_Fantastic.jpg\n",
      "/home/yash/notebook/DeepLearningProject-master/posters_final/Ballerina.jpg\n",
      "/home/yash/notebook/DeepLearningProject-master/posters_final/Warcraft.jpg\n",
      "/home/yash/notebook/DeepLearningProject-master/posters_final/TMNT.jpg\n",
      "/home/yash/notebook/DeepLearningProject-master/posters_final/Star_Trek.jpg\n",
      "/home/yash/notebook/DeepLearningProject-master/posters_final/Kubo_and_the_Two_Strings.jpg\n",
      "/home/yash/notebook/DeepLearningProject-master/posters_final/The_Great_Wall.jpg\n",
      "/home/yash/notebook/DeepLearningProject-master/posters_final/Allegiant.jpg\n",
      "/home/yash/notebook/DeepLearningProject-master/posters_final/Alice_Through_the_Looking_Glass.jpg\n",
      "/home/yash/notebook/DeepLearningProject-master/posters_final/Storks.jpg\n",
      "/home/yash/notebook/DeepLearningProject-master/posters_final/The_BFG.jpg\n",
      "/home/yash/notebook/DeepLearningProject-master/posters_final/Nerve.jpg\n",
      "/home/yash/notebook/DeepLearningProject-master/posters_final/Sausage_Party.jpg\n",
      "/home/yash/notebook/DeepLearningProject-master/posters_final/The_5th_Wave.jpg\n",
      "/home/yash/notebook/DeepLearningProject-master/posters_final/The_Good_Dinosaur.jpg\n",
      "/home/yash/notebook/DeepLearningProject-master/posters_final/Bone_Tomahawk.jpg\n",
      "/home/yash/notebook/DeepLearningProject-master/posters_final/In_the_Heart_of_the_Sea.jpg\n",
      "/home/yash/notebook/DeepLearningProject-master/posters_final/Gods_of_Egypt.jpg\n",
      "/home/yash/notebook/DeepLearningProject-master/posters_final/Max.jpg\n",
      "/home/yash/notebook/DeepLearningProject-master/posters_final/Highlander.jpg\n",
      "/home/yash/notebook/DeepLearningProject-master/posters_final/Ben-Hur.jpg\n",
      "/home/yash/notebook/DeepLearningProject-master/posters_final/The_Physician.jpg\n",
      "/home/yash/notebook/DeepLearningProject-master/posters_final/Escape_from_Planet_Earth.jpg\n",
      "/home/yash/notebook/DeepLearningProject-master/posters_final/The_Neverending_Story.jpg\n",
      "/home/yash/notebook/DeepLearningProject-master/posters_final/The_Last_Witch_Hunter.jpg\n",
      "/home/yash/notebook/DeepLearningProject-master/posters_final/Hardcore_Henry.jpg\n",
      "/home/yash/notebook/DeepLearningProject-master/posters_final/Midnight_Special.jpg\n",
      "/home/yash/notebook/DeepLearningProject-master/posters_final/Dune.jpg\n",
      "/home/yash/notebook/DeepLearningProject-master/posters_final/Rock_Dog.jpg\n",
      "/home/yash/notebook/DeepLearningProject-master/posters_final/The_Little_Prince.jpg\n",
      "/home/yash/notebook/DeepLearningProject-master/posters_final/Swiss_Army_Man.jpg\n",
      "/home/yash/notebook/DeepLearningProject-master/posters_final/Max_Steel.jpg\n",
      "/home/yash/notebook/DeepLearningProject-master/posters_final/Labyrinth.jpg\n",
      "/home/yash/notebook/DeepLearningProject-master/posters_final/Hunt_for_the_Wilderpeople.jpg\n",
      "/home/yash/notebook/DeepLearningProject-master/posters_final/A_Walk_in_the_Woods.jpg\n",
      "/home/yash/notebook/DeepLearningProject-master/posters_final/Teenage_Mutant_Ninja_Turtles.jpg\n",
      "/home/yash/notebook/DeepLearningProject-master/posters_final/Cinderella.jpg\n",
      "/home/yash/notebook/DeepLearningProject-master/posters_final/Jupiter_Ascending.jpg\n",
      "/home/yash/notebook/DeepLearningProject-master/posters_final/Over_the_Garden_Wall.jpg\n",
      "/home/yash/notebook/DeepLearningProject-master/posters_final/Crimson_Peak.jpg\n",
      "/home/yash/notebook/DeepLearningProject-master/posters_final/Ella_Enchanted.jpg\n",
      "/home/yash/notebook/DeepLearningProject-master/posters_final/The_Age_of_Adaline.jpg\n",
      "/home/yash/notebook/DeepLearningProject-master/posters_final/Into_the_Woods.jpg\n",
      "/home/yash/notebook/DeepLearningProject-master/posters_final/Seventh_Son.jpg\n",
      "/home/yash/notebook/DeepLearningProject-master/posters_final/Hotel_Transylvania_2.jpg\n",
      "/home/yash/notebook/DeepLearningProject-master/posters_final/Avengers_Grimm.jpg\n",
      "/home/yash/notebook/DeepLearningProject-master/posters_final/The_Book_of_Life.jpg\n",
      "/home/yash/notebook/DeepLearningProject-master/posters_final/Hotel_Transylvania.jpg\n",
      "/home/yash/notebook/DeepLearningProject-master/posters_final/The_House_of_Magic.jpg\n",
      "/home/yash/notebook/DeepLearningProject-master/posters_final/The_Last_Witch_Hunter.jpg\n",
      "/home/yash/notebook/DeepLearningProject-master/posters_final/Pan.jpg\n",
      "/home/yash/notebook/DeepLearningProject-master/posters_final/The_Boxtrolls.jpg\n",
      "/home/yash/notebook/DeepLearningProject-master/posters_final/Saphirblau.jpg\n",
      "/home/yash/notebook/DeepLearningProject-master/posters_final/The_Brass_Teapot.jpg\n",
      "/home/yash/notebook/DeepLearningProject-master/posters_final/The_Little_Prince.jpg\n",
      "/home/yash/notebook/DeepLearningProject-master/posters_final/Song_of_the_Sea.jpg\n",
      "/home/yash/notebook/DeepLearningProject-master/posters_final/Kung_Fury.jpg\n",
      "/home/yash/notebook/DeepLearningProject-master/posters_final/The_Family_Man.jpg\n",
      "/home/yash/notebook/DeepLearningProject-master/posters_final/Krampus.jpg\n",
      "/home/yash/notebook/DeepLearningProject-master/posters_final/The_Cobbler.jpg\n",
      "/home/yash/notebook/DeepLearningProject-master/posters_final/Lost_River.jpg\n",
      "/home/yash/notebook/DeepLearningProject-master/posters_final/Terminus.jpg\n",
      "/home/yash/notebook/DeepLearningProject-master/posters_final/Il_racconto_dei_racconti.jpg\n",
      "/home/yash/notebook/DeepLearningProject-master/posters_final/Knights_of_Badassdom.jpg\n",
      "/home/yash/notebook/DeepLearningProject-master/posters_final/Igor.jpg\n",
      "/home/yash/notebook/DeepLearningProject-master/posters_final/The_Hallow.jpg\n",
      "/home/yash/notebook/DeepLearningProject-master/posters_final/Southbound.jpg\n",
      "/home/yash/notebook/DeepLearningProject-master/posters_final/Le_tout_nouveau_testament.jpg\n",
      "/home/yash/notebook/DeepLearningProject-master/posters_final/Jem_and_the_Holograms.jpg\n",
      "/home/yash/notebook/DeepLearningProject-master/posters_final/El_Club_de_los_Incomprendidos.jpg\n",
      "/home/yash/notebook/DeepLearningProject-master/posters_final/Strange_Magic.jpg\n",
      "/home/yash/notebook/DeepLearningProject-master/posters_final/Bad_Johnson.jpg\n"
     ]
    },
    {
     "name": "stdout",
     "output_type": "stream",
     "text": [
      "/home/yash/notebook/DeepLearningProject-master/posters_final/Horns.jpg\n",
      "/home/yash/notebook/DeepLearningProject-master/posters_final/Baskin.jpg\n",
      "/home/yash/notebook/DeepLearningProject-master/posters_final/Escape_from_Tomorrow.jpg\n",
      "/home/yash/notebook/DeepLearningProject-master/posters_final/Digging_Up_the_Marrow.jpg\n",
      "/home/yash/notebook/DeepLearningProject-master/posters_final/Girl_Asleep.jpg\n",
      "/home/yash/notebook/DeepLearningProject-master/posters_final/Invisible_Sister.jpg\n",
      "/home/yash/notebook/DeepLearningProject-master/posters_final/La_danza_de_la_realidad.jpg\n",
      "/home/yash/notebook/DeepLearningProject-master/posters_final/Der_7bte_Zwerg.jpg\n",
      "/home/yash/notebook/DeepLearningProject-master/posters_final/Skammerens_datter.jpg\n",
      "/home/yash/notebook/DeepLearningProject-master/posters_final/Hilfe,_ich_hab_meine_Lehrerin_geschrumpft.jpg\n",
      "/home/yash/notebook/DeepLearningProject-master/posters_final/The_Christmas_Dragon.jpg\n",
      "/home/yash/notebook/DeepLearningProject-master/posters_final/Obitaemyy_Ostrov.jpg\n",
      "/home/yash/notebook/DeepLearningProject-master/posters_final/Despicable_Me_2.jpg\n",
      "/home/yash/notebook/DeepLearningProject-master/posters_final/Frozen.jpg\n",
      "/home/yash/notebook/DeepLearningProject-master/posters_final/How_to_Train_Your_Dragon_2.jpg\n",
      "/home/yash/notebook/DeepLearningProject-master/posters_final/Penguins_of_Madagascar.jpg\n",
      "/home/yash/notebook/DeepLearningProject-master/posters_final/Big_Hero_6.jpg\n",
      "/home/yash/notebook/DeepLearningProject-master/posters_final/Cloudy_with_a_Chance_of_Meatballs_2.jpg\n",
      "/home/yash/notebook/DeepLearningProject-master/posters_final/The_Lego_Movie.jpg\n",
      "/home/yash/notebook/DeepLearningProject-master/posters_final/Over_the_Garden_Wall.jpg\n",
      "/home/yash/notebook/DeepLearningProject-master/posters_final/Las_aventuras_de_Tadeo_Jones.jpg\n",
      "/home/yash/notebook/DeepLearningProject-master/posters_final/The_Polar_Express.jpg\n",
      "/home/yash/notebook/DeepLearningProject-master/posters_final/Bolt.jpg\n",
      "/home/yash/notebook/DeepLearningProject-master/posters_final/Mulan.jpg\n",
      "/home/yash/notebook/DeepLearningProject-master/posters_final/Tinker_Bell_and_the_Pirate_Fairy.jpg\n",
      "/home/yash/notebook/DeepLearningProject-master/posters_final/Madly_Madagascar.jpg\n",
      "/home/yash/notebook/DeepLearningProject-master/posters_final/Mune,_le_gardien_de_la_lune.jpg\n",
      "/home/yash/notebook/DeepLearningProject-master/posters_final/Tinker_Bell_and_the_Legend_of_the_NeverBeast.jpg\n",
      "/home/yash/notebook/DeepLearningProject-master/posters_final/The_Book_of_Life.jpg\n",
      "/home/yash/notebook/DeepLearningProject-master/posters_final/Escape_from_Planet_Earth.jpg\n",
      "/home/yash/notebook/DeepLearningProject-master/posters_final/The_House_of_Magic.jpg\n",
      "/home/yash/notebook/DeepLearningProject-master/posters_final/Rio_2.jpg\n",
      "/home/yash/notebook/DeepLearningProject-master/posters_final/Brother_Bear_2.jpg\n",
      "/home/yash/notebook/DeepLearningProject-master/posters_final/Brother_Bear.jpg\n",
      "/home/yash/notebook/DeepLearningProject-master/posters_final/The_Boxtrolls.jpg\n",
      "/home/yash/notebook/DeepLearningProject-master/posters_final/The_Jungle_Book_2.jpg\n",
      "/home/yash/notebook/DeepLearningProject-master/posters_final/Free_Birds.jpg\n",
      "/home/yash/notebook/DeepLearningProject-master/posters_final/Tarzan.jpg\n",
      "/home/yash/notebook/DeepLearningProject-master/posters_final/Song_of_the_Sea.jpg\n",
      "/home/yash/notebook/DeepLearningProject-master/posters_final/Turbo.jpg\n",
      "/home/yash/notebook/DeepLearningProject-master/posters_final/Home_on_the_Range.jpg\n",
      "/home/yash/notebook/DeepLearningProject-master/posters_final/Walking_With_Dinosaurs.jpg\n",
      "/home/yash/notebook/DeepLearningProject-master/posters_final/Zambezia.jpg\n",
      "/home/yash/notebook/DeepLearningProject-master/posters_final/The_Congress.jpg\n",
      "/home/yash/notebook/DeepLearningProject-master/posters_final/Maya_the_Bee_Movie.jpg\n",
      "/home/yash/notebook/DeepLearningProject-master/posters_final/Feast.jpg\n",
      "/home/yash/notebook/DeepLearningProject-master/posters_final/The_BFG.jpg\n",
      "/home/yash/notebook/DeepLearningProject-master/posters_final/Son_of_Batman.jpg\n",
      "/home/yash/notebook/DeepLearningProject-master/posters_final/Toy_Story_That_Time_Forgot.jpg\n",
      "/home/yash/notebook/DeepLearningProject-master/posters_final/Khumba.jpg\n",
      "/home/yash/notebook/DeepLearningProject-master/posters_final/Lava.jpg\n",
      "/home/yash/notebook/DeepLearningProject-master/posters_final/Justin_and_the_Knights_of_Valour.jpg\n",
      "/home/yash/notebook/DeepLearningProject-master/posters_final/The_Snowman.jpg\n",
      "/home/yash/notebook/DeepLearningProject-master/posters_final/The_Prophet.jpg\n",
      "/home/yash/notebook/DeepLearningProject-master/posters_final/O_Menino_e_o_Mundo.jpg\n",
      "/home/yash/notebook/DeepLearningProject-master/posters_final/Appleseed_Alpha.jpg\n",
      "/home/yash/notebook/DeepLearningProject-master/posters_final/Muumit_Rivieralla.jpg\n",
      "/home/yash/notebook/DeepLearningProject-master/posters_final/Der_7bte_Zwerg.jpg\n",
      "/home/yash/notebook/DeepLearningProject-master/posters_final/SeaFood.jpg\n",
      "/home/yash/notebook/DeepLearningProject-master/posters_final/The_Present.jpg\n",
      "/home/yash/notebook/DeepLearningProject-master/posters_final/World_War_Z.jpg\n",
      "/home/yash/notebook/DeepLearningProject-master/posters_final/Django_Unchained.jpg\n",
      "/home/yash/notebook/DeepLearningProject-master/posters_final/The_Wolf_of_Wall_Street.jpg\n",
      "/home/yash/notebook/DeepLearningProject-master/posters_final/The_Dark_Knight_Rises.jpg\n",
      "/home/yash/notebook/DeepLearningProject-master/posters_final/The_Great_Gatsby.jpg\n",
      "/home/yash/notebook/DeepLearningProject-master/posters_final/About_Time.jpg\n",
      "/home/yash/notebook/DeepLearningProject-master/posters_final/Snowpiercer.jpg\n",
      "/home/yash/notebook/DeepLearningProject-master/posters_final/Gravity.jpg\n",
      "Working on Image :  250\n",
      "/home/yash/notebook/DeepLearningProject-master/posters_final/Her.jpg\n",
      "/home/yash/notebook/DeepLearningProject-master/posters_final/Life_As_We_Know_It.jpg\n",
      "/home/yash/notebook/DeepLearningProject-master/posters_final/Good_Will_Hunting.jpg\n",
      "/home/yash/notebook/DeepLearningProject-master/posters_final/Captain_Phillips.jpg\n",
      "/home/yash/notebook/DeepLearningProject-master/posters_final/Elysium.jpg\n",
      "/home/yash/notebook/DeepLearningProject-master/posters_final/Silver_Linings_Playbook.jpg\n",
      "/home/yash/notebook/DeepLearningProject-master/posters_final/What_If.jpg\n",
      "/home/yash/notebook/DeepLearningProject-master/posters_final/Prisoners.jpg\n",
      "/home/yash/notebook/DeepLearningProject-master/posters_final/Intouchables.jpg\n",
      "/home/yash/notebook/DeepLearningProject-master/posters_final/Cloud_Atlas.jpg\n",
      "/home/yash/notebook/DeepLearningProject-master/posters_final/Don_Jon.jpg\n",
      "/home/yash/notebook/DeepLearningProject-master/posters_final/Detachment.jpg\n",
      "/home/yash/notebook/DeepLearningProject-master/posters_final/Carrie.jpg\n",
      "/home/yash/notebook/DeepLearningProject-master/posters_final/Lincoln.jpg\n",
      "/home/yash/notebook/DeepLearningProject-master/posters_final/The_Exorcist.jpg\n",
      "/home/yash/notebook/DeepLearningProject-master/posters_final/Zero_Dark_Thirty.jpg\n",
      "/home/yash/notebook/DeepLearningProject-master/posters_final/Rear_Window.jpg\n",
      "/home/yash/notebook/DeepLearningProject-master/posters_final/Life_of_Pi.jpg\n",
      "/home/yash/notebook/DeepLearningProject-master/posters_final/The_Perks_of_Being_a_Wallflower.jpg\n",
      "/home/yash/notebook/DeepLearningProject-master/posters_final/Side_Effects.jpg\n",
      "/home/yash/notebook/DeepLearningProject-master/posters_final/Rush.jpg\n",
      "/home/yash/notebook/DeepLearningProject-master/posters_final/Catch_Me_If_You_Can.jpg\n",
      "/home/yash/notebook/DeepLearningProject-master/posters_final/Lo_imposible.jpg\n",
      "/home/yash/notebook/DeepLearningProject-master/posters_final/Blue_Jasmine.jpg\n",
      "/home/yash/notebook/DeepLearningProject-master/posters_final/Donnie_Brasco.jpg\n",
      "/home/yash/notebook/DeepLearningProject-master/posters_final/Flight.jpg\n",
      "/home/yash/notebook/DeepLearningProject-master/posters_final/Lone_Survivor.jpg\n",
      "/home/yash/notebook/DeepLearningProject-master/posters_final/The_Place_Beyond_the_Pines.jpg\n",
      "/home/yash/notebook/DeepLearningProject-master/posters_final/Tarzan.jpg\n",
      "/home/yash/notebook/DeepLearningProject-master/posters_final/Trance.jpg\n",
      "/home/yash/notebook/DeepLearningProject-master/posters_final/Big.jpg\n",
      "/home/yash/notebook/DeepLearningProject-master/posters_final/Stand_by_Me.jpg\n",
      "/home/yash/notebook/DeepLearningProject-master/posters_final/Blue_Valentine.jpg\n",
      "/home/yash/notebook/DeepLearningProject-master/posters_final/Nuovo_Cinema_Paradiso.jpg\n",
      "/home/yash/notebook/DeepLearningProject-master/posters_final/The_Bourne_Identity.jpg\n",
      "/home/yash/notebook/DeepLearningProject-master/posters_final/The_Bourne_Supremacy.jpg\n",
      "/home/yash/notebook/DeepLearningProject-master/posters_final/10_Things_I_Hate_About_You.jpg\n"
     ]
    },
    {
     "name": "stdout",
     "output_type": "stream",
     "text": [
      "/home/yash/notebook/DeepLearningProject-master/posters_final/La_migliore_offerta.jpg\n",
      "/home/yash/notebook/DeepLearningProject-master/posters_final/12_Years_a_Slave.jpg\n",
      "/home/yash/notebook/DeepLearningProject-master/posters_final/Jack_Reacher.jpg\n",
      "/home/yash/notebook/DeepLearningProject-master/posters_final/The_Secret_Life_of_Walter_Mitty.jpg\n",
      "/home/yash/notebook/DeepLearningProject-master/posters_final/American_Hustle.jpg\n",
      "/home/yash/notebook/DeepLearningProject-master/posters_final/Argo.jpg\n",
      "/home/yash/notebook/DeepLearningProject-master/posters_final/Jobs.jpg\n",
      "/home/yash/notebook/DeepLearningProject-master/posters_final/Begin_Again.jpg\n",
      "/home/yash/notebook/DeepLearningProject-master/posters_final/Spring_Breakers.jpg\n",
      "/home/yash/notebook/DeepLearningProject-master/posters_final/The_Butler.jpg\n",
      "/home/yash/notebook/DeepLearningProject-master/posters_final/Dallas_Buyers_Club.jpg\n",
      "/home/yash/notebook/DeepLearningProject-master/posters_final/The_Physician.jpg\n",
      "/home/yash/notebook/DeepLearningProject-master/posters_final/Inside_Llewyn_Davis.jpg\n",
      "/home/yash/notebook/DeepLearningProject-master/posters_final/Heat.jpg\n",
      "/home/yash/notebook/DeepLearningProject-master/posters_final/The_Book_Thief.jpg\n",
      "/home/yash/notebook/DeepLearningProject-master/posters_final/The_Hunchback_of_Notre_Dame.jpg\n",
      "/home/yash/notebook/DeepLearningProject-master/posters_final/How_I_Live_Now.jpg\n",
      "/home/yash/notebook/DeepLearningProject-master/posters_final/Oldboy.jpg\n",
      "/home/yash/notebook/DeepLearningProject-master/posters_final/47_Ronin.jpg\n",
      "/home/yash/notebook/DeepLearningProject-master/posters_final/Under_the_Skin.jpg\n",
      "/home/yash/notebook/DeepLearningProject-master/posters_final/The_Fifth_Estate.jpg\n",
      "/home/yash/notebook/DeepLearningProject-master/posters_final/Only_Lovers_Left_Alive.jpg\n",
      "/home/yash/notebook/DeepLearningProject-master/posters_final/Diana.jpg\n",
      "/home/yash/notebook/DeepLearningProject-master/posters_final/Before_Midnight.jpg\n",
      "/home/yash/notebook/DeepLearningProject-master/posters_final/Upside_Down.jpg\n",
      "/home/yash/notebook/DeepLearningProject-master/posters_final/Whiplash.jpg\n",
      "/home/yash/notebook/DeepLearningProject-master/posters_final/Snitch.jpg\n",
      "/home/yash/notebook/DeepLearningProject-master/posters_final/Columbus_Circle.jpg\n",
      "/home/yash/notebook/DeepLearningProject-master/posters_final/Frances_Ha.jpg\n",
      "/home/yash/notebook/DeepLearningProject-master/posters_final/Saving_Mr._Banks.jpg\n",
      "/home/yash/notebook/DeepLearningProject-master/posters_final/Locke.jpg\n",
      "/home/yash/notebook/DeepLearningProject-master/posters_final/The_Imposter.jpg\n",
      "/home/yash/notebook/DeepLearningProject-master/posters_final/Il_capitale_umano.jpg\n",
      "/home/yash/notebook/DeepLearningProject-master/posters_final/Anna_Karenina.jpg\n",
      "/home/yash/notebook/DeepLearningProject-master/posters_final/The_Counselor.jpg\n",
      "/home/yash/notebook/DeepLearningProject-master/posters_final/One_Chance.jpg\n",
      "/home/yash/notebook/DeepLearningProject-master/posters_final/Third_Person.jpg\n",
      "/home/yash/notebook/DeepLearningProject-master/posters_final/Cold_Comes_the_Night.jpg\n",
      "/home/yash/notebook/DeepLearningProject-master/posters_final/A_Late_Quartet.jpg\n",
      "/home/yash/notebook/DeepLearningProject-master/posters_final/The_Last_Kiss.jpg\n",
      "/home/yash/notebook/DeepLearningProject-master/posters_final/The_Cabin_in_the_Woods.jpg\n",
      "/home/yash/notebook/DeepLearningProject-master/posters_final/I_Spit_on_Your_Grave.jpg\n",
      "/home/yash/notebook/DeepLearningProject-master/posters_final/Blade_II.jpg\n",
      "/home/yash/notebook/DeepLearningProject-master/posters_final/Jaws.jpg\n",
      "/home/yash/notebook/DeepLearningProject-master/posters_final/Blade.jpg\n",
      "/home/yash/notebook/DeepLearningProject-master/posters_final/The_Thing.jpg\n",
      "/home/yash/notebook/DeepLearningProject-master/posters_final/Retreat.jpg\n",
      "/home/yash/notebook/DeepLearningProject-master/posters_final/Shelter.jpg\n",
      "/home/yash/notebook/DeepLearningProject-master/posters_final/The_Darkest_Hour.jpg\n",
      "/home/yash/notebook/DeepLearningProject-master/posters_final/Final_Destination_5.jpg\n",
      "/home/yash/notebook/DeepLearningProject-master/posters_final/The_Watch.jpg\n",
      "/home/yash/notebook/DeepLearningProject-master/posters_final/The_Divide.jpg\n",
      "/home/yash/notebook/DeepLearningProject-master/posters_final/The_Woman_in_Black.jpg\n",
      "/home/yash/notebook/DeepLearningProject-master/posters_final/The_Awakening.jpg\n",
      "/home/yash/notebook/DeepLearningProject-master/posters_final/After.Life.jpg\n",
      "/home/yash/notebook/DeepLearningProject-master/posters_final/Apollo_18.jpg\n",
      "/home/yash/notebook/DeepLearningProject-master/posters_final/Silent_Night.jpg\n",
      "/home/yash/notebook/DeepLearningProject-master/posters_final/The_Pact.jpg\n",
      "/home/yash/notebook/DeepLearningProject-master/posters_final/11-11-11.jpg\n",
      "/home/yash/notebook/DeepLearningProject-master/posters_final/Angst.jpg\n",
      "/home/yash/notebook/DeepLearningProject-master/posters_final/Piranha_3DD.jpg\n",
      "/home/yash/notebook/DeepLearningProject-master/posters_final/The_Ward.jpg\n",
      "/home/yash/notebook/DeepLearningProject-master/posters_final/House_at_the_End_of_the_Street.jpg\n",
      "/home/yash/notebook/DeepLearningProject-master/posters_final/Sinister.jpg\n",
      "/home/yash/notebook/DeepLearningProject-master/posters_final/Fright_Night.jpg\n",
      "/home/yash/notebook/DeepLearningProject-master/posters_final/American_Mary.jpg\n",
      "/home/yash/notebook/DeepLearningProject-master/posters_final/ATM.jpg\n",
      "/home/yash/notebook/DeepLearningProject-master/posters_final/The_Texas_Chainsaw_Massacre.jpg\n",
      "/home/yash/notebook/DeepLearningProject-master/posters_final/Paranormal_Activity_4.jpg\n",
      "/home/yash/notebook/DeepLearningProject-master/posters_final/Apartment_1303_3D.jpg\n",
      "/home/yash/notebook/DeepLearningProject-master/posters_final/An_American_Werewolf_in_Paris.jpg\n",
      "/home/yash/notebook/DeepLearningProject-master/posters_final/The_Haunting_in_Connecticut.jpg\n",
      "/home/yash/notebook/DeepLearningProject-master/posters_final/Bait.jpg\n",
      "/home/yash/notebook/DeepLearningProject-master/posters_final/Stitches.jpg\n",
      "/home/yash/notebook/DeepLearningProject-master/posters_final/The_Tunnel.jpg\n",
      "/home/yash/notebook/DeepLearningProject-master/posters_final/Antiviral.jpg\n",
      "/home/yash/notebook/DeepLearningProject-master/posters_final/Maniac.jpg\n",
      "/home/yash/notebook/DeepLearningProject-master/posters_final/John_Dies_at_the_End.jpg\n",
      "/home/yash/notebook/DeepLearningProject-master/posters_final/The_Butterfly_Room.jpg\n",
      "/home/yash/notebook/DeepLearningProject-master/posters_final/Would_You_Rather.jpg\n",
      "/home/yash/notebook/DeepLearningProject-master/posters_final/Kill_List.jpg\n",
      "/home/yash/notebook/DeepLearningProject-master/posters_final/The_Tall_Man.jpg\n",
      "/home/yash/notebook/DeepLearningProject-master/posters_final/The_Possession.jpg\n",
      "/home/yash/notebook/DeepLearningProject-master/posters_final/The_Collection.jpg\n",
      "/home/yash/notebook/DeepLearningProject-master/posters_final/The_Devil_Inside.jpg\n",
      "/home/yash/notebook/DeepLearningProject-master/posters_final/The_Apparition.jpg\n",
      "/home/yash/notebook/DeepLearningProject-master/posters_final/The_ABCs_of_Death.jpg\n",
      "/home/yash/notebook/DeepLearningProject-master/posters_final/The_Fly.jpg\n",
      "/home/yash/notebook/DeepLearningProject-master/posters_final/Gallowwalkers.jpg\n",
      "/home/yash/notebook/DeepLearningProject-master/posters_final/Truth_or_Dare.jpg\n",
      "/home/yash/notebook/DeepLearningProject-master/posters_final/Chained.jpg\n",
      "/home/yash/notebook/DeepLearningProject-master/posters_final/Burning_Bright.jpg\n",
      "/home/yash/notebook/DeepLearningProject-master/posters_final/The_Caller.jpg\n",
      "/home/yash/notebook/DeepLearningProject-master/posters_final/Vamps.jpg\n",
      "/home/yash/notebook/DeepLearningProject-master/posters_final/The_Shrine.jpg\n",
      "/home/yash/notebook/DeepLearningProject-master/posters_final/Bereavement.jpg\n",
      "/home/yash/notebook/DeepLearningProject-master/posters_final/Detention.jpg\n",
      "/home/yash/notebook/DeepLearningProject-master/posters_final/Absentia.jpg\n",
      "/home/yash/notebook/DeepLearningProject-master/posters_final/Silent_House.jpg\n",
      "/home/yash/notebook/DeepLearningProject-master/posters_final/The_Seasoning_House.jpg\n",
      "/home/yash/notebook/DeepLearningProject-master/posters_final/Grave_Encounters_2.jpg\n",
      "/home/yash/notebook/DeepLearningProject-master/posters_final/Grave_Encounters.jpg\n",
      "/home/yash/notebook/DeepLearningProject-master/posters_final/Excision.jpg\n",
      "/home/yash/notebook/DeepLearningProject-master/posters_final/Dagon.jpg\n",
      "/home/yash/notebook/DeepLearningProject-master/posters_final/Trolljegeren.jpg\n",
      "/home/yash/notebook/DeepLearningProject-master/posters_final/Cockneys_vs_Zombies.jpg\n"
     ]
    },
    {
     "name": "stdout",
     "output_type": "stream",
     "text": [
      "/home/yash/notebook/DeepLearningProject-master/posters_final/Detention_of_the_Dead.jpg\n",
      "/home/yash/notebook/DeepLearningProject-master/posters_final/Lovely_Molly.jpg\n",
      "/home/yash/notebook/DeepLearningProject-master/posters_final/The_Battery.jpg\n",
      "/home/yash/notebook/DeepLearningProject-master/posters_final/Chernobyl_Diaries.jpg\n",
      "/home/yash/notebook/DeepLearningProject-master/posters_final/Intruders.jpg\n",
      "/home/yash/notebook/DeepLearningProject-master/posters_final/The_Bay.jpg\n",
      "/home/yash/notebook/DeepLearningProject-master/posters_final/The_Innkeepers.jpg\n",
      "/home/yash/notebook/DeepLearningProject-master/posters_final/The_Moth_Diaries.jpg\n",
      "/home/yash/notebook/DeepLearningProject-master/posters_final/The_Lords_of_Salem.jpg\n",
      "/home/yash/notebook/DeepLearningProject-master/posters_final/Berberian_Sound_Studio.jpg\n",
      "/home/yash/notebook/DeepLearningProject-master/posters_final/Aftershock.jpg\n",
      "/home/yash/notebook/DeepLearningProject-master/posters_final/Snowtown.jpg\n",
      "/home/yash/notebook/DeepLearningProject-master/posters_final/No_One_Lives.jpg\n",
      "/home/yash/notebook/DeepLearningProject-master/posters_final/Thor.jpg\n",
      "/home/yash/notebook/DeepLearningProject-master/posters_final/Real_Steel.jpg\n",
      "/home/yash/notebook/DeepLearningProject-master/posters_final/Predator.jpg\n",
      "/home/yash/notebook/DeepLearningProject-master/posters_final/Death_Race_2.jpg\n",
      "/home/yash/notebook/DeepLearningProject-master/posters_final/Rise_of_the_Planet_of_the_Apes.jpg\n",
      "/home/yash/notebook/DeepLearningProject-master/posters_final/Green_Lantern.jpg\n",
      "/home/yash/notebook/DeepLearningProject-master/posters_final/Drive.jpg\n",
      "/home/yash/notebook/DeepLearningProject-master/posters_final/Taken.jpg\n",
      "/home/yash/notebook/DeepLearningProject-master/posters_final/Lethal_Weapon.jpg\n",
      "/home/yash/notebook/DeepLearningProject-master/posters_final/Sucker_Punch.jpg\n",
      "/home/yash/notebook/DeepLearningProject-master/posters_final/The_Grey.jpg\n",
      "/home/yash/notebook/DeepLearningProject-master/posters_final/From_Dusk_Till_Dawn.jpg\n",
      "/home/yash/notebook/DeepLearningProject-master/posters_final/The_Tourist.jpg\n",
      "/home/yash/notebook/DeepLearningProject-master/posters_final/Megamind.jpg\n",
      "/home/yash/notebook/DeepLearningProject-master/posters_final/The_Mechanic.jpg\n",
      "/home/yash/notebook/DeepLearningProject-master/posters_final/Puss_in_Boots.jpg\n",
      "/home/yash/notebook/DeepLearningProject-master/posters_final/Warrior.jpg\n",
      "/home/yash/notebook/DeepLearningProject-master/posters_final/Serbuan_maut.jpg\n",
      "/home/yash/notebook/DeepLearningProject-master/posters_final/Das_Boot.jpg\n",
      "/home/yash/notebook/DeepLearningProject-master/posters_final/Immortals.jpg\n",
      "/home/yash/notebook/DeepLearningProject-master/posters_final/Unknown.jpg\n",
      "/home/yash/notebook/DeepLearningProject-master/posters_final/Unstoppable.jpg\n",
      "/home/yash/notebook/DeepLearningProject-master/posters_final/I_Am_Number_Four.jpg\n",
      "/home/yash/notebook/DeepLearningProject-master/posters_final/Machete.jpg\n",
      "/home/yash/notebook/DeepLearningProject-master/posters_final/Desperado.jpg\n",
      "/home/yash/notebook/DeepLearningProject-master/posters_final/Hulk_vs._Wolverine.jpg\n",
      "/home/yash/notebook/DeepLearningProject-master/posters_final/Tower_Heist.jpg\n",
      "/home/yash/notebook/DeepLearningProject-master/posters_final/Hanna.jpg\n",
      "/home/yash/notebook/DeepLearningProject-master/posters_final/The_Hunt_for_Red_October.jpg\n",
      "/home/yash/notebook/DeepLearningProject-master/posters_final/Killer_Elite.jpg\n",
      "/home/yash/notebook/DeepLearningProject-master/posters_final/Demolition_Man.jpg\n",
      "/home/yash/notebook/DeepLearningProject-master/posters_final/Highlander.jpg\n",
      "/home/yash/notebook/DeepLearningProject-master/posters_final/Seeking_Justice.jpg\n",
      "/home/yash/notebook/DeepLearningProject-master/posters_final/RED.jpg\n",
      "/home/yash/notebook/DeepLearningProject-master/posters_final/In_Time.jpg\n",
      "/home/yash/notebook/DeepLearningProject-master/posters_final/Assassins.jpg\n",
      "/home/yash/notebook/DeepLearningProject-master/posters_final/Conan_the_Barbarian.jpg\n",
      "/home/yash/notebook/DeepLearningProject-master/posters_final/The_Three_Musketeers.jpg\n",
      "/home/yash/notebook/DeepLearningProject-master/posters_final/Blitz.jpg\n",
      "/home/yash/notebook/DeepLearningProject-master/posters_final/Super.jpg\n",
      "/home/yash/notebook/DeepLearningProject-master/posters_final/The_Darkest_Hour.jpg\n",
      "/home/yash/notebook/DeepLearningProject-master/posters_final/Black_Death.jpg\n",
      "/home/yash/notebook/DeepLearningProject-master/posters_final/Conan_the_Barbarian.jpg\n",
      "/home/yash/notebook/DeepLearningProject-master/posters_final/The_Blues_Brothers.jpg\n",
      "/home/yash/notebook/DeepLearningProject-master/posters_final/Beverly_Hills_Cop.jpg\n",
      "/home/yash/notebook/DeepLearningProject-master/posters_final/Wild_Hogs.jpg\n",
      "/home/yash/notebook/DeepLearningProject-master/posters_final/The_Green_Hornet.jpg\n",
      "/home/yash/notebook/DeepLearningProject-master/posters_final/Drive_Angry.jpg\n",
      "/home/yash/notebook/DeepLearningProject-master/posters_final/Colombiana.jpg\n",
      "/home/yash/notebook/DeepLearningProject-master/posters_final/Executive_Decision.jpg\n",
      "/home/yash/notebook/DeepLearningProject-master/posters_final/Machine_Gun_Preacher.jpg\n",
      "/home/yash/notebook/DeepLearningProject-master/posters_final/The_Double.jpg\n",
      "/home/yash/notebook/DeepLearningProject-master/posters_final/Bronson.jpg\n",
      "/home/yash/notebook/DeepLearningProject-master/posters_final/Kill_the_Irishman.jpg\n",
      "/home/yash/notebook/DeepLearningProject-master/posters_final/Tron.jpg\n",
      "/home/yash/notebook/DeepLearningProject-master/posters_final/30_Minutes_or_Less.jpg\n",
      "/home/yash/notebook/DeepLearningProject-master/posters_final/Arena.jpg\n",
      "/home/yash/notebook/DeepLearningProject-master/posters_final/Battle_for_Terra.jpg\n",
      "Working on Image :  500\n",
      "/home/yash/notebook/DeepLearningProject-master/posters_final/Abduction.jpg\n",
      "/home/yash/notebook/DeepLearningProject-master/posters_final/Takers.jpg\n",
      "/home/yash/notebook/DeepLearningProject-master/posters_final/Bandidas.jpg\n",
      "/home/yash/notebook/DeepLearningProject-master/posters_final/Ironclad.jpg\n",
      "/home/yash/notebook/DeepLearningProject-master/posters_final/Season_of_the_Witch.jpg\n",
      "/home/yash/notebook/DeepLearningProject-master/posters_final/Astro_Boy.jpg\n",
      "/home/yash/notebook/DeepLearningProject-master/posters_final/Haywire.jpg\n",
      "/home/yash/notebook/DeepLearningProject-master/posters_final/M.jpg\n",
      "/home/yash/notebook/DeepLearningProject-master/posters_final/The_Adventures_of_Baron_Munchausen.jpg\n",
      "/home/yash/notebook/DeepLearningProject-master/posters_final/Blues_Brothers_2000.jpg\n",
      "/home/yash/notebook/DeepLearningProject-master/posters_final/The_Losers.jpg\n",
      "/home/yash/notebook/DeepLearningProject-master/posters_final/Jackass_3.5.jpg\n",
      "/home/yash/notebook/DeepLearningProject-master/posters_final/Sanctum.jpg\n",
      "/home/yash/notebook/DeepLearningProject-master/posters_final/Jonah_Hex.jpg\n",
      "/home/yash/notebook/DeepLearningProject-master/posters_final/Ra.One.jpg\n",
      "/home/yash/notebook/DeepLearningProject-master/posters_final/Red_State.jpg\n",
      "/home/yash/notebook/DeepLearningProject-master/posters_final/Grown_Ups.jpg\n",
      "/home/yash/notebook/DeepLearningProject-master/posters_final/Shrek.jpg\n",
      "/home/yash/notebook/DeepLearningProject-master/posters_final/The_Hangover.jpg\n",
      "/home/yash/notebook/DeepLearningProject-master/posters_final/Toy_Story.jpg\n",
      "/home/yash/notebook/DeepLearningProject-master/posters_final/Shrek_2.jpg\n",
      "/home/yash/notebook/DeepLearningProject-master/posters_final/Toy_Story_3.jpg\n",
      "/home/yash/notebook/DeepLearningProject-master/posters_final/Toy_Story_2.jpg\n",
      "/home/yash/notebook/DeepLearningProject-master/posters_final/Shrek_Forever_After.jpg\n",
      "/home/yash/notebook/DeepLearningProject-master/posters_final/Scott_Pilgrim_vs._the_World.jpg\n",
      "/home/yash/notebook/DeepLearningProject-master/posters_final/Life_As_We_Know_It.jpg\n",
      "/home/yash/notebook/DeepLearningProject-master/posters_final/Due_Date.jpg\n",
      "/home/yash/notebook/DeepLearningProject-master/posters_final/Back_to_the_Future_Part_III.jpg\n",
      "/home/yash/notebook/DeepLearningProject-master/posters_final/Bolt.jpg\n",
      "/home/yash/notebook/DeepLearningProject-master/posters_final/Nanny_McPhee_and_the_Big_Bang.jpg\n",
      "/home/yash/notebook/DeepLearningProject-master/posters_final/Bad_Boys.jpg\n",
      "/home/yash/notebook/DeepLearningProject-master/posters_final/Knight_and_Day.jpg\n",
      "/home/yash/notebook/DeepLearningProject-master/posters_final/The_A-Team.jpg\n",
      "/home/yash/notebook/DeepLearningProject-master/posters_final/Some_Like_It_Hot.jpg\n",
      "/home/yash/notebook/DeepLearningProject-master/posters_final/Megamind.jpg\n",
      "/home/yash/notebook/DeepLearningProject-master/posters_final/Zombieland.jpg\n"
     ]
    },
    {
     "name": "stdout",
     "output_type": "stream",
     "text": [
      "/home/yash/notebook/DeepLearningProject-master/posters_final/Easy_A.jpg\n",
      "/home/yash/notebook/DeepLearningProject-master/posters_final/The_Bounty_Hunter.jpg\n",
      "/home/yash/notebook/DeepLearningProject-master/posters_final/Hot_Tub_Time_Machine.jpg\n",
      "/home/yash/notebook/DeepLearningProject-master/posters_final/Machete.jpg\n",
      "/home/yash/notebook/DeepLearningProject-master/posters_final/Fantastic_Mr._Fox.jpg\n",
      "/home/yash/notebook/DeepLearningProject-master/posters_final/The_Ugly_Truth.jpg\n",
      "/home/yash/notebook/DeepLearningProject-master/posters_final/I_Love_You,_Man.jpg\n",
      "/home/yash/notebook/DeepLearningProject-master/posters_final/Tucker_and_Dale_vs_Evil.jpg\n",
      "/home/yash/notebook/DeepLearningProject-master/posters_final/The_Other_Guys.jpg\n",
      "/home/yash/notebook/DeepLearningProject-master/posters_final/Zack_and_Miri_Make_a_Porno.jpg\n",
      "/home/yash/notebook/DeepLearningProject-master/posters_final/RED.jpg\n",
      "/home/yash/notebook/DeepLearningProject-master/posters_final/Planet_51.jpg\n",
      "/home/yash/notebook/DeepLearningProject-master/posters_final/You_Again.jpg\n",
      "/home/yash/notebook/DeepLearningProject-master/posters_final/The_Lost_Boys.jpg\n",
      "/home/yash/notebook/DeepLearningProject-master/posters_final/Jackass_3D.jpg\n",
      "/home/yash/notebook/DeepLearningProject-master/posters_final/Coming_to_America.jpg\n",
      "/home/yash/notebook/DeepLearningProject-master/posters_final/Super.jpg\n",
      "/home/yash/notebook/DeepLearningProject-master/posters_final/Tamara_Drewe.jpg\n",
      "/home/yash/notebook/DeepLearningProject-master/posters_final/Little_Fockers.jpg\n",
      "/home/yash/notebook/DeepLearningProject-master/posters_final/The_Switch.jpg\n",
      "/home/yash/notebook/DeepLearningProject-master/posters_final/The_Bucket_List.jpg\n",
      "/home/yash/notebook/DeepLearningProject-master/posters_final/New_in_Town.jpg\n",
      "/home/yash/notebook/DeepLearningProject-master/posters_final/The_Rebound.jpg\n",
      "/home/yash/notebook/DeepLearningProject-master/posters_final/Cop_Out.jpg\n",
      "/home/yash/notebook/DeepLearningProject-master/posters_final/Management.jpg\n",
      "/home/yash/notebook/DeepLearningProject-master/posters_final/Another_Year.jpg\n",
      "/home/yash/notebook/DeepLearningProject-master/posters_final/The_Men_Who_Stare_at_Goats.jpg\n",
      "/home/yash/notebook/DeepLearningProject-master/posters_final/Meet_Bill.jpg\n",
      "/home/yash/notebook/DeepLearningProject-master/posters_final/The_Great_Mouse_Detective.jpg\n",
      "/home/yash/notebook/DeepLearningProject-master/posters_final/I_Love_You_Phillip_Morris.jpg\n",
      "/home/yash/notebook/DeepLearningProject-master/posters_final/The_Back-Up_Plan.jpg\n",
      "/home/yash/notebook/DeepLearningProject-master/posters_final/Open_Season_3.jpg\n",
      "/home/yash/notebook/DeepLearningProject-master/posters_final/Killers.jpg\n",
      "/home/yash/notebook/DeepLearningProject-master/posters_final/Letters_to_Juliet.jpg\n",
      "/home/yash/notebook/DeepLearningProject-master/posters_final/Date_Night.jpg\n",
      "/home/yash/notebook/DeepLearningProject-master/posters_final/Home_Alone_4.jpg\n",
      "/home/yash/notebook/DeepLearningProject-master/posters_final/Le_Petit_Nicolas.jpg\n",
      "/home/yash/notebook/DeepLearningProject-master/posters_final/Tooth_Fairy.jpg\n",
      "/home/yash/notebook/DeepLearningProject-master/posters_final/Robots.jpg\n",
      "/home/yash/notebook/DeepLearningProject-master/posters_final/Labor_Pains.jpg\n",
      "/home/yash/notebook/DeepLearningProject-master/posters_final/Hatchet_II.jpg\n",
      "/home/yash/notebook/DeepLearningProject-master/posters_final/Morning_Glory.jpg\n",
      "/home/yash/notebook/DeepLearningProject-master/posters_final/A_Matter_of_Loaf_and_Death.jpg\n",
      "/home/yash/notebook/DeepLearningProject-master/posters_final/Dirty_Girl.jpg\n",
      "/home/yash/notebook/DeepLearningProject-master/posters_final/Bitch_Slap.jpg\n",
      "/home/yash/notebook/DeepLearningProject-master/posters_final/Extract.jpg\n",
      "/home/yash/notebook/DeepLearningProject-master/posters_final/Year_One.jpg\n",
      "/home/yash/notebook/DeepLearningProject-master/posters_final/Yogi_Bear.jpg\n",
      "/home/yash/notebook/DeepLearningProject-master/posters_final/The_Accidental_Husband.jpg\n",
      "/home/yash/notebook/DeepLearningProject-master/posters_final/How_Do_You_Know.jpg\n",
      "/home/yash/notebook/DeepLearningProject-master/posters_final/You_Will_Meet_a_Tall_Dark_Stranger.jpg\n",
      "/home/yash/notebook/DeepLearningProject-master/posters_final/Old_Dogs.jpg\n",
      "/home/yash/notebook/DeepLearningProject-master/posters_final/Get_Him_to_the_Greek.jpg\n",
      "/home/yash/notebook/DeepLearningProject-master/posters_final/Somewhere.jpg\n",
      "/home/yash/notebook/DeepLearningProject-master/posters_final/Leap_Year.jpg\n",
      "/home/yash/notebook/DeepLearningProject-master/posters_final/Whatever_Works.jpg\n",
      "/home/yash/notebook/DeepLearningProject-master/posters_final/Me_and_Orson_Welles.jpg\n",
      "/home/yash/notebook/DeepLearningProject-master/posters_final/G-Force.jpg\n",
      "/home/yash/notebook/DeepLearningProject-master/posters_final/Going_the_Distance.jpg\n",
      "/home/yash/notebook/DeepLearningProject-master/posters_final/All_About_Steve.jpg\n",
      "/home/yash/notebook/DeepLearningProject-master/posters_final/Valkyrie.jpg\n",
      "/home/yash/notebook/DeepLearningProject-master/posters_final/Public_Enemies.jpg\n",
      "/home/yash/notebook/DeepLearningProject-master/posters_final/Braveheart.jpg\n",
      "/home/yash/notebook/DeepLearningProject-master/posters_final/Prayers_for_Bobby.jpg\n",
      "/home/yash/notebook/DeepLearningProject-master/posters_final/Milk.jpg\n",
      "/home/yash/notebook/DeepLearningProject-master/posters_final/The_Duchess.jpg\n",
      "/home/yash/notebook/DeepLearningProject-master/posters_final/La_battaglia_di_Algeri.jpg\n",
      "/home/yash/notebook/DeepLearningProject-master/posters_final/Der_Baader_Meinhof_Komplex.jpg\n",
      "/home/yash/notebook/DeepLearningProject-master/posters_final/The_Young_Victoria.jpg\n",
      "/home/yash/notebook/DeepLearningProject-master/posters_final/Agora.jpg\n",
      "/home/yash/notebook/DeepLearningProject-master/posters_final/Invictus.jpg\n",
      "/home/yash/notebook/DeepLearningProject-master/posters_final/Red_Cliff_Part_2.jpg\n",
      "/home/yash/notebook/DeepLearningProject-master/posters_final/In_the_Valley_of_Elah.jpg\n",
      "/home/yash/notebook/DeepLearningProject-master/posters_final/Defiance.jpg\n",
      "/home/yash/notebook/DeepLearningProject-master/posters_final/Hunger.jpg\n",
      "/home/yash/notebook/DeepLearningProject-master/posters_final/The_Great_Raid.jpg\n",
      "/home/yash/notebook/DeepLearningProject-master/posters_final/W..jpg\n",
      "/home/yash/notebook/DeepLearningProject-master/posters_final/The_Countess.jpg\n",
      "/home/yash/notebook/DeepLearningProject-master/posters_final/John_Rabe.jpg\n",
      "/home/yash/notebook/DeepLearningProject-master/posters_final/The_Messenger.jpg\n",
      "/home/yash/notebook/DeepLearningProject-master/posters_final/Coco_avant_Chanel.jpg\n",
      "/home/yash/notebook/DeepLearningProject-master/posters_final/Max_Manus.jpg\n",
      "/home/yash/notebook/DeepLearningProject-master/posters_final/Cadillac_Records.jpg\n",
      "/home/yash/notebook/DeepLearningProject-master/posters_final/Hamlet.jpg\n",
      "/home/yash/notebook/DeepLearningProject-master/posters_final/Man_on_Wire.jpg\n",
      "/home/yash/notebook/DeepLearningProject-master/posters_final/Kruistocht_in_Spijkerbroek.jpg\n",
      "/home/yash/notebook/DeepLearningProject-master/posters_final/Il_Decameron.jpg\n",
      "/home/yash/notebook/DeepLearningProject-master/posters_final/Der_rote_Baron.jpg\n",
      "/home/yash/notebook/DeepLearningProject-master/posters_final/Into_the_Storm.jpg\n",
      "/home/yash/notebook/DeepLearningProject-master/posters_final/Bury_My_Heart_At_Wounded_Knee.jpg\n",
      "/home/yash/notebook/DeepLearningProject-master/posters_final/Glorious_39.jpg\n",
      "/home/yash/notebook/DeepLearningProject-master/posters_final/Grey_Gardens.jpg\n",
      "/home/yash/notebook/DeepLearningProject-master/posters_final/Taking_Chance.jpg\n",
      "/home/yash/notebook/DeepLearningProject-master/posters_final/The_Last_Templar.jpg\n",
      "/home/yash/notebook/DeepLearningProject-master/posters_final/Nomad.jpg\n",
      "/home/yash/notebook/DeepLearningProject-master/posters_final/The_Haunted_Airman.jpg\n",
      "/home/yash/notebook/DeepLearningProject-master/posters_final/Viola_di_Mare.jpg\n",
      "/home/yash/notebook/DeepLearningProject-master/posters_final/Sluga_Gosudarev.jpg\n",
      "/home/yash/notebook/DeepLearningProject-master/posters_final/It_Felt_Like_a_Kiss.jpg\n",
      "/home/yash/notebook/DeepLearningProject-master/posters_final/Sisi.jpg\n",
      "/home/yash/notebook/DeepLearningProject-master/posters_final/Vincere.jpg\n",
      "/home/yash/notebook/DeepLearningProject-master/posters_final/Taras_Bulba.jpg\n",
      "/home/yash/notebook/DeepLearningProject-master/posters_final/Passchendaele.jpg\n",
      "/home/yash/notebook/DeepLearningProject-master/posters_final/The_Age_of_Stupid.jpg\n",
      "/home/yash/notebook/DeepLearningProject-master/posters_final/Amintiri_din_epoca_de_aur.jpg\n",
      "/home/yash/notebook/DeepLearningProject-master/posters_final/La_masseria_delle_allodole.jpg\n",
      "/home/yash/notebook/DeepLearningProject-master/posters_final/The_Pagan_Queen.jpg\n"
     ]
    },
    {
     "name": "stdout",
     "output_type": "stream",
     "text": [
      "/home/yash/notebook/DeepLearningProject-master/posters_final/Animal_Armageddon.jpg\n",
      "/home/yash/notebook/DeepLearningProject-master/posters_final/The_Time_That_Remains.jpg\n",
      "/home/yash/notebook/DeepLearningProject-master/posters_final/The_Last_Confession_of_Alexander_Pearce.jpg\n",
      "/home/yash/notebook/DeepLearningProject-master/posters_final/Barbarossa.jpg\n",
      "/home/yash/notebook/DeepLearningProject-master/posters_final/Vittorio_D.jpg\n",
      "/home/yash/notebook/DeepLearningProject-master/posters_final/Winter_of_Frozen_Dreams.jpg\n",
      "/home/yash/notebook/DeepLearningProject-master/posters_final/The_Ascent_of_Money.jpg\n",
      "/home/yash/notebook/DeepLearningProject-master/posters_final/Die_Gustloff.jpg\n",
      "/home/yash/notebook/DeepLearningProject-master/posters_final/Popieluszko._Wolnosc_jest_w_nas.jpg\n",
      "/home/yash/notebook/DeepLearningProject-master/posters_final/Journey_to_Mecca.jpg\n",
      "/home/yash/notebook/DeepLearningProject-master/posters_final/Lucky_Country.jpg\n",
      "/home/yash/notebook/DeepLearningProject-master/posters_final/Journey_to_10,000_BC.jpg\n",
      "/home/yash/notebook/DeepLearningProject-master/posters_final/Appaloosa.jpg\n",
      "/home/yash/notebook/DeepLearningProject-master/posters_final/Seraphim_Falls.jpg\n",
      "/home/yash/notebook/DeepLearningProject-master/posters_final/Sukiyaki_Western_Django.jpg\n",
      "/home/yash/notebook/DeepLearningProject-master/posters_final/Soldier_Blue.jpg\n",
      "/home/yash/notebook/DeepLearningProject-master/posters_final/Bury_My_Heart_At_Wounded_Knee.jpg\n",
      "/home/yash/notebook/DeepLearningProject-master/posters_final/The_Burrowers.jpg\n",
      "/home/yash/notebook/DeepLearningProject-master/posters_final/September_Dawn.jpg\n",
      "/home/yash/notebook/DeepLearningProject-master/posters_final/Copperhead.jpg\n",
      "/home/yash/notebook/DeepLearningProject-master/posters_final/Lone_Rider.jpg\n",
      "/home/yash/notebook/DeepLearningProject-master/posters_final/Prairie_Fever.jpg\n",
      "/home/yash/notebook/DeepLearningProject-master/posters_final/Six_Reasons_Why.jpg\n",
      "/home/yash/notebook/DeepLearningProject-master/posters_final/Comanche_Moon.jpg\n",
      "/home/yash/notebook/DeepLearningProject-master/posters_final/The_Man_Who_Came_Back.jpg\n",
      "/home/yash/notebook/DeepLearningProject-master/posters_final/Escape_from_Darwin.jpg\n",
      "/home/yash/notebook/DeepLearningProject-master/posters_final/The_Attic_Door.jpg\n",
      "/home/yash/notebook/DeepLearningProject-master/posters_final/Three_Priests.jpg\n",
      "/home/yash/notebook/DeepLearningProject-master/posters_final/Fistful_of_Brains.jpg\n",
      "/home/yash/notebook/DeepLearningProject-master/posters_final/Six_Gun.jpg\n",
      "/home/yash/notebook/DeepLearningProject-master/posters_final/Bunker_Hill.jpg\n",
      "/home/yash/notebook/DeepLearningProject-master/posters_final/Devil_Come_to_Hell_and_Stay_Where_You_Belong.jpg\n",
      "/home/yash/notebook/DeepLearningProject-master/posters_final/Blood_Loss.jpg\n",
      "/home/yash/notebook/DeepLearningProject-master/posters_final/Aos_Hespanhois_Conphinantes.jpg\n",
      "/home/yash/notebook/DeepLearningProject-master/posters_final/Broken_Fences.jpg\n",
      "/home/yash/notebook/DeepLearningProject-master/posters_final/Blade_Runner.jpg\n",
      "/home/yash/notebook/DeepLearningProject-master/posters_final/I_Am_Legend.jpg\n",
      "/home/yash/notebook/DeepLearningProject-master/posters_final/Titanic.jpg\n",
      "/home/yash/notebook/DeepLearningProject-master/posters_final/Predator.jpg\n",
      "/home/yash/notebook/DeepLearningProject-master/posters_final/Live_Free_or_Die_Hard.jpg\n",
      "/home/yash/notebook/DeepLearningProject-master/posters_final/Saw_III.jpg\n",
      "/home/yash/notebook/DeepLearningProject-master/posters_final/Die_Hard_2.jpg\n",
      "/home/yash/notebook/DeepLearningProject-master/posters_final/Casino_Royale.jpg\n",
      "/home/yash/notebook/DeepLearningProject-master/posters_final/Die_Hard.jpg\n",
      "/home/yash/notebook/DeepLearningProject-master/posters_final/The_Mist.jpg\n",
      "/home/yash/notebook/DeepLearningProject-master/posters_final/The_Departed.jpg\n",
      "/home/yash/notebook/DeepLearningProject-master/posters_final/Sin_City.jpg\n",
      "/home/yash/notebook/DeepLearningProject-master/posters_final/Saw_IV.jpg\n",
      "/home/yash/notebook/DeepLearningProject-master/posters_final/Jaws.jpg\n",
      "/home/yash/notebook/DeepLearningProject-master/posters_final/28_Weeks_Later.jpg\n",
      "/home/yash/notebook/DeepLearningProject-master/posters_final/The_Prestige.jpg\n",
      "/home/yash/notebook/DeepLearningProject-master/posters_final/Basic_Instinct.jpg\n",
      "/home/yash/notebook/DeepLearningProject-master/posters_final/Next.jpg\n",
      "/home/yash/notebook/DeepLearningProject-master/posters_final/Sunshine.jpg\n",
      "/home/yash/notebook/DeepLearningProject-master/posters_final/Apocalypto.jpg\n",
      "/home/yash/notebook/DeepLearningProject-master/posters_final/Zodiac.jpg\n",
      "/home/yash/notebook/DeepLearningProject-master/posters_final/Crank.jpg\n",
      "/home/yash/notebook/DeepLearningProject-master/posters_final/A_History_of_Violence.jpg\n",
      "/home/yash/notebook/DeepLearningProject-master/posters_final/Ghost_Rider.jpg\n",
      "/home/yash/notebook/DeepLearningProject-master/posters_final/A_Mighty_Heart.jpg\n",
      "/home/yash/notebook/DeepLearningProject-master/posters_final/Fracture.jpg\n",
      "/home/yash/notebook/DeepLearningProject-master/posters_final/Disturbia.jpg\n",
      "/home/yash/notebook/DeepLearningProject-master/posters_final/Eastern_Promises.jpg\n",
      "/home/yash/notebook/DeepLearningProject-master/posters_final/Das_Leben_der_Anderen.jpg\n",
      "/home/yash/notebook/DeepLearningProject-master/posters_final/Planet_Terror.jpg\n",
      "/home/yash/notebook/DeepLearningProject-master/posters_final/Grindhouse.jpg\n",
      "/home/yash/notebook/DeepLearningProject-master/posters_final/The_Bourne_Supremacy.jpg\n",
      "/home/yash/notebook/DeepLearningProject-master/posters_final/Shooter.jpg\n",
      "/home/yash/notebook/DeepLearningProject-master/posters_final/No_Country_for_Old_Men.jpg\n",
      "/home/yash/notebook/DeepLearningProject-master/posters_final/Death_Sentence.jpg\n",
      "/home/yash/notebook/DeepLearningProject-master/posters_final/The_Number_23.jpg\n",
      "/home/yash/notebook/DeepLearningProject-master/posters_final/The_Bourne_Ultimatum.jpg\n",
      "/home/yash/notebook/DeepLearningProject-master/posters_final/Bullitt.jpg\n",
      "/home/yash/notebook/DeepLearningProject-master/posters_final/Starship_Troopers.jpg\n",
      "/home/yash/notebook/DeepLearningProject-master/posters_final/Hitman.jpg\n",
      "/home/yash/notebook/DeepLearningProject-master/posters_final/Lucky_Number_Slevin.jpg\n",
      "/home/yash/notebook/DeepLearningProject-master/posters_final/The_Recruit.jpg\n",
      "/home/yash/notebook/DeepLearningProject-master/posters_final/Death_Proof.jpg\n",
      "/home/yash/notebook/DeepLearningProject-master/posters_final/Live!.jpg\n",
      "/home/yash/notebook/DeepLearningProject-master/posters_final/Blood_Diamond.jpg\n",
      "/home/yash/notebook/DeepLearningProject-master/posters_final/We_Own_the_Night.jpg\n",
      "/home/yash/notebook/DeepLearningProject-master/posters_final/Rendition.jpg\n",
      "/home/yash/notebook/DeepLearningProject-master/posters_final/The_Kingdom.jpg\n",
      "/home/yash/notebook/DeepLearningProject-master/posters_final/Primer.jpg\n",
      "/home/yash/notebook/DeepLearningProject-master/posters_final/The_Illusionist.jpg\n",
      "/home/yash/notebook/DeepLearningProject-master/posters_final/P2.jpg\n",
      "/home/yash/notebook/DeepLearningProject-master/posters_final/Rush_Hour_3.jpg\n",
      "/home/yash/notebook/DeepLearningProject-master/posters_final/War.jpg\n",
      "/home/yash/notebook/DeepLearningProject-master/posters_final/Whisper.jpg\n",
      "/home/yash/notebook/DeepLearningProject-master/posters_final/The_Proposition.jpg\n",
      "/home/yash/notebook/DeepLearningProject-master/posters_final/1408.jpg\n",
      "/home/yash/notebook/DeepLearningProject-master/posters_final/El_Espinazo_del_Diablo.jpg\n",
      "/home/yash/notebook/DeepLearningProject-master/posters_final/Cleaner.jpg\n",
      "/home/yash/notebook/DeepLearningProject-master/posters_final/Sleuth.jpg\n",
      "/home/yash/notebook/DeepLearningProject-master/posters_final/The_Messengers.jpg\n",
      "/home/yash/notebook/DeepLearningProject-master/posters_final/A_Scanner_Darkly.jpg\n",
      "/home/yash/notebook/DeepLearningProject-master/posters_final/Mr._Brooks.jpg\n",
      "/home/yash/notebook/DeepLearningProject-master/posters_final/Captivity.jpg\n",
      "/home/yash/notebook/DeepLearningProject-master/posters_final/30_Days_of_Night.jpg\n",
      "/home/yash/notebook/DeepLearningProject-master/posters_final/The_Covenant.jpg\n",
      "/home/yash/notebook/DeepLearningProject-master/posters_final/Vidocq.jpg\n",
      "/home/yash/notebook/DeepLearningProject-master/posters_final/Premonition.jpg\n",
      "/home/yash/notebook/DeepLearningProject-master/posters_final/Awake.jpg\n",
      "/home/yash/notebook/DeepLearningProject-master/posters_final/London_to_Brighton.jpg\n",
      "/home/yash/notebook/DeepLearningProject-master/posters_final/Revolver.jpg\n",
      "/home/yash/notebook/DeepLearningProject-master/posters_final/Bug.jpg\n"
     ]
    },
    {
     "name": "stdout",
     "output_type": "stream",
     "text": [
      "/home/yash/notebook/DeepLearningProject-master/posters_final/Butterfly_on_a_Wheel.jpg\n",
      "/home/yash/notebook/DeepLearningProject-master/posters_final/The_Good_Shepherd.jpg\n",
      "/home/yash/notebook/DeepLearningProject-master/posters_final/Saw_III.jpg\n",
      "/home/yash/notebook/DeepLearningProject-master/posters_final/Batman_Begins.jpg\n",
      "/home/yash/notebook/DeepLearningProject-master/posters_final/Step_Up.jpg\n",
      "/home/yash/notebook/DeepLearningProject-master/posters_final/The_Departed.jpg\n",
      "/home/yash/notebook/DeepLearningProject-master/posters_final/Inside_Man.jpg\n",
      "/home/yash/notebook/DeepLearningProject-master/posters_final/The_Fugitive.jpg\n",
      "/home/yash/notebook/DeepLearningProject-master/posters_final/Chicago.jpg\n",
      "/home/yash/notebook/DeepLearningProject-master/posters_final/Transporter_2.jpg\n",
      "/home/yash/notebook/DeepLearningProject-master/posters_final/Crank.jpg\n",
      "/home/yash/notebook/DeepLearningProject-master/posters_final/Match_Point.jpg\n",
      "/home/yash/notebook/DeepLearningProject-master/posters_final/A_History_of_Violence.jpg\n",
      "/home/yash/notebook/DeepLearningProject-master/posters_final/Swordfish.jpg\n",
      "/home/yash/notebook/DeepLearningProject-master/posters_final/Gone_in_Sixty_Seconds.jpg\n",
      "/home/yash/notebook/DeepLearningProject-master/posters_final/Green_Street_Hooligans.jpg\n",
      "/home/yash/notebook/DeepLearningProject-master/posters_final/Lord_of_War.jpg\n",
      "/home/yash/notebook/DeepLearningProject-master/posters_final/The_Exorcism_of_Emily_Rose.jpg\n",
      "/home/yash/notebook/DeepLearningProject-master/posters_final/Kiss_Kiss_Bang_Bang.jpg\n",
      "/home/yash/notebook/DeepLearningProject-master/posters_final/Lucky_Number_Slevin.jpg\n",
      "/home/yash/notebook/DeepLearningProject-master/posters_final/Gridiron_Gang.jpg\n",
      "/home/yash/notebook/DeepLearningProject-master/posters_final/Chaos.jpg\n",
      "/home/yash/notebook/DeepLearningProject-master/posters_final/16_Blocks.jpg\n",
      "/home/yash/notebook/DeepLearningProject-master/posters_final/The_Sentinel.jpg\n",
      "/home/yash/notebook/DeepLearningProject-master/posters_final/Basic_Instinct_2.jpg\n",
      "/home/yash/notebook/DeepLearningProject-master/posters_final/Into_the_Blue.jpg\n",
      "/home/yash/notebook/DeepLearningProject-master/posters_final/The_Proposition.jpg\n",
      "/home/yash/notebook/DeepLearningProject-master/posters_final/Domino.jpg\n",
      "/home/yash/notebook/DeepLearningProject-master/posters_final/Hostage.jpg\n",
      "/home/yash/notebook/DeepLearningProject-master/posters_final/My_Super_Ex-Girlfriend.jpg\n",
      "/home/yash/notebook/DeepLearningProject-master/posters_final/Rounders.jpg\n",
      "/home/yash/notebook/DeepLearningProject-master/posters_final/Miami_Vice.jpg\n",
      "/home/yash/notebook/DeepLearningProject-master/posters_final/Angst.jpg\n",
      "/home/yash/notebook/DeepLearningProject-master/posters_final/The_Pink_Panther.jpg\n",
      "/home/yash/notebook/DeepLearningProject-master/posters_final/Running_Scared.jpg\n",
      "/home/yash/notebook/DeepLearningProject-master/posters_final/Bandidas.jpg\n",
      "/home/yash/notebook/DeepLearningProject-master/posters_final/London_to_Brighton.jpg\n",
      "/home/yash/notebook/DeepLearningProject-master/posters_final/Alpha_Dog.jpg\n",
      "/home/yash/notebook/DeepLearningProject-master/posters_final/Harsh_Times.jpg\n",
      "/home/yash/notebook/DeepLearningProject-master/posters_final/United_93.jpg\n",
      "/home/yash/notebook/DeepLearningProject-master/posters_final/The_Contract.jpg\n",
      "/home/yash/notebook/DeepLearningProject-master/posters_final/Unknown.jpg\n",
      "/home/yash/notebook/DeepLearningProject-master/posters_final/Snakes_on_a_Plane.jpg\n",
      "/home/yash/notebook/DeepLearningProject-master/posters_final/Hollywoodland.jpg\n",
      "/home/yash/notebook/DeepLearningProject-master/posters_final/Little_Man.jpg\n",
      "/home/yash/notebook/DeepLearningProject-master/posters_final/Mindhunters.jpg\n",
      "/home/yash/notebook/DeepLearningProject-master/posters_final/The_Hard_Way.jpg\n",
      "/home/yash/notebook/DeepLearningProject-master/posters_final/The_Three_Burials_of_Melquiades_Estrada.jpg\n",
      "/home/yash/notebook/DeepLearningProject-master/posters_final/After_the_Sunset.jpg\n",
      "/home/yash/notebook/DeepLearningProject-master/posters_final/Capote.jpg\n",
      "/home/yash/notebook/DeepLearningProject-master/posters_final/Wait_Until_Dark.jpg\n",
      "/home/yash/notebook/DeepLearningProject-master/posters_final/The_United_States_of_Leland.jpg\n",
      "/home/yash/notebook/DeepLearningProject-master/posters_final/Pusher_3.jpg\n",
      "/home/yash/notebook/DeepLearningProject-master/posters_final/New_Jack_City.jpg\n",
      "/home/yash/notebook/DeepLearningProject-master/posters_final/Big_Nothing.jpg\n",
      "/home/yash/notebook/DeepLearningProject-master/posters_final/Spartan.jpg\n",
      "/home/yash/notebook/DeepLearningProject-master/posters_final/The_Big_White.jpg\n",
      "/home/yash/notebook/DeepLearningProject-master/posters_final/The_Dead_Girl.jpg\n",
      "/home/yash/notebook/DeepLearningProject-master/posters_final/Bubble.jpg\n",
      "/home/yash/notebook/DeepLearningProject-master/posters_final/Two_for_the_Money.jpg\n",
      "/home/yash/notebook/DeepLearningProject-master/posters_final/Drake_And_Josh_Go_Hollywood.jpg\n",
      "/home/yash/notebook/DeepLearningProject-master/posters_final/Freedomland.jpg\n",
      "/home/yash/notebook/DeepLearningProject-master/posters_final/In_Cold_Blood.jpg\n",
      "/home/yash/notebook/DeepLearningProject-master/posters_final/The_First_Great_Train_Robbery.jpg\n",
      "/home/yash/notebook/DeepLearningProject-master/posters_final/Lonely_Hearts.jpg\n",
      "/home/yash/notebook/DeepLearningProject-master/posters_final/The_Ice_Harvest.jpg\n",
      "/home/yash/notebook/DeepLearningProject-master/posters_final/Tsotsi.jpg\n",
      "/home/yash/notebook/DeepLearningProject-master/posters_final/A_Guide_To_Recognizing_Your_Saints.jpg\n",
      "/home/yash/notebook/DeepLearningProject-master/posters_final/Slow_Burn.jpg\n",
      "/home/yash/notebook/DeepLearningProject-master/posters_final/The_Last_Drop.jpg\n",
      "/home/yash/notebook/DeepLearningProject-master/posters_final/Dhoom.jpg\n",
      "/home/yash/notebook/DeepLearningProject-master/posters_final/El_Aura.jpg\n",
      "/home/yash/notebook/DeepLearningProject-master/posters_final/Paradise_Now.jpg\n",
      "/home/yash/notebook/DeepLearningProject-master/posters_final/Bordertown.jpg\n",
      "/home/yash/notebook/DeepLearningProject-master/posters_final/Dhoom_2.jpg\n",
      "/home/yash/notebook/DeepLearningProject-master/posters_final/Vet_Hard.jpg\n",
      "/home/yash/notebook/DeepLearningProject-master/posters_final/Drop_Dead_Sexy.jpg\n",
      "/home/yash/notebook/DeepLearningProject-master/posters_final/The_Blue_Lamp.jpg\n",
      "/home/yash/notebook/DeepLearningProject-master/posters_final/Grizzly_Man.jpg\n",
      "/home/yash/notebook/DeepLearningProject-master/posters_final/Mad_Hot_Ballroom.jpg\n",
      "/home/yash/notebook/DeepLearningProject-master/posters_final/Super_Size_Me.jpg\n",
      "/home/yash/notebook/DeepLearningProject-master/posters_final/Baraka.jpg\n",
      "/home/yash/notebook/DeepLearningProject-master/posters_final/Ghosts_of_the_Abyss.jpg\n",
      "/home/yash/notebook/DeepLearningProject-master/posters_final/Earthlings.jpg\n",
      "/home/yash/notebook/DeepLearningProject-master/posters_final/The_Thin_Blue_Line.jpg\n",
      "/home/yash/notebook/DeepLearningProject-master/posters_final/The_Aristocrats.jpg\n",
      "/home/yash/notebook/DeepLearningProject-master/posters_final/Hiroshima.jpg\n",
      "/home/yash/notebook/DeepLearningProject-master/posters_final/Inside_Deep_Throat.jpg\n",
      "/home/yash/notebook/DeepLearningProject-master/posters_final/Why_We_Fight.jpg\n",
      "/home/yash/notebook/DeepLearningProject-master/posters_final/The_Yes_Men.jpg\n",
      "/home/yash/notebook/DeepLearningProject-master/posters_final/Die_Geschichte_vom_weinenden_Kamel.jpg\n",
      "/home/yash/notebook/DeepLearningProject-master/posters_final/Riding_Giants.jpg\n",
      "/home/yash/notebook/DeepLearningProject-master/posters_final/Fuck.jpg\n",
      "/home/yash/notebook/DeepLearningProject-master/posters_final/The_Devil_and_Daniel_Johnston.jpg\n",
      "/home/yash/notebook/DeepLearningProject-master/posters_final/Bugs!.jpg\n",
      "/home/yash/notebook/DeepLearningProject-master/posters_final/Murderball.jpg\n",
      "/home/yash/notebook/DeepLearningProject-master/posters_final/Aliens_of_the_Deep.jpg\n",
      "/home/yash/notebook/DeepLearningProject-master/posters_final/Behind_the_Planet_of_the_Apes.jpg\n",
      "/home/yash/notebook/DeepLearningProject-master/posters_final/Live_8.jpg\n",
      "/home/yash/notebook/DeepLearningProject-master/posters_final/Odyssey_in_Rome.jpg\n",
      "/home/yash/notebook/DeepLearningProject-master/posters_final/Street_Fight.jpg\n",
      "/home/yash/notebook/DeepLearningProject-master/posters_final/Alien_Planet.jpg\n",
      "/home/yash/notebook/DeepLearningProject-master/posters_final/Hitler_-_Eine_Karriere.jpg\n",
      "/home/yash/notebook/DeepLearningProject-master/posters_final/Before_The_Dinosaurs_-_Walking_With_Monsters.jpg\n",
      "/home/yash/notebook/DeepLearningProject-master/posters_final/The_Power_of_Nightmares.jpg\n"
     ]
    },
    {
     "name": "stdout",
     "output_type": "stream",
     "text": [
      "/home/yash/notebook/DeepLearningProject-master/posters_final/Ashes_and_Snow.jpg\n",
      "/home/yash/notebook/DeepLearningProject-master/posters_final/Guns_Germs_and_Steel.jpg\n",
      "/home/yash/notebook/DeepLearningProject-master/posters_final/Dig!.jpg\n",
      "/home/yash/notebook/DeepLearningProject-master/posters_final/We_Feed_the_World.jpg\n",
      "/home/yash/notebook/DeepLearningProject-master/posters_final/My_Date_with_Drew.jpg\n",
      "/home/yash/notebook/DeepLearningProject-master/posters_final/The_Man_Who_Predicted_9-11.jpg\n",
      "/home/yash/notebook/DeepLearningProject-master/posters_final/Rivers_and_Tides.jpg\n",
      "/home/yash/notebook/DeepLearningProject-master/posters_final/After_Innocence.jpg\n",
      "/home/yash/notebook/DeepLearningProject-master/posters_final/Coral_Reef_Adventure.jpg\n",
      "/home/yash/notebook/DeepLearningProject-master/posters_final/New_York_Doll.jpg\n",
      "/home/yash/notebook/DeepLearningProject-master/posters_final/Dust_to_Glory.jpg\n",
      "/home/yash/notebook/DeepLearningProject-master/posters_final/Rize.jpg\n",
      "/home/yash/notebook/DeepLearningProject-master/posters_final/Das_Goebbels-Experiment.jpg\n",
      "/home/yash/notebook/DeepLearningProject-master/posters_final/Green_Day_-_Bullet_in_a_Bible.jpg\n",
      "/home/yash/notebook/DeepLearningProject-master/posters_final/49_Up.jpg\n",
      "/home/yash/notebook/DeepLearningProject-master/posters_final/Made_in_Serbia.jpg\n",
      "/home/yash/notebook/DeepLearningProject-master/posters_final/The_Comedians_of_Comedy.jpg\n",
      "/home/yash/notebook/DeepLearningProject-master/posters_final/The_White_Diamond.jpg\n",
      "/home/yash/notebook/DeepLearningProject-master/posters_final/Bukowski_-_Born_into_This.jpg\n",
      "/home/yash/notebook/DeepLearningProject-master/posters_final/Viva_Zapatero!.jpg\n",
      "/home/yash/notebook/DeepLearningProject-master/posters_final/The_Mindscape_of_Alan_Moore.jpg\n",
      "/home/yash/notebook/DeepLearningProject-master/posters_final/Global_Dimming.jpg\n",
      "/home/yash/notebook/DeepLearningProject-master/posters_final/Life_in_the_Undergrowth.jpg\n",
      "/home/yash/notebook/DeepLearningProject-master/posters_final/Garbo.jpg\n",
      "/home/yash/notebook/DeepLearningProject-master/posters_final/Expo_Magic_of_the_White_City.jpg\n",
      "/home/yash/notebook/DeepLearningProject-master/posters_final/A_Father_..._A_Son_..._Once_Upon_A_Time_In_Hollywood.jpg\n",
      "/home/yash/notebook/DeepLearningProject-master/posters_final/Sylvester_Stallone_Bio..jpg\n",
      "/home/yash/notebook/DeepLearningProject-master/posters_final/Left_of_the_Dial.jpg\n",
      "/home/yash/notebook/DeepLearningProject-master/posters_final/Undo.jpg\n",
      "/home/yash/notebook/DeepLearningProject-master/posters_final/The_Fearless_Freaks.jpg\n",
      "/home/yash/notebook/DeepLearningProject-master/posters_final/Dzieci_z_Leningradzkiego.jpg\n",
      "/home/yash/notebook/DeepLearningProject-master/posters_final/Diario_de_un_skin.jpg\n",
      "/home/yash/notebook/DeepLearningProject-master/posters_final/Star_Wars.jpg\n",
      "/home/yash/notebook/DeepLearningProject-master/posters_final/The_Matrix.jpg\n",
      "/home/yash/notebook/DeepLearningProject-master/posters_final/I,_Robot.jpg\n",
      "/home/yash/notebook/DeepLearningProject-master/posters_final/Men_in_Black_II.jpg\n",
      "/home/yash/notebook/DeepLearningProject-master/posters_final/Alien.jpg\n",
      "/home/yash/notebook/DeepLearningProject-master/posters_final/Eternal_Sunshine_of_the_Spotless_Mind.jpg\n",
      "/home/yash/notebook/DeepLearningProject-master/posters_final/The_Butterfly_Effect.jpg\n",
      "/home/yash/notebook/DeepLearningProject-master/posters_final/Hellboy.jpg\n",
      "/home/yash/notebook/DeepLearningProject-master/posters_final/Contact.jpg\n",
      "/home/yash/notebook/DeepLearningProject-master/posters_final/Equilibrium.jpg\n",
      "/home/yash/notebook/DeepLearningProject-master/posters_final/Pitch_Black.jpg\n",
      "/home/yash/notebook/DeepLearningProject-master/posters_final/The_Day_After_Tomorrow.jpg\n",
      "/home/yash/notebook/DeepLearningProject-master/posters_final/Paycheck.jpg\n",
      "/home/yash/notebook/DeepLearningProject-master/posters_final/Primer.jpg\n",
      "/home/yash/notebook/DeepLearningProject-master/posters_final/Species_III.jpg\n",
      "/home/yash/notebook/DeepLearningProject-master/posters_final/Banlieue_13.jpg\n",
      "/home/yash/notebook/DeepLearningProject-master/posters_final/The_Forgotten.jpg\n",
      "/home/yash/notebook/DeepLearningProject-master/posters_final/The_Stepford_Wives.jpg\n",
      "/home/yash/notebook/DeepLearningProject-master/posters_final/Sky_Captain_and_the_World_of_Tomorrow.jpg\n",
      "/home/yash/notebook/DeepLearningProject-master/posters_final/Timeline.jpg\n",
      "/home/yash/notebook/DeepLearningProject-master/posters_final/Code_46.jpg\n",
      "/home/yash/notebook/DeepLearningProject-master/posters_final/Cypher.jpg\n",
      "/home/yash/notebook/DeepLearningProject-master/posters_final/Time_Bandits.jpg\n",
      "/home/yash/notebook/DeepLearningProject-master/posters_final/Five_Children_and_It.jpg\n",
      "/home/yash/notebook/DeepLearningProject-master/posters_final/Tank_Girl.jpg\n",
      "/home/yash/notebook/DeepLearningProject-master/posters_final/Cube_Zero.jpg\n",
      "/home/yash/notebook/DeepLearningProject-master/posters_final/Steamboy.jpg\n",
      "/home/yash/notebook/DeepLearningProject-master/posters_final/Silent_Running.jpg\n",
      "/home/yash/notebook/DeepLearningProject-master/posters_final/The_Final_Cut.jpg\n",
      "/home/yash/notebook/DeepLearningProject-master/posters_final/Uno_sceriffo_extraterrestre_-_poco_extra_e_molto_terrestre.jpg\n",
      "/home/yash/notebook/DeepLearningProject-master/posters_final/2046.jpg\n",
      "/home/yash/notebook/DeepLearningProject-master/posters_final/The_Chronicles_of_Riddick.jpg\n",
      "/home/yash/notebook/DeepLearningProject-master/posters_final/Godsend.jpg\n",
      "/home/yash/notebook/DeepLearningProject-master/posters_final/Thunderbirds.jpg\n",
      "/home/yash/notebook/DeepLearningProject-master/posters_final/Frankenfish.jpg\n",
      "/home/yash/notebook/DeepLearningProject-master/posters_final/CASSHERN.jpg\n",
      "/home/yash/notebook/DeepLearningProject-master/posters_final/Impostor.jpg\n",
      "/home/yash/notebook/DeepLearningProject-master/posters_final/Undead.jpg\n",
      "/home/yash/notebook/DeepLearningProject-master/posters_final/Xchange.jpg\n",
      "/home/yash/notebook/DeepLearningProject-master/posters_final/The_Beast_from_20,000_Fathoms.jpg\n",
      "/home/yash/notebook/DeepLearningProject-master/posters_final/The_I_Inside.jpg\n",
      "/home/yash/notebook/DeepLearningProject-master/posters_final/MEMORIES.jpg\n",
      "/home/yash/notebook/DeepLearningProject-master/posters_final/Knight_Rider_2000.jpg\n",
      "/home/yash/notebook/DeepLearningProject-master/posters_final/Yu-Gi-Oh!_The_Movie.jpg\n",
      "/home/yash/notebook/DeepLearningProject-master/posters_final/The_Big_Empty.jpg\n",
      "/home/yash/notebook/DeepLearningProject-master/posters_final/Good_Boy!.jpg\n",
      "/home/yash/notebook/DeepLearningProject-master/posters_final/Battlestar_Galactica.jpg\n",
      "/home/yash/notebook/DeepLearningProject-master/posters_final/The_Ghost_of_Lord_Farquaad.jpg\n",
      "/home/yash/notebook/DeepLearningProject-master/posters_final/The_Bone_Snatcher.jpg\n",
      "/home/yash/notebook/DeepLearningProject-master/posters_final/Antibody.jpg\n",
      "/home/yash/notebook/DeepLearningProject-master/posters_final/On_the_Beach.jpg\n",
      "/home/yash/notebook/DeepLearningProject-master/posters_final/Dracula_3000.jpg\n",
      "/home/yash/notebook/DeepLearningProject-master/posters_final/Marooned.jpg\n",
      "/home/yash/notebook/DeepLearningProject-master/posters_final/G.O.R.A..jpg\n",
      "/home/yash/notebook/DeepLearningProject-master/posters_final/My_Science_Project.jpg\n",
      "/home/yash/notebook/DeepLearningProject-master/posters_final/One_Point_O.jpg\n",
      "/home/yash/notebook/DeepLearningProject-master/posters_final/Decoys.jpg\n",
      "/home/yash/notebook/DeepLearningProject-master/posters_final/Pinocchio_3000.jpg\n",
      "/home/yash/notebook/DeepLearningProject-master/posters_final/The_Five_People_You_Meet_In_Heaven.jpg\n",
      "/home/yash/notebook/DeepLearningProject-master/posters_final/Taken.jpg\n",
      "/home/yash/notebook/DeepLearningProject-master/posters_final/Repli-Kate.jpg\n",
      "/home/yash/notebook/DeepLearningProject-master/posters_final/Thru_the_Moebius_Strip.jpg\n",
      "/home/yash/notebook/DeepLearningProject-master/posters_final/Rottweiler.jpg\n",
      "/home/yash/notebook/DeepLearningProject-master/posters_final/5ive_Days_to_Midnight.jpg\n",
      "/home/yash/notebook/DeepLearningProject-master/posters_final/Boa_vs._Python.jpg\n",
      "/home/yash/notebook/DeepLearningProject-master/posters_final/Dead_Meat.jpg\n",
      "/home/yash/notebook/DeepLearningProject-master/posters_final/Post_impact.jpg\n",
      "/home/yash/notebook/DeepLearningProject-master/posters_final/Endangered_Species.jpg\n",
      "/home/yash/notebook/DeepLearningProject-master/posters_final/Retrograde.jpg\n",
      "/home/yash/notebook/DeepLearningProject-master/posters_final/Donnie_Darko.jpg\n",
      "/home/yash/notebook/DeepLearningProject-master/posters_final/Mystic_River.jpg\n"
     ]
    },
    {
     "name": "stdout",
     "output_type": "stream",
     "text": [
      "/home/yash/notebook/DeepLearningProject-master/posters_final/Identity.jpg\n",
      "/home/yash/notebook/DeepLearningProject-master/posters_final/The_Bourne_Identity.jpg\n",
      "/home/yash/notebook/DeepLearningProject-master/posters_final/The_Ring.jpg\n",
      "/home/yash/notebook/DeepLearningProject-master/posters_final/Paycheck.jpg\n",
      "/home/yash/notebook/DeepLearningProject-master/posters_final/Final_Destination_2.jpg\n",
      "/home/yash/notebook/DeepLearningProject-master/posters_final/Solaris.jpg\n",
      "/home/yash/notebook/DeepLearningProject-master/posters_final/Ghost_Ship.jpg\n",
      "/home/yash/notebook/DeepLearningProject-master/posters_final/House_on_Haunted_Hill.jpg\n",
      "/home/yash/notebook/DeepLearningProject-master/posters_final/Russkiy_Kovcheg.jpg\n",
      "/home/yash/notebook/DeepLearningProject-master/posters_final/The_Haunted_Mansion.jpg\n",
      "/home/yash/notebook/DeepLearningProject-master/posters_final/Below.jpg\n",
      "/home/yash/notebook/DeepLearningProject-master/posters_final/The_Others.jpg\n",
      "/home/yash/notebook/DeepLearningProject-master/posters_final/Wonderland.jpg\n",
      "/home/yash/notebook/DeepLearningProject-master/posters_final/Cypher.jpg\n",
      "/home/yash/notebook/DeepLearningProject-master/posters_final/Killing_Me_Softly.jpg\n",
      "/home/yash/notebook/DeepLearningProject-master/posters_final/High_Crimes.jpg\n",
      "/home/yash/notebook/DeepLearningProject-master/posters_final/Basic.jpg\n",
      "/home/yash/notebook/DeepLearningProject-master/posters_final/In_the_Cut.jpg\n",
      "/home/yash/notebook/DeepLearningProject-master/posters_final/Dead_End.jpg\n",
      "/home/yash/notebook/DeepLearningProject-master/posters_final/The_Diary_of_Ellen_Rimbauer.jpg\n",
      "/home/yash/notebook/DeepLearningProject-master/posters_final/The_Order.jpg\n",
      "/home/yash/notebook/DeepLearningProject-master/posters_final/Intermission.jpg\n",
      "/home/yash/notebook/DeepLearningProject-master/posters_final/Cold_Creek_Manor.jpg\n",
      "/home/yash/notebook/DeepLearningProject-master/posters_final/Io_non_ho_paura.jpg\n",
      "/home/yash/notebook/DeepLearningProject-master/posters_final/City_By_The_Sea.jpg\n",
      "/home/yash/notebook/DeepLearningProject-master/posters_final/My_Bloody_Valentine.jpg\n",
      "/home/yash/notebook/DeepLearningProject-master/posters_final/New_Best_Friend.jpg\n",
      "/home/yash/notebook/DeepLearningProject-master/posters_final/The_Big_Empty.jpg\n",
      "/home/yash/notebook/DeepLearningProject-master/posters_final/Scooby-Doo!_and_the_Monster_of_Mexico.jpg\n",
      "/home/yash/notebook/DeepLearningProject-master/posters_final/The_Truth_About_Charlie.jpg\n",
      "/home/yash/notebook/DeepLearningProject-master/posters_final/Scooby-Doo!_and_the_Legend_of_the_Vampire.jpg\n",
      "/home/yash/notebook/DeepLearningProject-master/posters_final/Fear_X.jpg\n",
      "/home/yash/notebook/DeepLearningProject-master/posters_final/No_Good_Deed.jpg\n",
      "/home/yash/notebook/DeepLearningProject-master/posters_final/The_Reckoning.jpg\n",
      "/home/yash/notebook/DeepLearningProject-master/posters_final/Abandon.jpg\n",
      "/home/yash/notebook/DeepLearningProject-master/posters_final/Deeply.jpg\n",
      "/home/yash/notebook/DeepLearningProject-master/posters_final/The_Singing_Detective.jpg\n",
      "/home/yash/notebook/DeepLearningProject-master/posters_final/China_Moon.jpg\n",
      "/home/yash/notebook/DeepLearningProject-master/posters_final/Tangled.jpg\n",
      "/home/yash/notebook/DeepLearningProject-master/posters_final/I_Witness.jpg\n",
      "/home/yash/notebook/DeepLearningProject-master/posters_final/Octane.jpg\n",
      "/home/yash/notebook/DeepLearningProject-master/posters_final/A_Kiss_Before_Dying.jpg\n",
      "/home/yash/notebook/DeepLearningProject-master/posters_final/Taboo.jpg\n",
      "/home/yash/notebook/DeepLearningProject-master/posters_final/My_House_in_Umbria.jpg\n",
      "/home/yash/notebook/DeepLearningProject-master/posters_final/Doctor_Sleep.jpg\n",
      "/home/yash/notebook/DeepLearningProject-master/posters_final/Malefique.jpg\n",
      "/home/yash/notebook/DeepLearningProject-master/posters_final/Eloise_at_the_Plaza.jpg\n",
      "/home/yash/notebook/DeepLearningProject-master/posters_final/The_Bourne_Identity.jpg\n",
      "/home/yash/notebook/DeepLearningProject-master/posters_final/Sad_Cypress.jpg\n",
      "/home/yash/notebook/DeepLearningProject-master/posters_final/Jericho_Mansions.jpg\n",
      "/home/yash/notebook/DeepLearningProject-master/posters_final/Five_Little_Pigs.jpg\n",
      "/home/yash/notebook/DeepLearningProject-master/posters_final/Conspiracy_of_Silence.jpg\n",
      "/home/yash/notebook/DeepLearningProject-master/posters_final/Mystery_Woman.jpg\n",
      "/home/yash/notebook/DeepLearningProject-master/posters_final/Histoire_de_Marie_et_Julien.jpg\n",
      "/home/yash/notebook/DeepLearningProject-master/posters_final/Rare_Birds.jpg\n",
      "/home/yash/notebook/DeepLearningProject-master/posters_final/Sparkling_Cyanide.jpg\n",
      "/home/yash/notebook/DeepLearningProject-master/posters_final/Coyote_Waits.jpg\n",
      "/home/yash/notebook/DeepLearningProject-master/posters_final/Till_Human_Voices_Wake_Us.jpg\n",
      "/home/yash/notebook/DeepLearningProject-master/posters_final/Nemesis_Game.jpg\n",
      "/home/yash/notebook/DeepLearningProject-master/posters_final/The_Sign_of_Four.jpg\n",
      "/home/yash/notebook/DeepLearningProject-master/posters_final/Hukkle.jpg\n",
      "/home/yash/notebook/DeepLearningProject-master/posters_final/Yau_yen_fan_jiu.jpg\n",
      "/home/yash/notebook/DeepLearningProject-master/posters_final/Piazza_delle_cinque_lune.jpg\n",
      "/home/yash/notebook/DeepLearningProject-master/posters_final/Sur_le_seuil.jpg\n",
      "/home/yash/notebook/DeepLearningProject-master/posters_final/I_Love_Your_Work.jpg\n",
      "/home/yash/notebook/DeepLearningProject-master/posters_final/Simones_Labyrinth.jpg\n",
      "/home/yash/notebook/DeepLearningProject-master/posters_final/Code_11-14.jpg\n",
      "/home/yash/notebook/DeepLearningProject-master/posters_final/The_Uninvited.jpg\n",
      "/home/yash/notebook/DeepLearningProject-master/posters_final/Mazany_Filip.jpg\n",
      "/home/yash/notebook/DeepLearningProject-master/posters_final/The_Glow.jpg\n",
      "/home/yash/notebook/DeepLearningProject-master/posters_final/Le_Pacte_du_silence.jpg\n",
      "/home/yash/notebook/DeepLearningProject-master/posters_final/Dragon_Head.jpg\n",
      "/home/yash/notebook/DeepLearningProject-master/posters_final/Chicago.jpg\n",
      "/home/yash/notebook/DeepLearningProject-master/posters_final/Rock-A-Doodle.jpg\n",
      "/home/yash/notebook/DeepLearningProject-master/posters_final/Rock_Star.jpg\n",
      "/home/yash/notebook/DeepLearningProject-master/posters_final/James_and_the_Giant_Peach.jpg\n",
      "/home/yash/notebook/DeepLearningProject-master/posters_final/Drumline.jpg\n",
      "/home/yash/notebook/DeepLearningProject-master/posters_final/Josie_and_the_Pussycats.jpg\n",
      "/home/yash/notebook/DeepLearningProject-master/posters_final/Eight_Crazy_Nights.jpg\n",
      "/home/yash/notebook/DeepLearningProject-master/posters_final/Crossroads.jpg\n",
      "/home/yash/notebook/DeepLearningProject-master/posters_final/Paint_Your_Wagon.jpg\n",
      "/home/yash/notebook/DeepLearningProject-master/posters_final/Kolja.jpg\n",
      "/home/yash/notebook/DeepLearningProject-master/posters_final/A_Time_for_Dancing.jpg\n",
      "/home/yash/notebook/DeepLearningProject-master/posters_final/Naqoyqatsi.jpg\n",
      "/home/yash/notebook/DeepLearningProject-master/posters_final/Tous_les_matins_du_monde.jpg\n",
      "/home/yash/notebook/DeepLearningProject-master/posters_final/Fubar.jpg\n",
      "/home/yash/notebook/DeepLearningProject-master/posters_final/Le_roi_danse.jpg\n",
      "/home/yash/notebook/DeepLearningProject-master/posters_final/Ja_zuster,_nee_zuster.jpg\n",
      "/home/yash/notebook/DeepLearningProject-master/posters_final/Garage_Days.jpg\n",
      "/home/yash/notebook/DeepLearningProject-master/posters_final/Welcome_to_Woop_Woop.jpg\n",
      "/home/yash/notebook/DeepLearningProject-master/posters_final/Concert_for_George.jpg\n",
      "/home/yash/notebook/DeepLearningProject-master/posters_final/Bollywood_Queen.jpg\n",
      "/home/yash/notebook/DeepLearningProject-master/posters_final/Candy_Dulfer_-_Live_At_Montreux.jpg\n",
      "/home/yash/notebook/DeepLearningProject-master/posters_final/Notre_Dame_de_Paris_-_Live_Arena_di_Verona.jpg\n",
      "/home/yash/notebook/DeepLearningProject-master/posters_final/Haan_Maine_Bhi_Pyaar_Kiya.jpg\n",
      "/home/yash/notebook/DeepLearningProject-master/posters_final/Paul_McCartney_-_Back_in_the_U.S..jpg\n",
      "/home/yash/notebook/DeepLearningProject-master/posters_final/Fancy_Dancing.jpg\n",
      "/home/yash/notebook/DeepLearningProject-master/posters_final/Manu_Chao_Babylonia_En_Guagua.jpg\n",
      "/home/yash/notebook/DeepLearningProject-master/posters_final/I_Do_Believe.jpg\n",
      "/home/yash/notebook/DeepLearningProject-master/posters_final/I_Am_Trying_to_Break_Your_Heart.jpg\n",
      "/home/yash/notebook/DeepLearningProject-master/posters_final/Heremakono.jpg\n",
      "/home/yash/notebook/DeepLearningProject-master/posters_final/Bathtime_in_Clerkenwell.jpg\n",
      "/home/yash/notebook/DeepLearningProject-master/posters_final/Koi_Mere_Dil_Se_Poochhe.jpg\n"
     ]
    },
    {
     "name": "stdout",
     "output_type": "stream",
     "text": [
      "/home/yash/notebook/DeepLearningProject-master/posters_final/Slim_Slam_Slum.jpg\n",
      "/home/yash/notebook/DeepLearningProject-master/posters_final/Alison_Moyet_The_Essential.jpg\n",
      "/home/yash/notebook/DeepLearningProject-master/posters_final/Gloria_Estefan_-_Live_in_Atlantis.jpg\n",
      "/home/yash/notebook/DeepLearningProject-master/posters_final/Incubus_-_The_Morning_View_Sessions.jpg\n",
      "/home/yash/notebook/DeepLearningProject-master/posters_final/The_Business_of_Fancydancing.jpg\n",
      "Working on Image :  1250\n",
      "/home/yash/notebook/DeepLearningProject-master/posters_final/The_Concert_for_New_York_City.jpg\n",
      "/home/yash/notebook/DeepLearningProject-master/posters_final/Hock_Hiap_Leong.jpg\n",
      "/home/yash/notebook/DeepLearningProject-master/posters_final/Satin_Rouge.jpg\n",
      "/home/yash/notebook/DeepLearningProject-master/posters_final/Il_Trovatore.jpg\n",
      "/home/yash/notebook/DeepLearningProject-master/posters_final/Durval_Discos.jpg\n",
      "/home/yash/notebook/DeepLearningProject-master/posters_final/Neil_Peart_-_A_Work_in_Progress.jpg\n",
      "/home/yash/notebook/DeepLearningProject-master/posters_final/Carpenters_Gold.jpg\n",
      "/home/yash/notebook/DeepLearningProject-master/posters_final/American_Pie_2.jpg\n",
      "/home/yash/notebook/DeepLearningProject-master/posters_final/Moulin_Rouge!.jpg\n",
      "/home/yash/notebook/DeepLearningProject-master/posters_final/Forrest_Gump.jpg\n",
      "/home/yash/notebook/DeepLearningProject-master/posters_final/A_Beautiful_Mind.jpg\n",
      "/home/yash/notebook/DeepLearningProject-master/posters_final/Vanilla_Sky.jpg\n",
      "/home/yash/notebook/DeepLearningProject-master/posters_final/Some_Like_It_Hot.jpg\n",
      "/home/yash/notebook/DeepLearningProject-master/posters_final/What_Women_Want.jpg\n",
      "/home/yash/notebook/DeepLearningProject-master/posters_final/Annie_Hall.jpg\n",
      "/home/yash/notebook/DeepLearningProject-master/posters_final/Pearl_Harbor.jpg\n",
      "/home/yash/notebook/DeepLearningProject-master/posters_final/Chocolat.jpg\n",
      "/home/yash/notebook/DeepLearningProject-master/posters_final/Big.jpg\n",
      "/home/yash/notebook/DeepLearningProject-master/posters_final/Meet_the_Parents.jpg\n",
      "/home/yash/notebook/DeepLearningProject-master/posters_final/Nuovo_Cinema_Paradiso.jpg\n",
      "/home/yash/notebook/DeepLearningProject-master/posters_final/The_Princess_Diaries.jpg\n",
      "/home/yash/notebook/DeepLearningProject-master/posters_final/Pay_It_Forward.jpg\n",
      "/home/yash/notebook/DeepLearningProject-master/posters_final/Baise-moi.jpg\n",
      "/home/yash/notebook/DeepLearningProject-master/posters_final/Where_the_Heart_Is.jpg\n",
      "/home/yash/notebook/DeepLearningProject-master/posters_final/Serendipity.jpg\n",
      "/home/yash/notebook/DeepLearningProject-master/posters_final/The_Shipping_News.jpg\n",
      "/home/yash/notebook/DeepLearningProject-master/posters_final/Dr._Dolittle_2.jpg\n",
      "/home/yash/notebook/DeepLearningProject-master/posters_final/A_Room_with_a_View.jpg\n",
      "/home/yash/notebook/DeepLearningProject-master/posters_final/Lolita.jpg\n",
      "/home/yash/notebook/DeepLearningProject-master/posters_final/The_Wedding_Planner.jpg\n",
      "/home/yash/notebook/DeepLearningProject-master/posters_final/Bedazzled.jpg\n",
      "/home/yash/notebook/DeepLearningProject-master/posters_final/O.jpg\n",
      "/home/yash/notebook/DeepLearningProject-master/posters_final/Little_Nicky.jpg\n",
      "/home/yash/notebook/DeepLearningProject-master/posters_final/Angel_Eyes.jpg\n",
      "/home/yash/notebook/DeepLearningProject-master/posters_final/Monella.jpg\n",
      "/home/yash/notebook/DeepLearningProject-master/posters_final/Dr._T_and_the_Women.jpg\n",
      "/home/yash/notebook/DeepLearningProject-master/posters_final/Pollock.jpg\n",
      "/home/yash/notebook/DeepLearningProject-master/posters_final/Lost_and_Delirious.jpg\n",
      "/home/yash/notebook/DeepLearningProject-master/posters_final/The_Family_Man.jpg\n",
      "/home/yash/notebook/DeepLearningProject-master/posters_final/Shallow_Hal.jpg\n",
      "/home/yash/notebook/DeepLearningProject-master/posters_final/Sweet_November.jpg\n",
      "/home/yash/notebook/DeepLearningProject-master/posters_final/Gia.jpg\n",
      "/home/yash/notebook/DeepLearningProject-master/posters_final/White_Christmas.jpg\n",
      "/home/yash/notebook/DeepLearningProject-master/posters_final/Barefoot_in_the_Park.jpg\n",
      "/home/yash/notebook/DeepLearningProject-master/posters_final/La_Chambre_des_Officiers.jpg\n",
      "/home/yash/notebook/DeepLearningProject-master/posters_final/Get_Over_It.jpg\n",
      "/home/yash/notebook/DeepLearningProject-master/posters_final/Heartbreakers.jpg\n",
      "/home/yash/notebook/DeepLearningProject-master/posters_final/Cat_on_a_Hot_Tin_Roof.jpg\n",
      "/home/yash/notebook/DeepLearningProject-master/posters_final/Someone_Like_You....jpg\n",
      "/home/yash/notebook/DeepLearningProject-master/posters_final/Bandits.jpg\n",
      "/home/yash/notebook/DeepLearningProject-master/posters_final/Joe_Dirt.jpg\n",
      "/home/yash/notebook/DeepLearningProject-master/posters_final/Saving_Silverman.jpg\n",
      "/home/yash/notebook/DeepLearningProject-master/posters_final/Enigma.jpg\n",
      "/home/yash/notebook/DeepLearningProject-master/posters_final/The_Age_of_Innocence.jpg\n",
      "/home/yash/notebook/DeepLearningProject-master/posters_final/Hardball.jpg\n",
      "/home/yash/notebook/DeepLearningProject-master/posters_final/Summer_Catch.jpg\n",
      "/home/yash/notebook/DeepLearningProject-master/posters_final/Proof_of_Life.jpg\n",
      "/home/yash/notebook/DeepLearningProject-master/posters_final/The_Man_Who_Cried.jpg\n",
      "/home/yash/notebook/DeepLearningProject-master/posters_final/Boys_and_Girls.jpg\n",
      "/home/yash/notebook/DeepLearningProject-master/posters_final/Intimacy.jpg\n",
      "/home/yash/notebook/DeepLearningProject-master/posters_final/Anna_and_the_King.jpg\n",
      "/home/yash/notebook/DeepLearningProject-master/posters_final/Down_to_Earth.jpg\n",
      "/home/yash/notebook/DeepLearningProject-master/posters_final/The_Majestic.jpg\n",
      "/home/yash/notebook/DeepLearningProject-master/posters_final/The_Curse_of_the_Jade_Scorpion.jpg\n",
      "/home/yash/notebook/DeepLearningProject-master/posters_final/Baby_Boy.jpg\n",
      "/home/yash/notebook/DeepLearningProject-master/posters_final/Save_the_Last_Dance.jpg\n",
      "/home/yash/notebook/DeepLearningProject-master/posters_final/Skipped_Parts.jpg\n",
      "/home/yash/notebook/DeepLearningProject-master/posters_final/La_Pianiste.jpg\n",
      "/home/yash/notebook/DeepLearningProject-master/posters_final/The_Mexican.jpg\n",
      "/home/yash/notebook/DeepLearningProject-master/posters_final/Coyote_Ugly.jpg\n",
      "/home/yash/notebook/DeepLearningProject-master/posters_final/Attila.jpg\n",
      "/home/yash/notebook/DeepLearningProject-master/posters_final/Tomcats.jpg\n",
      "/home/yash/notebook/DeepLearningProject-master/posters_final/Monsoon_Wedding.jpg\n",
      "/home/yash/notebook/DeepLearningProject-master/posters_final/Riding_in_Cars_with_Boys.jpg\n",
      "/home/yash/notebook/DeepLearningProject-master/posters_final/My_Beautiful_Laundrette.jpg\n",
      "/home/yash/notebook/DeepLearningProject-master/posters_final/Inferno.jpg\n",
      "/home/yash/notebook/DeepLearningProject-master/posters_final/Head_Over_Heels.jpg\n",
      "/home/yash/notebook/DeepLearningProject-master/posters_final/Princess_of_Thieves.jpg\n",
      "/home/yash/notebook/DeepLearningProject-master/posters_final/Bubble_Boy.jpg\n",
      "/home/yash/notebook/DeepLearningProject-master/posters_final/Boxing_Helena.jpg\n",
      "/home/yash/notebook/DeepLearningProject-master/posters_final/Iris.jpg\n",
      "/home/yash/notebook/DeepLearningProject-master/posters_final/Toy_Story.jpg\n",
      "/home/yash/notebook/DeepLearningProject-master/posters_final/Toy_Story_2.jpg\n",
      "/home/yash/notebook/DeepLearningProject-master/posters_final/How_the_Grinch_Stole_Christmas.jpg\n",
      "/home/yash/notebook/DeepLearningProject-master/posters_final/The_Iron_Giant.jpg\n",
      "/home/yash/notebook/DeepLearningProject-master/posters_final/The_Little_Mermaid.jpg\n",
      "/home/yash/notebook/DeepLearningProject-master/posters_final/Chicken_Run.jpg\n",
      "/home/yash/notebook/DeepLearningProject-master/posters_final/Mulan.jpg\n",
      "/home/yash/notebook/DeepLearningProject-master/posters_final/Tarzan.jpg\n",
      "/home/yash/notebook/DeepLearningProject-master/posters_final/Galaxy_Quest.jpg\n",
      "/home/yash/notebook/DeepLearningProject-master/posters_final/The_Jungle_Book.jpg\n",
      "/home/yash/notebook/DeepLearningProject-master/posters_final/Lady_and_the_Tramp.jpg\n",
      "/home/yash/notebook/DeepLearningProject-master/posters_final/Around_the_World_in_Eighty_Days.jpg\n",
      "/home/yash/notebook/DeepLearningProject-master/posters_final/Dinosaur.jpg\n",
      "/home/yash/notebook/DeepLearningProject-master/posters_final/An_Extremely_Goofy_Movie.jpg\n",
      "/home/yash/notebook/DeepLearningProject-master/posters_final/October_Sky.jpg\n",
      "/home/yash/notebook/DeepLearningProject-master/posters_final/Titan_A.E..jpg\n",
      "/home/yash/notebook/DeepLearningProject-master/posters_final/The_Road_to_El_Dorado.jpg\n",
      "/home/yash/notebook/DeepLearningProject-master/posters_final/The_Great_Mouse_Detective.jpg\n"
     ]
    },
    {
     "name": "stdout",
     "output_type": "stream",
     "text": [
      "/home/yash/notebook/DeepLearningProject-master/posters_final/Stuart_Little.jpg\n",
      "/home/yash/notebook/DeepLearningProject-master/posters_final/Fantasia_2000.jpg\n",
      "/home/yash/notebook/DeepLearningProject-master/posters_final/The_Kid.jpg\n",
      "/home/yash/notebook/DeepLearningProject-master/posters_final/102_Dalmatians.jpg\n",
      "/home/yash/notebook/DeepLearningProject-master/posters_final/Life-Size.jpg\n",
      "/home/yash/notebook/DeepLearningProject-master/posters_final/The_Tigger_Movie.jpg\n",
      "/home/yash/notebook/DeepLearningProject-master/posters_final/The_Adventures_of_Ichabod_and_Mr._Toad.jpg\n",
      "/home/yash/notebook/DeepLearningProject-master/posters_final/My_Dog_Skip.jpg\n",
      "/home/yash/notebook/DeepLearningProject-master/posters_final/The_Flintstones_in_Viva_Rock_Vegas.jpg\n",
      "/home/yash/notebook/DeepLearningProject-master/posters_final/For_the_Birds.jpg\n",
      "/home/yash/notebook/DeepLearningProject-master/posters_final/Muppets_from_Space.jpg\n",
      "/home/yash/notebook/DeepLearningProject-master/posters_final/Luxo_Jr..jpg\n",
      "/home/yash/notebook/DeepLearningProject-master/posters_final/Switching_Goals.jpg\n",
      "/home/yash/notebook/DeepLearningProject-master/posters_final/The_Little_Vampire.jpg\n",
      "/home/yash/notebook/DeepLearningProject-master/posters_final/The_Muppets_Take_Manhattan.jpg\n",
      "/home/yash/notebook/DeepLearningProject-master/posters_final/Animal_Farm.jpg\n",
      "/home/yash/notebook/DeepLearningProject-master/posters_final/Tower_of_Terror.jpg\n",
      "/home/yash/notebook/DeepLearningProject-master/posters_final/Down_to_You.jpg\n",
      "/home/yash/notebook/DeepLearningProject-master/posters_final/Drive_Me_Crazy.jpg\n",
      "/home/yash/notebook/DeepLearningProject-master/posters_final/Our_Lips_Are_Sealed.jpg\n",
      "/home/yash/notebook/DeepLearningProject-master/posters_final/Bartok_the_Magnificent.jpg\n",
      "/home/yash/notebook/DeepLearningProject-master/posters_final/The_Railway_Children.jpg\n",
      "/home/yash/notebook/DeepLearningProject-master/posters_final/Dudley_Do-Right.jpg\n",
      "/home/yash/notebook/DeepLearningProject-master/posters_final/Snow_Day.jpg\n",
      "/home/yash/notebook/DeepLearningProject-master/posters_final/Scooby-Doo_and_the_Alien_Invaders.jpg\n",
      "/home/yash/notebook/DeepLearningProject-master/posters_final/Arabian_Nights.jpg\n",
      "/home/yash/notebook/DeepLearningProject-master/posters_final/The_Adventures_of_Elmo_in_Grouchland.jpg\n",
      "/home/yash/notebook/DeepLearningProject-master/posters_final/The_Magical_Legend_of_the_Leprechauns.jpg\n",
      "/home/yash/notebook/DeepLearningProject-master/posters_final/Alvin_and_the_Chipmunks_Meet_the_Wolfman.jpg\n",
      "/home/yash/notebook/DeepLearningProject-master/posters_final/The_Ultimate_Christmas_Present.jpg\n",
      "/home/yash/notebook/DeepLearningProject-master/posters_final/The_10th_Kingdom.jpg\n",
      "/home/yash/notebook/DeepLearningProject-master/posters_final/John_Henry.jpg\n",
      "/home/yash/notebook/DeepLearningProject-master/posters_final/Johnny_Tsunami.jpg\n",
      "/home/yash/notebook/DeepLearningProject-master/posters_final/Phantom_of_the_Megaplex.jpg\n",
      "/home/yash/notebook/DeepLearningProject-master/posters_final/Thomas_and_the_Magic_Railroad.jpg\n",
      "/home/yash/notebook/DeepLearningProject-master/posters_final/Rip_Girls.jpg\n",
      "/home/yash/notebook/DeepLearningProject-master/posters_final/Xuxa_Popstar.jpg\n",
      "/home/yash/notebook/DeepLearningProject-master/posters_final/La_leggenda_del_Titanic.jpg\n",
      "/home/yash/notebook/DeepLearningProject-master/posters_final/Angels_in_the_Infield.jpg\n",
      "/home/yash/notebook/DeepLearningProject-master/posters_final/Tom_Sawyer.jpg\n",
      "/home/yash/notebook/DeepLearningProject-master/posters_final/Quints.jpg\n",
      "/home/yash/notebook/DeepLearningProject-master/posters_final/Ice_Angel.jpg\n",
      "/home/yash/notebook/DeepLearningProject-master/posters_final/Ping!.jpg\n",
      "/home/yash/notebook/DeepLearningProject-master/posters_final/A_Christmas_Carol.jpg\n",
      "/home/yash/notebook/DeepLearningProject-master/posters_final/Robbie_the_Reindeer_-_Hooves_of_Fire.jpg\n",
      "/home/yash/notebook/DeepLearningProject-master/posters_final/Jason_and_the_Argonauts.jpg\n",
      "/home/yash/notebook/DeepLearningProject-master/posters_final/The_Simple_Life_Of_Noah_Dearborn.jpg\n",
      "/home/yash/notebook/DeepLearningProject-master/posters_final/Alley_Cats_Strike.jpg\n",
      "/home/yash/notebook/DeepLearningProject-master/posters_final/Geppetto.jpg\n",
      "/home/yash/notebook/DeepLearningProject-master/posters_final/Peter_Pan.jpg\n",
      "/home/yash/notebook/DeepLearningProject-master/posters_final/Das_Boot.jpg\n",
      "/home/yash/notebook/DeepLearningProject-master/posters_final/Soldier.jpg\n",
      "/home/yash/notebook/DeepLearningProject-master/posters_final/The_Thin_Red_Line.jpg\n",
      "/home/yash/notebook/DeepLearningProject-master/posters_final/The_Guns_of_Navarone.jpg\n",
      "/home/yash/notebook/DeepLearningProject-master/posters_final/Joan_of_Arc.jpg\n",
      "/home/yash/notebook/DeepLearningProject-master/posters_final/Doctor_Zhivago.jpg\n",
      "/home/yash/notebook/DeepLearningProject-master/posters_final/Bravo_Two_Zero.jpg\n",
      "/home/yash/notebook/DeepLearningProject-master/posters_final/Tea_with_Mussolini.jpg\n",
      "/home/yash/notebook/DeepLearningProject-master/posters_final/Train_de_vie.jpg\n",
      "/home/yash/notebook/DeepLearningProject-master/posters_final/The_Enemy_Below.jpg\n",
      "/home/yash/notebook/DeepLearningProject-master/posters_final/When_Trumpets_Fade.jpg\n",
      "/home/yash/notebook/DeepLearningProject-master/posters_final/Hangmen_Also_Die!.jpg\n",
      "/home/yash/notebook/DeepLearningProject-master/posters_final/Goya_en_Burdeos.jpg\n",
      "/home/yash/notebook/DeepLearningProject-master/posters_final/Ride_with_the_Devil.jpg\n",
      "/home/yash/notebook/DeepLearningProject-master/posters_final/The_Inn_of_the_Sixth_Happiness.jpg\n",
      "/home/yash/notebook/DeepLearningProject-master/posters_final/Warriors.jpg\n",
      "/home/yash/notebook/DeepLearningProject-master/posters_final/Savior.jpg\n",
      "/home/yash/notebook/DeepLearningProject-master/posters_final/The_Trench.jpg\n",
      "/home/yash/notebook/DeepLearningProject-master/posters_final/Ying_hung_boon_sik_III_jik_yeung_ji_gor.jpg\n",
      "/home/yash/notebook/DeepLearningProject-master/posters_final/Beautiful_People.jpg\n",
      "/home/yash/notebook/DeepLearningProject-master/posters_final/Nebeska_udica.jpg\n",
      "/home/yash/notebook/DeepLearningProject-master/posters_final/The_Hunley.jpg\n",
      "/home/yash/notebook/DeepLearningProject-master/posters_final/Pan_Tadeusz.jpg\n",
      "/home/yash/notebook/DeepLearningProject-master/posters_final/Surface_to_Air.jpg\n",
      "/home/yash/notebook/DeepLearningProject-master/posters_final/La_guerre_dans_le_Haut_Pays.jpg\n",
      "/home/yash/notebook/DeepLearningProject-master/posters_final/Active_Stealth.jpg\n",
      "/home/yash/notebook/DeepLearningProject-master/posters_final/Adwa.jpg\n",
      "/home/yash/notebook/DeepLearningProject-master/posters_final/Through_Dead_Eyes.jpg\n",
      "/home/yash/notebook/DeepLearningProject-master/posters_final/Quand_je_serai_parti..._vous_vivrez_encore.jpg\n",
      "/home/yash/notebook/DeepLearningProject-master/posters_final/Mutiny.jpg\n",
      "/home/yash/notebook/DeepLearningProject-master/posters_final/Gia.jpg\n",
      "/home/yash/notebook/DeepLearningProject-master/posters_final/Rear_Window.jpg\n",
      "/home/yash/notebook/DeepLearningProject-master/posters_final/Addams_Family_Reunion.jpg\n",
      "/home/yash/notebook/DeepLearningProject-master/posters_final/The_Tuskegee_Airmen.jpg\n",
      "/home/yash/notebook/DeepLearningProject-master/posters_final/Sabrina_Goes_to_Rome.jpg\n",
      "/home/yash/notebook/DeepLearningProject-master/posters_final/Brave_New_World.jpg\n",
      "/home/yash/notebook/DeepLearningProject-master/posters_final/The_Rat_Pack.jpg\n",
      "/home/yash/notebook/DeepLearningProject-master/posters_final/No_Laughing_Matter.jpg\n",
      "/home/yash/notebook/DeepLearningProject-master/posters_final/Shot_Through_the_Heart.jpg\n",
      "/home/yash/notebook/DeepLearningProject-master/posters_final/Final_Justice.jpg\n",
      "/home/yash/notebook/DeepLearningProject-master/posters_final/Touch_and_Go.jpg\n",
      "/home/yash/notebook/DeepLearningProject-master/posters_final/Poodle_Springs.jpg\n",
      "/home/yash/notebook/DeepLearningProject-master/posters_final/Always_Outnumbered.jpg\n",
      "/home/yash/notebook/DeepLearningProject-master/posters_final/Far_from_the_Madding_Crowd.jpg\n",
      "/home/yash/notebook/DeepLearningProject-master/posters_final/The_Taking_of_Pelham_One_Two_Three.jpg\n",
      "/home/yash/notebook/DeepLearningProject-master/posters_final/Two_for_Texas.jpg\n",
      "/home/yash/notebook/DeepLearningProject-master/posters_final/Dying_to_Belong.jpg\n",
      "/home/yash/notebook/DeepLearningProject-master/posters_final/Krambambuli.jpg\n",
      "/home/yash/notebook/DeepLearningProject-master/posters_final/Wuthering_Heights.jpg\n",
      "/home/yash/notebook/DeepLearningProject-master/posters_final/Atomic_Dog.jpg\n",
      "/home/yash/notebook/DeepLearningProject-master/posters_final/Gargantua.jpg\n"
     ]
    },
    {
     "name": "stdout",
     "output_type": "stream",
     "text": [
      "/home/yash/notebook/DeepLearningProject-master/posters_final/Perfect_Prey.jpg\n",
      "/home/yash/notebook/DeepLearningProject-master/posters_final/Diamond_Girl.jpg\n",
      "/home/yash/notebook/DeepLearningProject-master/posters_final/Broken_Lullaby.jpg\n",
      "/home/yash/notebook/DeepLearningProject-master/posters_final/Witness_to_the_Mob.jpg\n",
      "/home/yash/notebook/DeepLearningProject-master/posters_final/This_Matter_of_Marriage.jpg\n",
      "/home/yash/notebook/DeepLearningProject-master/posters_final/David_and_Lisa.jpg\n",
      "/home/yash/notebook/DeepLearningProject-master/posters_final/Dream_House.jpg\n",
      "/home/yash/notebook/DeepLearningProject-master/posters_final/The_Lost_World.jpg\n",
      "/home/yash/notebook/DeepLearningProject-master/posters_final/Fall_Into_Darkness.jpg\n",
      "/home/yash/notebook/DeepLearningProject-master/posters_final/Exiled.jpg\n",
      "/home/yash/notebook/DeepLearningProject-master/posters_final/Weep_No_More,_My_Lady.jpg\n",
      "/home/yash/notebook/DeepLearningProject-master/posters_final/Evidence_of_Blood.jpg\n",
      "/home/yash/notebook/DeepLearningProject-master/posters_final/4444444444.jpg\n",
      "/home/yash/notebook/DeepLearningProject-master/posters_final/I_Married_a_Monster.jpg\n",
      "/home/yash/notebook/DeepLearningProject-master/posters_final/Winchell.jpg\n",
      "/home/yash/notebook/DeepLearningProject-master/posters_final/Twists_of_Terror.jpg\n",
      "/home/yash/notebook/DeepLearningProject-master/posters_final/My_Summer_With_Des.jpg\n",
      "/home/yash/notebook/DeepLearningProject-master/posters_final/Someone_to_Love_Me.jpg\n",
      "/home/yash/notebook/DeepLearningProject-master/posters_final/Amiche_davvero!!.jpg\n",
      "/home/yash/notebook/DeepLearningProject-master/posters_final/Exercise_of_Steel.jpg\n",
      "/home/yash/notebook/DeepLearningProject-master/posters_final/Babymother.jpg\n",
      "/home/yash/notebook/DeepLearningProject-master/posters_final/Gangster_World.jpg\n",
      "/home/yash/notebook/DeepLearningProject-master/posters_final/Barney_in_Outer_Space.jpg\n",
      "/home/yash/notebook/DeepLearningProject-master/posters_final/Der_Todesbus.jpg\n",
      "/home/yash/notebook/DeepLearningProject-master/posters_final/Go_Now.jpg\n",
      "/home/yash/notebook/DeepLearningProject-master/posters_final/Liian_paksu_perhoseksi.jpg\n",
      "/home/yash/notebook/DeepLearningProject-master/posters_final/Hard_to_Forget.jpg\n",
      "/home/yash/notebook/DeepLearningProject-master/posters_final/Abgehauen.jpg\n",
      "/home/yash/notebook/DeepLearningProject-master/posters_final/Silberdisteln.jpg\n",
      "/home/yash/notebook/DeepLearningProject-master/posters_final/The_Echo_of_Thunder.jpg\n",
      "/home/yash/notebook/DeepLearningProject-master/posters_final/Captive.jpg\n",
      "/home/yash/notebook/DeepLearningProject-master/posters_final/I_guardiani_del_cielo.jpg\n",
      "/home/yash/notebook/DeepLearningProject-master/posters_final/Alien_Avengers_II.jpg\n",
      "/home/yash/notebook/DeepLearningProject-master/posters_final/In_the_Doghouse.jpg\n",
      "/home/yash/notebook/DeepLearningProject-master/posters_final/Pumpkin_Man.jpg\n",
      "/home/yash/notebook/DeepLearningProject-master/posters_final/Farewell_to_the_Planet_of_the_Apes.jpg\n",
      "/home/yash/notebook/DeepLearningProject-master/posters_final/The_Spree.jpg\n",
      "/home/yash/notebook/DeepLearningProject-master/posters_final/Thunder_Point.jpg\n",
      "/home/yash/notebook/DeepLearningProject-master/posters_final/Carriers.jpg\n",
      "/home/yash/notebook/DeepLearningProject-master/posters_final/Une_voix_en_or.jpg\n",
      "Done with all features, please pickle for future use!\n"
     ]
    }
   ],
   "source": [
    "# from IPython.display import display\n",
    "# from PIL import Image\n",
    "# poster_folder='/home/yash/notebook/DeepLearningProject-master/posters_final/'\n",
    "# allnames=os.listdir(poster_folder)\n",
    "# imnames=[j for j in allnames if j.endswith('.jpg')]\n",
    "# feature_list=[]\n",
    "# genre_list=[]\n",
    "# file_order=[]\n",
    "# print \"Starting extracting VGG features for scraped images. This will take time, Please be patient...\"\n",
    "# print \"Total images = \",len(imnames)\n",
    "# failed_files=[]\n",
    "# succesful_files=[]\n",
    "# i=0\n",
    "# print len(poster_movies)\n",
    "# for mov in poster_movies:\n",
    "#     i+=1\n",
    "#     mov_name=mov['original_title']\n",
    "#     mov_name1=mov_name.replace(':','/')\n",
    "#     poster_name=mov_name.replace(' ','_')+'.jpg'\n",
    "#     if poster_name in imnames:\n",
    "#         img_path=poster_folder+poster_name\n",
    "#         print img_path\n",
    "#         #try:\n",
    "#         img = image.load_img(img_path, target_size=(224, 224))\n",
    "#         succesful_files.append(img_path)\n",
    "#         x = image.img_to_array(img)\n",
    "#         x = np.expand_dims(x, axis=0)\n",
    "#         x = preprocess_input(x)\n",
    "#         features = model.predict(x)\n",
    "#         file_order.append(img_path)\n",
    "#         feature_list.append(features)\n",
    "#         genre_list.append(mov['genre_ids'])\n",
    "#         if np.max(np.asarray(feature_list))==0.0:\n",
    "#             print('problematic',i)\n",
    "#         if i%250==0 or i==1:\n",
    "#             print \"Working on Image : \",i\n",
    "#         #except:\n",
    "#            # failed_files.append(img_path)\n",
    "#            # continue\n",
    "        \n",
    "#     else:\n",
    "#         continue\n",
    "# print \"Done with all features, please pickle for future use!\""
   ]
  },
  {
   "cell_type": "code",
   "execution_count": 76,
   "metadata": {},
   "outputs": [
    {
     "data": {
      "text/plain": [
       "1189"
      ]
     },
     "execution_count": 76,
     "metadata": {},
     "output_type": "execute_result"
    }
   ],
   "source": [
    "# len(genre_list)"
   ]
  },
  {
   "cell_type": "code",
   "execution_count": 77,
   "metadata": {},
   "outputs": [
    {
     "data": {
      "text/plain": [
       "1189"
      ]
     },
     "execution_count": 77,
     "metadata": {},
     "output_type": "execute_result"
    }
   ],
   "source": [
    "# len(feature_list)"
   ]
  },
  {
   "cell_type": "code",
   "execution_count": null,
   "metadata": {},
   "outputs": [],
   "source": []
  },
  {
   "cell_type": "code",
   "execution_count": 78,
   "metadata": {},
   "outputs": [
    {
     "name": "stdout",
     "output_type": "stream",
     "text": [
      "Features dumped to pickle file\n"
     ]
    }
   ],
   "source": [
    "# Reading from pickle below, this code is not to be run.\n",
    "# list_pickled=(feature_list,file_order,failed_files,succesful_files,genre_list)\n",
    "# f=open('posters_new_features.pckl','wb')\n",
    "# pickle.dump(list_pickled,f)\n",
    "# f.close()\n",
    "# print(\"Features dumped to pickle file\")"
   ]
  },
  {
   "cell_type": "code",
   "execution_count": 79,
   "metadata": {},
   "outputs": [],
   "source": [
    "f7=open('posters_new_features.pckl','rb')\n",
    "list_pickled=pickle.load(f7)\n",
    "f7.close()\n",
    "# (feature_list2,file_order2)=list_pickled"
   ]
  },
  {
   "cell_type": "markdown",
   "metadata": {},
   "source": [
    "### Training a simple neural network model using these VGG features."
   ]
  },
  {
   "cell_type": "code",
   "execution_count": 80,
   "metadata": {},
   "outputs": [],
   "source": [
    "(feature_list,files,failed,succesful,genre_list)=list_pickled"
   ]
  },
  {
   "cell_type": "markdown",
   "metadata": {},
   "source": [
    "Let's first get the labels on our 1342 samples first! As image download fails on a few instances, the best way to work with the right model is to read the poster names downloaded, and working from there. These posters cannot be uploaded to Github as they are too large, and so are being downloaded and read from my local computer. If you do re-do it, you might have to check and edit the paths in the code to make sure it runs."
   ]
  },
  {
   "cell_type": "code",
   "execution_count": 83,
   "metadata": {},
   "outputs": [],
   "source": [
    "len(feature_list)\n",
    "(a,b,c,d)=feature_list[0].shape\n",
    "feature_size=a*b*c*d"
   ]
  },
  {
   "cell_type": "markdown",
   "metadata": {},
   "source": [
    "This looks odd, why are we re-running the loop we ran above again below? The reason is simple, the most important thing to know about numpy is that using vstack() and hstack() are highly sub-optimal. Numpy arrays when created, a fixed size is allocated in the memory and when we stack, a new one is copied and created in a new location. This makes the code really, really slow. The best way to do it (and this remains the same with MATLAB matrices if you work with them), is to create a numpy array of zeros, and over-write it row by row. The above code was just to see what size numpy array we will need!"
   ]
  },
  {
   "cell_type": "markdown",
   "metadata": {},
   "source": [
    "The final movie poster set for which we have all the information we need, is 1265 movies. In the above code we are making an X numpy array containing the visual features of one image per row. So, the VGG features are reshaped to be in the shape (1,25088) and we finally obtain a matrix of shape (1265,25088)"
   ]
  },
  {
   "cell_type": "code",
   "execution_count": 84,
   "metadata": {},
   "outputs": [],
   "source": [
    "np_features=np.zeros((len(feature_list),feature_size))\n",
    "for i in range(len(feature_list)):\n",
    "    feat=feature_list[i]\n",
    "    reshaped_feat=feat.reshape(1,-1)\n",
    "    np_features[i]=reshaped_feat"
   ]
  },
  {
   "cell_type": "code",
   "execution_count": null,
   "metadata": {},
   "outputs": [],
   "source": [
    "# np_features[-1]"
   ]
  },
  {
   "cell_type": "code",
   "execution_count": 85,
   "metadata": {},
   "outputs": [],
   "source": [
    "X=np_features"
   ]
  },
  {
   "cell_type": "code",
   "execution_count": 86,
   "metadata": {},
   "outputs": [],
   "source": [
    "from sklearn.preprocessing import MultiLabelBinarizer\n",
    "mlb=MultiLabelBinarizer()\n",
    "Y=mlb.fit_transform(genre_list)"
   ]
  },
  {
   "cell_type": "code",
   "execution_count": 87,
   "metadata": {},
   "outputs": [
    {
     "data": {
      "text/plain": [
       "(1189, 20)"
      ]
     },
     "execution_count": 87,
     "metadata": {},
     "output_type": "execute_result"
    }
   ],
   "source": [
    "Y.shape"
   ]
  },
  {
   "cell_type": "markdown",
   "metadata": {},
   "source": [
    "Our binarized Y numpy array contains the binarized labels corresponding to the genre IDs of the 1277 movies"
   ]
  },
  {
   "cell_type": "code",
   "execution_count": 88,
   "metadata": {},
   "outputs": [],
   "source": [
    "visual_problem_data=(X,Y)\n",
    "f8=open('visual_problem_data_clean.pckl','wb')\n",
    "pickle.dump(visual_problem_data,f8)\n",
    "f8.close()"
   ]
  },
  {
   "cell_type": "code",
   "execution_count": 89,
   "metadata": {},
   "outputs": [],
   "source": [
    "f8=open('visual_problem_data_clean.pckl','rb')\n",
    "visual_features=pickle.load(f8)\n",
    "f8.close()"
   ]
  },
  {
   "cell_type": "code",
   "execution_count": 90,
   "metadata": {},
   "outputs": [],
   "source": [
    "(X,Y)=visual_features"
   ]
  },
  {
   "cell_type": "code",
   "execution_count": 91,
   "metadata": {},
   "outputs": [
    {
     "data": {
      "text/plain": [
       "(1189, 25088)"
      ]
     },
     "execution_count": 91,
     "metadata": {},
     "output_type": "execute_result"
    }
   ],
   "source": [
    "X.shape"
   ]
  },
  {
   "cell_type": "code",
   "execution_count": 92,
   "metadata": {},
   "outputs": [],
   "source": [
    "mask = np.random.rand(len(X)) < 0.8"
   ]
  },
  {
   "cell_type": "code",
   "execution_count": 93,
   "metadata": {},
   "outputs": [],
   "source": [
    "X_train=X[mask]\n",
    "X_test=X[~mask]\n",
    "Y_train=Y[mask]\n",
    "Y_test=Y[~mask]"
   ]
  },
  {
   "cell_type": "code",
   "execution_count": 94,
   "metadata": {},
   "outputs": [
    {
     "data": {
      "text/plain": [
       "(216, 25088)"
      ]
     },
     "execution_count": 94,
     "metadata": {},
     "output_type": "execute_result"
    }
   ],
   "source": [
    "X_test.shape"
   ]
  },
  {
   "cell_type": "markdown",
   "metadata": {},
   "source": [
    "Now, we create our own keras neural network to use the VGG features and then classify movie genres. Keras makes this super easy. \n",
    "\n",
    "Neural network architectures have gotten complex over the years. But the simplest ones contain very standard computations organized in layers, as described above. Given the popularity of some of these, Keras makes it as easy as writing out the names of these operations in a sequential order. This way you can make a network while completely avoiding the Mathematics (HIGHLY RECOMMENDED SPENDING MORE TIME ON THE MATH THOUGH)"
   ]
  },
  {
   "cell_type": "markdown",
   "metadata": {},
   "source": [
    "Sequential() allows us to make models the follow this sequential order of layers. Different kinds of layers like Dense, Conv2D etc can be used, and many activation functions like RELU, Linear etc are also available."
   ]
  },
  {
   "cell_type": "markdown",
   "metadata": {},
   "source": [
    "# Important Question : Why do we need activation functions?\n",
    "#### Copy pasting the answer I wrote for this question on <a href='https://www.quora.com/Why-do-neural-networks-need-an-activation-function/answer/Spandan-Madan?srid=5ydm'>Quora</a> Feel free to leave comments there.\n",
    "\n",
    "\"\"Sometimes, we tend to get lost in the jargon and confuse things easily, so the best way to go about this is getting back to our basics.\n",
    "\n",
    "Don’t forget what the original premise of machine learning (and thus deep learning) is - IF the input and output are related by a function y=f(x), then if we have x, there is no way to exactly know f unless we know the process itself. However, machine learning gives you the ability to approximate f with a function g, and the process of trying out multiple candidates to identify the function g best approximating f is called machine learning.\n",
    "\n",
    "Ok, that was machine learning, and how is deep learning different? Deep learning simply tries to expand the possible kind of functions that can be approximated using the above mentioned machine learning paradigm. Roughly speaking, if the previous model could learn say 10,000 kinds of functions, now it will be able to learn say 100,000 kinds (in actuality both are infinite spaces but one is larger than the other, because maths is cool that ways.)\n",
    "\n",
    "If you want to know the mathematics of it, go read about VC dimension and how more layers in a network affect it. But I will avoid the mathematics here and rely on your intuition to believe me when I say that not all data can be classified correctly into categories using a linear function. So, we need our deep learning model to be able to approximate more complex functions than just a linear function.\n",
    "\n",
    "Now, let’s come to your non linearity bit. Imagine a linear function y=2x+3, and another one y=4x+7. What happens if I pool them and take an average? I get another linear function y= 3x+5. So instead of doing those two computations separately and then averaging it out, I could have just used the single linear function y=3x+5. Obviously, this logic holds good if I have more than 2 such linear functions. This is exactly what will happen if you don’t have have non-linearities in your nodes, and also what others have written in their answers.\n",
    "\n",
    "It simply follows from the definition of a linear function -\n",
    "\n",
    "(i) If you take two linear functions, AND\n",
    "\n",
    "(ii)Take a linear combination of them (which is how we combine the outputs of multiple nodes of a network)\n",
    "\n",
    "You are BOUND to get a linear function because f(x)+g(x)=mx+b+nx+c=(m+n)x+(b+c)= say h(x).\n",
    "\n",
    "And you could in essence replace your whole network by a simple matrix transformation which accounts for all linear combinations and up/downsamplings.\n",
    "\n",
    "In a nutshell, you’ll only be trying to learn a linear approximation for original function f relating the input and the output. Which as we discussed above, is not always the best approximation. Adding non-linearities ensures that you can learn more complex functions by approximating every non-linear function as a LINEAR combination of a large number of non-linear functions.\n",
    "\n",
    "Still new to the field, so if there’s something wrong here please comment below! Hope it helps\"\""
   ]
  },
  {
   "cell_type": "markdown",
   "metadata": {},
   "source": [
    "#### Let's train our model then, using the features we extracted from VGG net \n",
    "\n",
    "The model we will use has just 1 hidden layer between the VGG features and the final output layer. The simplest neural network you can get. An image goes into this network with the dimensions (1,25088), the first layer's output is 1024 dimensional. This hidden layer output undergoes a pointwise RELU activation. This output gets transformed into the output layer of 20 dimensions. It goes through a sigmoid.\n",
    "\n",
    "The sigmoid, or the squashing function as it is often called, is a function which squashes numbers between 0 and 1. What are you reminded of when you think of numebers between 0 and 1? Right, probability. \n",
    "\n",
    "By squashing the score of each of the 20 output labels between 0 and 1, sigmoid lets us interpret their scores as probabilities. Then, we can just pick the classes with the top 3 or 5 probability scores as the predicted genres for the movie poster! Simple! "
   ]
  },
  {
   "cell_type": "code",
   "execution_count": null,
   "metadata": {},
   "outputs": [],
   "source": [
    "# Y_train[115]"
   ]
  },
  {
   "cell_type": "code",
   "execution_count": 95,
   "metadata": {},
   "outputs": [],
   "source": [
    "from keras.models import Sequential\n",
    "from keras.layers import Dense, Activation\n",
    "from keras import optimizers\n",
    "model_visual = Sequential([\n",
    "    Dense(1024, input_shape=(25088,)),\n",
    "    Activation('relu'),\n",
    "    Dense(256),\n",
    "    Activation('relu'),\n",
    "    Dense(20),\n",
    "    Activation('sigmoid'),\n",
    "])\n",
    "opt = optimizers.rmsprop(lr=0.0001, decay=1e-6)\n",
    "\n",
    "#sgd = optimizers.SGD(lr=0.05, decay=1e-6, momentum=0.4, nesterov=False)\n",
    "model_visual.compile(optimizer=opt,\n",
    "              loss='binary_crossentropy',\n",
    "              metrics=['accuracy'])"
   ]
  },
  {
   "cell_type": "markdown",
   "metadata": {},
   "source": [
    "We train the model using the fit() function. The parameters it takes are - training features and training labels, epochs, batch_size and verbose. \n",
    "\n",
    "Simplest one - verbose. 0=\"dont print anything as you work\", 1=\"Inform me as you go\". \n",
    "\n",
    "Often the data set is too large to be loaded into the RAM. So, we load data in batches. For batch_size=32 and epochs=10, the model starts loading rows from X in batches of 32 everytime it calculates the loss and updates the model. It keeps on going till it has covered all the samples 10 times. \n",
    "\n",
    "So, the no. of times model is updated = (Total Samples/Batch Size) * (Epochs)"
   ]
  },
  {
   "cell_type": "code",
   "execution_count": 96,
   "metadata": {},
   "outputs": [
    {
     "name": "stdout",
     "output_type": "stream",
     "text": [
      "WARNING:tensorflow:Variable *= will be deprecated. Use variable.assign_mul if you want assignment to the variable value or 'x = x * y' if you want a new python Tensor object.\n",
      "Epoch 1/10\n",
      "973/973 [==============================] - 3s 3ms/step - loss: 2.1773 - acc: 0.8036\n",
      "Epoch 2/10\n",
      "973/973 [==============================] - 1s 751us/step - loss: 1.1509 - acc: 0.8811\n",
      "Epoch 3/10\n",
      "973/973 [==============================] - 1s 750us/step - loss: 0.6256 - acc: 0.9369\n",
      "Epoch 4/10\n",
      "973/973 [==============================] - 1s 749us/step - loss: 0.4074 - acc: 0.9596\n",
      "Epoch 5/10\n",
      "973/973 [==============================] - 1s 744us/step - loss: 0.3071 - acc: 0.9709\n",
      "Epoch 6/10\n",
      "973/973 [==============================] - 1s 749us/step - loss: 0.2588 - acc: 0.9780\n",
      "Epoch 7/10\n",
      "973/973 [==============================] - 1s 745us/step - loss: 0.2404 - acc: 0.9801\n",
      "Epoch 8/10\n",
      "973/973 [==============================] - 1s 745us/step - loss: 0.2162 - acc: 0.9835\n",
      "Epoch 9/10\n",
      "973/973 [==============================] - 1s 743us/step - loss: 0.2236 - acc: 0.9813\n",
      "Epoch 10/10\n",
      "973/973 [==============================] - 1s 739us/step - loss: 0.2031 - acc: 0.9839\n"
     ]
    },
    {
     "data": {
      "text/plain": [
       "<keras.callbacks.History at 0x7f5db68660d0>"
      ]
     },
     "execution_count": 96,
     "metadata": {},
     "output_type": "execute_result"
    }
   ],
   "source": [
    "model_visual.fit(X_train, Y_train, epochs=10, batch_size=64,verbose=1)"
   ]
  },
  {
   "cell_type": "code",
   "execution_count": 97,
   "metadata": {},
   "outputs": [
    {
     "data": {
      "text/plain": [
       "<keras.callbacks.History at 0x7f5db6724210>"
      ]
     },
     "execution_count": 97,
     "metadata": {},
     "output_type": "execute_result"
    }
   ],
   "source": [
    "model_visual.fit(X_train, Y_train, epochs=50, batch_size=64,verbose=0)"
   ]
  },
  {
   "cell_type": "markdown",
   "metadata": {},
   "source": [
    "For the first 10 epochs I trained the model in a verbose fashion to show you what's happening. After that, in the below cell you can see I turned off the verbosity to keep the code cleaner. "
   ]
  },
  {
   "cell_type": "code",
   "execution_count": 98,
   "metadata": {},
   "outputs": [],
   "source": [
    "Y_preds=model_visual.predict(X_test)"
   ]
  },
  {
   "cell_type": "code",
   "execution_count": 99,
   "metadata": {},
   "outputs": [
    {
     "data": {
      "text/plain": [
       "337.6907259314803"
      ]
     },
     "execution_count": 99,
     "metadata": {},
     "output_type": "execute_result"
    }
   ],
   "source": [
    "sum(sum(Y_preds))"
   ]
  },
  {
   "cell_type": "markdown",
   "metadata": {},
   "source": [
    "### Let's look at some of our predictions? "
   ]
  },
  {
   "cell_type": "code",
   "execution_count": 100,
   "metadata": {},
   "outputs": [],
   "source": [
    "f6=open('Genredict.pckl','rb')\n",
    "Genre_ID_to_name=pickle.load(f6)\n",
    "f6.close()"
   ]
  },
  {
   "cell_type": "code",
   "execution_count": 101,
   "metadata": {},
   "outputs": [
    {
     "data": {
      "text/plain": [
       "0.3652015856612868"
      ]
     },
     "execution_count": 101,
     "metadata": {},
     "output_type": "execute_result"
    }
   ],
   "source": [
    "sum(Y_preds[1])"
   ]
  },
  {
   "cell_type": "code",
   "execution_count": 102,
   "metadata": {},
   "outputs": [
    {
     "data": {
      "text/plain": [
       "3.000000351547067"
      ]
     },
     "execution_count": 102,
     "metadata": {},
     "output_type": "execute_result"
    }
   ],
   "source": [
    "sum(Y_preds[2])"
   ]
  },
  {
   "cell_type": "code",
   "execution_count": 103,
   "metadata": {},
   "outputs": [],
   "source": [
    "genre_list=sorted(list(Genre_ID_to_name.keys()))"
   ]
  },
  {
   "cell_type": "code",
   "execution_count": 104,
   "metadata": {},
   "outputs": [
    {
     "name": "stdout",
     "output_type": "stream",
     "text": [
      "Predicted:  Family,Action,Adventure  Actual:  Adventure,Action,Comedy,Thriller,Crime,Mystery\n",
      "Predicted:  Mystery,Thriller,Drama  Actual:  Drama,Thriller,Crime\n",
      "Predicted:  Drama,Crime,Comedy  Actual:  Comedy,Family\n",
      "Predicted:  Romance,Thriller,Drama  Actual:  Action,Comedy,Science Fiction\n",
      "Predicted:  Romance,Drama,Thriller  Actual:  Drama,Romance,War\n"
     ]
    }
   ],
   "source": [
    "precs=[]\n",
    "recs=[]\n",
    "for i in range(len(Y_preds)):\n",
    "    row=Y_preds[i]\n",
    "    gt_genres=Y_test[i]\n",
    "    gt_genre_names=[]\n",
    "    for j in range(20):\n",
    "        if gt_genres[j]==1:\n",
    "            gt_genre_names.append(Genre_ID_to_name[genre_list[j]])\n",
    "    top_3=np.argsort(row)[-3:]\n",
    "    predicted_genres=[]\n",
    "    for genre in top_3:\n",
    "        predicted_genres.append(Genre_ID_to_name[genre_list[genre]])\n",
    "    (precision,recall)=precision_recall(gt_genre_names,predicted_genres)\n",
    "    precs.append(precision)\n",
    "    recs.append(recall)\n",
    "    if i%50==0:\n",
    "        print \"Predicted: \",','.join(predicted_genres),\" Actual: \",','.join(gt_genre_names)"
   ]
  },
  {
   "cell_type": "code",
   "execution_count": 105,
   "metadata": {},
   "outputs": [
    {
     "name": "stdout",
     "output_type": "stream",
     "text": [
      "0.4506172839506173 0.44645061728395063\n"
     ]
    }
   ],
   "source": [
    "print np.mean(np.asarray(precs)),np.mean(np.asarray(recs))"
   ]
  },
  {
   "cell_type": "markdown",
   "metadata": {},
   "source": [
    "So, even with just the poster i.e. visual features we are able to make great predictions! Sure, text outperforms the visual features, but the important thing is that it still work. In more complicated models, we can combine the two to make even better predictions. That is precisely what I work on in my research."
   ]
  },
  {
   "cell_type": "markdown",
   "metadata": {},
   "source": [
    "These models were trained on CPU's, and a simple 1 layer model was used to show that there is a lot of information in this data that the models can extract. With a larger dataset, and more training I was able to bring these numbers to as high as 70%, which is the similar to textual features. Some teams in my class outperformed this even more. More data is the first thing you should try if you want better results. Then, you can start playing with training on GPUs, learning rate schedules and other hyperparameters. Finally, you can consider using ResNet, a much more powerful neural network model than VGG. All of these can be tried once you have a working knowledge of machine learning."
   ]
  },
  {
   "cell_type": "markdown",
   "metadata": {},
   "source": [
    "# Section 8 - Deep Learning to get Textual Features"
   ]
  },
  {
   "cell_type": "markdown",
   "metadata": {},
   "source": [
    "Let's do the same thing as above with text now?"
   ]
  },
  {
   "cell_type": "markdown",
   "metadata": {},
   "source": [
    "We will use an off the shelf representation for words - Word2Vec model. Just like VGGnet before, this is a model made available to get a meaningful representation. As the total number of words is small, we don't even need to forward propagate our sample through a network. Even that has been done for us, and the result is stored in the form of a dictionary. We can simply look up the word in the dictionary and get the Word2Vec features for the word."
   ]
  },
  {
   "cell_type": "markdown",
   "metadata": {},
   "source": [
    "You can download the dictionary from here - https://drive.google.com/file/d/0B7XkCwpI5KDYNlNUTTlSS21pQmM/edit <br>\n",
    "Download it to the directory of this tutorial i.e. in the same folder as this ipython notebook.\n"
   ]
  },
  {
   "cell_type": "code",
   "execution_count": 106,
   "metadata": {},
   "outputs": [],
   "source": [
    "from gensim import models\n",
    "# model2 = models.Word2Vec.load_word2vec_format('GoogleNews-vectors-negative300.bin', binary=True) \n",
    "model2 = models.KeyedVectors.load_word2vec_format('/home/yash/GoogleNews-vectors-negative300.bin', binary=True)"
   ]
  },
  {
   "cell_type": "markdown",
   "metadata": {},
   "source": [
    "Now, we can simply look up for a word in the above loaded model. For example, to get the Word2Vec representation of the word \"King\" we just do - model2['king']"
   ]
  },
  {
   "cell_type": "code",
   "execution_count": 107,
   "metadata": {},
   "outputs": [
    {
     "name": "stdout",
     "output_type": "stream",
     "text": [
      "(300,)\n",
      "(300,)\n"
     ]
    }
   ],
   "source": [
    "print model2['king'].shape\n",
    "print model2['dog'].shape"
   ]
  },
  {
   "cell_type": "markdown",
   "metadata": {},
   "source": [
    "This way, we can represent the words in our overviews using this word2vec model. And then, we can use that as our X representations. So, instead of count of words, we are using a representation which is based on the semantic representation of the word. Mathematically, each word went from 3-4 dimensional (the length) to 300 dimensions!"
   ]
  },
  {
   "cell_type": "markdown",
   "metadata": {
    "collapsed": true
   },
   "source": [
    "For the same set of movies above, let's try and predict the genres from the deep representation of their overviews!"
   ]
  },
  {
   "cell_type": "code",
   "execution_count": 120,
   "metadata": {},
   "outputs": [],
   "source": [
    "final_movies_set=movies_with_overviews"
   ]
  },
  {
   "cell_type": "code",
   "execution_count": 121,
   "metadata": {},
   "outputs": [],
   "source": [
    "from nltk.tokenize import RegexpTokenizer\n",
    "from stop_words import get_stop_words\n",
    "tokenizer = RegexpTokenizer(r'\\w+')\n",
    "\n",
    "# create English stop words list\n",
    "en_stop = get_stop_words('en')"
   ]
  },
  {
   "cell_type": "code",
   "execution_count": 122,
   "metadata": {},
   "outputs": [
    {
     "data": {
      "text/plain": [
       "(1680, 300)"
      ]
     },
     "execution_count": 122,
     "metadata": {},
     "output_type": "execute_result"
    }
   ],
   "source": [
    "movie_mean_wordvec=np.zeros((len(final_movies_set),300))\n",
    "movie_mean_wordvec.shape"
   ]
  },
  {
   "cell_type": "markdown",
   "metadata": {},
   "source": [
    "Text needs some pre-processing before we can train the model. The only preprocessing we do here is - we delete commonly occurring words which we know are not informative about the genre. Think of it as the clutter in some sense. These words are often removed and are referred to as \"stop words\". You can look them up online. These include simple words like \"a\", \"and\", \"but\", \"how\", \"or\" and so on. They can be easily removed using the python package NLTK.\n",
    "\n",
    "From the above dataset, movies with overviews which contain only stop words, or movies with overviews containing no words with word2vec representation are neglected. Others are used to build our Mean word2vec representation. Simply, put for every movie overview - \n",
    "\n",
    "* Take movie overview\n",
    "* Throw out stop words\n",
    "* For non stop words:\n",
    "    - If in word2vec - take it's word2vec representation which is 300 dimensional\n",
    "    - If not - throw word\n",
    "* For each movie, calculate the arithmetic mean of the 300 dimensional vector representations for all words in the overview which weren't thrown out\n",
    "\n",
    "This mean becomes the 300 dimensional representation for the movie. For all movies, these are stored in a numpy array. So the X matrix becomes (1263,300). And, Y is (1263,20) i.e. binarized 20 genres, as before"
   ]
  },
  {
   "cell_type": "markdown",
   "metadata": {},
   "source": [
    "**Why do we take the arithmetic mean?**\n",
    "If you feel that we should have kept all the words separately - Then you're thinking correct, but sadly we're limited by the way current day neural networks work. I will not mull over this for the fear of stressing too much on an otherwise irrelevant detail. But if you're interested, read this awesome paper - \n",
    "https://jiajunwu.com/papers/dmil_cvpr.pdf"
   ]
  },
  {
   "cell_type": "code",
   "execution_count": 123,
   "metadata": {},
   "outputs": [],
   "source": [
    "genres=[]\n",
    "rows_to_delete=[]\n",
    "for i in range(len(final_movies_set)):\n",
    "    mov=final_movies_set[i]\n",
    "    movie_genres=mov['genre_ids']\n",
    "    genres.append(movie_genres)\n",
    "    overview=mov['overview']\n",
    "    tokens = tokenizer.tokenize(overview)\n",
    "    stopped_tokens = [k for k in tokens if not k in en_stop]\n",
    "    count_in_vocab=0\n",
    "    s=0\n",
    "    if len(stopped_tokens)==0:\n",
    "        rows_to_delete.append(i)\n",
    "        genres.pop(-1)\n",
    "#         print overview\n",
    "#         print \"sample \",i,\"had no nonstops\"\n",
    "    else:\n",
    "        for tok in stopped_tokens:\n",
    "            if tok.lower() in model2.vocab:\n",
    "                count_in_vocab+=1\n",
    "                s+=model2[tok.lower()]\n",
    "        if count_in_vocab!=0:\n",
    "            movie_mean_wordvec[i]=s/float(count_in_vocab)\n",
    "        else:\n",
    "            rows_to_delete.append(i)\n",
    "            genres.pop(-1)\n",
    "#             print overview\n",
    "#             print \"sample \",i,\"had no word2vec\""
   ]
  },
  {
   "cell_type": "code",
   "execution_count": 124,
   "metadata": {},
   "outputs": [
    {
     "data": {
      "text/plain": [
       "1680"
      ]
     },
     "execution_count": 124,
     "metadata": {},
     "output_type": "execute_result"
    }
   ],
   "source": [
    "len(genres)"
   ]
  },
  {
   "cell_type": "code",
   "execution_count": null,
   "metadata": {},
   "outputs": [],
   "source": []
  },
  {
   "cell_type": "code",
   "execution_count": 125,
   "metadata": {},
   "outputs": [],
   "source": [
    "mask2=[]\n",
    "for row in range(len(movie_mean_wordvec)):\n",
    "    if row in rows_to_delete:\n",
    "        mask2.append(False)\n",
    "    else:\n",
    "        mask2.append(True)"
   ]
  },
  {
   "cell_type": "code",
   "execution_count": 126,
   "metadata": {},
   "outputs": [],
   "source": [
    "X=movie_mean_wordvec[mask2]"
   ]
  },
  {
   "cell_type": "code",
   "execution_count": 127,
   "metadata": {},
   "outputs": [
    {
     "data": {
      "text/plain": [
       "(1680, 300)"
      ]
     },
     "execution_count": 127,
     "metadata": {},
     "output_type": "execute_result"
    }
   ],
   "source": [
    "X.shape"
   ]
  },
  {
   "cell_type": "code",
   "execution_count": 128,
   "metadata": {},
   "outputs": [],
   "source": [
    "Y=mlb.fit_transform(genres)"
   ]
  },
  {
   "cell_type": "code",
   "execution_count": 129,
   "metadata": {},
   "outputs": [
    {
     "data": {
      "text/plain": [
       "(1680, 20)"
      ]
     },
     "execution_count": 129,
     "metadata": {},
     "output_type": "execute_result"
    }
   ],
   "source": [
    "Y.shape"
   ]
  },
  {
   "cell_type": "code",
   "execution_count": 130,
   "metadata": {},
   "outputs": [],
   "source": [
    "textual_features=(X,Y)\n",
    "f9=open('textual_features.pckl','wb')\n",
    "pickle.dump(textual_features,f9)\n",
    "f9.close()"
   ]
  },
  {
   "cell_type": "code",
   "execution_count": 131,
   "metadata": {},
   "outputs": [],
   "source": [
    "# textual_features=(X,Y)\n",
    "f9=open('textual_features.pckl','rb')\n",
    "textual_features=pickle.load(f9)\n",
    "f9.close()"
   ]
  },
  {
   "cell_type": "code",
   "execution_count": 132,
   "metadata": {},
   "outputs": [],
   "source": [
    "(X,Y)=textual_features"
   ]
  },
  {
   "cell_type": "code",
   "execution_count": 133,
   "metadata": {},
   "outputs": [
    {
     "data": {
      "text/plain": [
       "(1680, 300)"
      ]
     },
     "execution_count": 133,
     "metadata": {},
     "output_type": "execute_result"
    }
   ],
   "source": [
    "X.shape"
   ]
  },
  {
   "cell_type": "code",
   "execution_count": 134,
   "metadata": {},
   "outputs": [
    {
     "data": {
      "text/plain": [
       "(1680, 20)"
      ]
     },
     "execution_count": 134,
     "metadata": {},
     "output_type": "execute_result"
    }
   ],
   "source": [
    "Y.shape"
   ]
  },
  {
   "cell_type": "code",
   "execution_count": 135,
   "metadata": {},
   "outputs": [],
   "source": [
    "mask_text=np.random.rand(len(X))<0.8"
   ]
  },
  {
   "cell_type": "code",
   "execution_count": 136,
   "metadata": {},
   "outputs": [],
   "source": [
    "X_train=X[mask_text]\n",
    "Y_train=Y[mask_text]\n",
    "X_test=X[~mask_text]\n",
    "Y_test=Y[~mask_text]"
   ]
  },
  {
   "cell_type": "markdown",
   "metadata": {},
   "source": [
    "Once again, we use a very similar, super simple architecture as before."
   ]
  },
  {
   "cell_type": "code",
   "execution_count": 137,
   "metadata": {},
   "outputs": [],
   "source": [
    "from keras.models import Sequential\n",
    "from keras.layers import Dense, Activation\n",
    "\n",
    "model_textual = Sequential([\n",
    "    Dense(300, input_shape=(300,)),\n",
    "    Activation('relu'),\n",
    "    Dense(20),\n",
    "    Activation('softmax'),\n",
    "])\n",
    "\n",
    "model_textual.compile(optimizer='rmsprop',\n",
    "              loss='binary_crossentropy',\n",
    "              metrics=['accuracy'])"
   ]
  },
  {
   "cell_type": "code",
   "execution_count": 138,
   "metadata": {},
   "outputs": [
    {
     "name": "stdout",
     "output_type": "stream",
     "text": [
      "Epoch 1/10\n",
      "1343/1343 [==============================] - 0s 113us/step - loss: 0.4787 - acc: 0.8518\n",
      "Epoch 2/10\n",
      "1343/1343 [==============================] - 0s 11us/step - loss: 0.4607 - acc: 0.8518\n",
      "Epoch 3/10\n",
      "1343/1343 [==============================] - 0s 8us/step - loss: 0.4511 - acc: 0.8518\n",
      "Epoch 4/10\n",
      "1343/1343 [==============================] - 0s 8us/step - loss: 0.4454 - acc: 0.8518\n",
      "Epoch 5/10\n",
      "1343/1343 [==============================] - 0s 7us/step - loss: 0.4406 - acc: 0.8518\n",
      "Epoch 6/10\n",
      "1343/1343 [==============================] - 0s 9us/step - loss: 0.4357 - acc: 0.8518\n",
      "Epoch 7/10\n",
      "1343/1343 [==============================] - 0s 7us/step - loss: 0.4312 - acc: 0.8518\n",
      "Epoch 8/10\n",
      "1343/1343 [==============================] - 0s 8us/step - loss: 0.4266 - acc: 0.8518\n",
      "Epoch 9/10\n",
      "1343/1343 [==============================] - 0s 8us/step - loss: 0.4224 - acc: 0.8518\n",
      "Epoch 10/10\n",
      "1343/1343 [==============================] - 0s 10us/step - loss: 0.4179 - acc: 0.8518\n"
     ]
    },
    {
     "data": {
      "text/plain": [
       "<keras.callbacks.History at 0x7f5c6ce1a4d0>"
      ]
     },
     "execution_count": 138,
     "metadata": {},
     "output_type": "execute_result"
    }
   ],
   "source": [
    "model_textual.fit(X_train, Y_train, epochs=10, batch_size=500)"
   ]
  },
  {
   "cell_type": "code",
   "execution_count": 139,
   "metadata": {},
   "outputs": [
    {
     "data": {
      "text/plain": [
       "<keras.callbacks.History at 0x7f5dc4ae4710>"
      ]
     },
     "execution_count": 139,
     "metadata": {},
     "output_type": "execute_result"
    }
   ],
   "source": [
    "model_textual.fit(X_train, Y_train, epochs=10000, batch_size=500,verbose=0)"
   ]
  },
  {
   "cell_type": "code",
   "execution_count": 140,
   "metadata": {},
   "outputs": [
    {
     "name": "stdout",
     "output_type": "stream",
     "text": [
      "337/337 [==============================] - 0s 128us/step\n"
     ]
    }
   ],
   "source": [
    "score = model_textual.evaluate(X_test, Y_test, batch_size=249)"
   ]
  },
  {
   "cell_type": "code",
   "execution_count": 141,
   "metadata": {},
   "outputs": [
    {
     "name": "stdout",
     "output_type": "stream",
     "text": [
      "acc: 86.84%\n"
     ]
    }
   ],
   "source": [
    "print(\"%s: %.2f%%\" % (model_textual.metrics_names[1], score[1]*100))"
   ]
  },
  {
   "cell_type": "code",
   "execution_count": 142,
   "metadata": {},
   "outputs": [],
   "source": [
    "Y_preds=model_textual.predict(X_test)"
   ]
  },
  {
   "cell_type": "code",
   "execution_count": 143,
   "metadata": {},
   "outputs": [],
   "source": [
    "genre_list.append(10769)"
   ]
  },
  {
   "cell_type": "code",
   "execution_count": 144,
   "metadata": {},
   "outputs": [
    {
     "name": "stdout",
     "output_type": "stream",
     "text": [
      "Our predictions for the movies are - \n",
      "\n",
      "Predicted:  ['Comedy', 'Action', 'Fantasy']  Actual:  ['Adventure', 'Fantasy', 'Action', 'Science Fiction']\n",
      "Predicted:  ['Animation', 'Adventure', 'Science Fiction']  Actual:  ['Adventure', 'Animation', 'Family']\n",
      "Predicted:  ['Fantasy', 'Comedy', 'Mystery']  Actual:  ['Horror']\n",
      "Predicted:  ['Romance', 'Crime', 'Drama']  Actual:  ['Drama', 'Comedy', 'Romance']\n",
      "Predicted:  ['Drama', 'Comedy', 'Crime']  Actual:  ['Adventure', 'Drama', 'Action', 'Comedy', 'Thriller', 'Crime']\n",
      "Predicted:  ['TV Movie', 'Drama', 'Mystery']  Actual:  ['Drama', 'Thriller', 'Mystery']\n",
      "Predicted:  ['Fantasy', 'Comedy', 'Family']  Actual:  ['Fantasy', 'Comedy', 'Family']\n"
     ]
    }
   ],
   "source": [
    "print \"Our predictions for the movies are - \\n\"\n",
    "precs=[]\n",
    "recs=[]\n",
    "for i in range(len(Y_preds)):\n",
    "    row=Y_preds[i]\n",
    "    gt_genres=Y_test[i]\n",
    "    gt_genre_names=[]\n",
    "    for j in range(20):\n",
    "        if gt_genres[j]==1:\n",
    "            gt_genre_names.append(Genre_ID_to_name[genre_list[j]])\n",
    "    top_3=np.argsort(row)[-3:]\n",
    "    predicted_genres=[]\n",
    "    for genre in top_3:\n",
    "        predicted_genres.append(Genre_ID_to_name[genre_list[genre]])\n",
    "    (precision,recall)=precision_recall(gt_genre_names,predicted_genres)\n",
    "    precs.append(precision)\n",
    "    recs.append(recall)\n",
    "    if i%50==0:\n",
    "        print \"Predicted: \",predicted_genres,\" Actual: \",gt_genre_names"
   ]
  },
  {
   "cell_type": "code",
   "execution_count": 145,
   "metadata": {},
   "outputs": [
    {
     "name": "stdout",
     "output_type": "stream",
     "text": [
      "0.4846686449060337 0.5318496538081108\n"
     ]
    }
   ],
   "source": [
    "print np.mean(np.asarray(precs)),np.mean(np.asarray(recs))"
   ]
  },
  {
   "cell_type": "markdown",
   "metadata": {},
   "source": [
    "Even without much tuning of the above model, these results are able to beat our previous results. \n",
    "\n",
    "Note - I got accuracies as high as 78% when doing classification using plots scraped from Wikipedia. The large amount of information was very suitable for movie genre classification with a deep model. Strongly suggest you to try playing around with architectures."
   ]
  },
  {
   "cell_type": "markdown",
   "metadata": {},
   "source": [
    "# Section 9 - Upcoming Tutorials and Acknowledgements\n",
    "\n",
    "Congrats! This is the end of our pilot project! Needless to say, a lot of the above content may be new to you, or may be things that you know very well. If it's the former, I hope this tutorial would have helped you. If it is the latter and you think I wrote something incorrect or that my understanding can be improved, feel free to create a github issue so that I can correct it! \n",
    "\n",
    "Writing tutorials can take a lot of time, but it is a great learning experience. I am currently working on a tutorial focussing on word embeddings, which will explore word2vec and other word embeddings in detail. While it will take some time to be up, I will post a link to it's repository on the README for this project so that interested readers can find it.\n",
    "\n",
    "I would like to thank a few of my friends who had an indispensible role to play in me making this tutorial. Firstly, Professor Hanspeter Pfister and Verena Kaynig at Harvard, who helped guide this tutorial/project and scope it. Secondly, my friends Sahil Loomba and Matthew Tancik for their suggestions and editing the material and the presentation of the storyline. Thirdly, Zoya Bylinskii at MIT for constantly motivating me to put in my effort into this tutorial. Finally, all others who helped me feel confident enough to take up this task and to see it till the end. Thanks all of you!"
   ]
  },
  {
   "cell_type": "code",
   "execution_count": null,
   "metadata": {},
   "outputs": [],
   "source": []
  }
 ],
 "metadata": {
  "kernelspec": {
   "display_name": "Python 2",
   "language": "python",
   "name": "python2"
  },
  "language_info": {
   "codemirror_mode": {
    "name": "ipython",
    "version": 2
   },
   "file_extension": ".py",
   "mimetype": "text/x-python",
   "name": "python",
   "nbconvert_exporter": "python",
   "pygments_lexer": "ipython2",
   "version": "2.7.12"
  }
 },
 "nbformat": 4,
 "nbformat_minor": 1
}
